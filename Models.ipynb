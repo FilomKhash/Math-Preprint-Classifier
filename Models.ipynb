{
 "cells": [
  {
   "cell_type": "markdown",
   "id": "2d5f39e2",
   "metadata": {},
   "source": [
    "In this notebook, we begin to work with the data that we scraped from arXiv and then preprocessed in `Scarping and Cleaning the Data.ipynb`. The ultimate goal is to predict the 3-character [MSC (Mathematical Subject Classification)](https://mathscinet.ams.org/mathscinet/msc/msc2020.html) classes for a preprint based on its cleaned title.<a name=\"cite_ref-a\"></a>[<sup>*</sup>](#cite_note-a) This turns out to be a multi-label text classification task. \n",
    "\n",
    "More precisely, here, we will:\n",
    "1) explore and visualize the data;\n",
    "2) encode the labels; \n",
    "3) split into the training and test sets via [stratified sampling for multi-label data](https://link.springer.com/chapter/10.1007/978-3-642-23808-6_10);\n",
    "4) vectrozie the text data with [TF-IDF (Term Frequency-Inverse Document Frequency)](https://en.wikipedia.org/wiki/Tf%E2%80%93idf);\n",
    "5) train some basic classifiers. \n",
    "\n",
    "<a name=\"cite_note-a\"></a>[*](#cite_ref-a) Our data has other attributes as well, such as primary arXiv category, authors' names etc."
   ]
  },
  {
   "cell_type": "code",
   "execution_count": 1,
   "id": "30f9cf47",
   "metadata": {},
   "outputs": [],
   "source": [
    "import pandas as pd\n",
    "import matplotlib.pyplot as plt\n",
    "import numpy as np\n",
    "\n",
    "import json\n",
    "\n",
    "from sklearn.preprocessing import OneHotEncoder\n",
    "from sklearn.model_selection import train_test_split\n",
    "from sklearn.model_selection import cross_validate\n",
    "from sklearn.feature_extraction.text import TfidfVectorizer\n",
    "from sklearn.multiclass import OneVsRestClassifier\n",
    "\n",
    "from sklearn.ensemble import RandomForestClassifier\n",
    "from sklearn.svm import LinearSVC\n",
    "\n",
    "from sklearn.metrics import accuracy_score\n",
    "from sklearn.metrics import f1_score\n",
    "from sklearn.metrics import hamming_loss\n",
    "\n",
    "\n",
    "#stratified.py is imported (from the same folder) for multi-label stratified sampling. \n",
    "#The short python code is based on the iterstrat library.\n",
    "from stratified import multilabel_train_test_split\n",
    "\n",
    "\n",
    "from scipy import sparse"
   ]
  },
  {
   "cell_type": "markdown",
   "id": "cd434247",
   "metadata": {},
   "source": [
    "We first load the data. Among the columns, we only keep `primary_category`, `cleaned_title` and `MSC`."
   ]
  },
  {
   "cell_type": "code",
   "execution_count": 2,
   "id": "ac770893",
   "metadata": {},
   "outputs": [
    {
     "data": {
      "text/html": [
       "<div>\n",
       "<style scoped>\n",
       "    .dataframe tbody tr th:only-of-type {\n",
       "        vertical-align: middle;\n",
       "    }\n",
       "\n",
       "    .dataframe tbody tr th {\n",
       "        vertical-align: top;\n",
       "    }\n",
       "\n",
       "    .dataframe thead th {\n",
       "        text-align: right;\n",
       "    }\n",
       "</style>\n",
       "<table border=\"1\" class=\"dataframe\">\n",
       "  <thead>\n",
       "    <tr style=\"text-align: right;\">\n",
       "      <th></th>\n",
       "      <th>primary_category</th>\n",
       "      <th>cleaned_title</th>\n",
       "      <th>MSC</th>\n",
       "    </tr>\n",
       "  </thead>\n",
       "  <tbody>\n",
       "    <tr>\n",
       "      <th>0</th>\n",
       "      <td>math.NA</td>\n",
       "      <td>quasi monoton robust local continu piecewis po...</td>\n",
       "      <td>[65N, 41A]</td>\n",
       "    </tr>\n",
       "    <tr>\n",
       "      <th>1</th>\n",
       "      <td>math.AT</td>\n",
       "      <td>higher structur ration homotopi theori</td>\n",
       "      <td>[55S, 16S, 18M, 18G, 55R, 55P, 55Q]</td>\n",
       "    </tr>\n",
       "    <tr>\n",
       "      <th>2</th>\n",
       "      <td>math.QA</td>\n",
       "      <td>indecompos involut solut yang baxt equat finit...</td>\n",
       "      <td>[81R, 16T, 20E, 20N]</td>\n",
       "    </tr>\n",
       "    <tr>\n",
       "      <th>3</th>\n",
       "      <td>math.QA</td>\n",
       "      <td>kashiwara vergn solut degre degre</td>\n",
       "      <td>[57K, 17B]</td>\n",
       "    </tr>\n",
       "    <tr>\n",
       "      <th>4</th>\n",
       "      <td>math.QA</td>\n",
       "      <td>tetrahedron equat quantum cluster algebra</td>\n",
       "      <td>[81R, 82B, 13F]</td>\n",
       "    </tr>\n",
       "  </tbody>\n",
       "</table>\n",
       "</div>"
      ],
      "text/plain": [
       "  primary_category                                      cleaned_title  \\\n",
       "0          math.NA  quasi monoton robust local continu piecewis po...   \n",
       "1          math.AT             higher structur ration homotopi theori   \n",
       "2          math.QA  indecompos involut solut yang baxt equat finit...   \n",
       "3          math.QA                  kashiwara vergn solut degre degre   \n",
       "4          math.QA          tetrahedron equat quantum cluster algebra   \n",
       "\n",
       "                                   MSC  \n",
       "0                           [65N, 41A]  \n",
       "1  [55S, 16S, 18M, 18G, 55R, 55P, 55Q]  \n",
       "2                 [81R, 16T, 20E, 20N]  \n",
       "3                           [57K, 17B]  \n",
       "4                      [81R, 82B, 13F]  "
      ]
     },
     "execution_count": 2,
     "metadata": {},
     "output_type": "execute_result"
    }
   ],
   "source": [
    "data=pd.read_csv('./data/data.csv',index_col=False)\n",
    "data=data[['primary_category','cleaned_title','MSC']]\n",
    "\n",
    "#While loading, the lists under the MSC column are loaded as strings. They should be turned back into lists.\n",
    "data['MSC']=data['MSC'].apply(lambda x:eval(x))\n",
    "data.head()"
   ]
  },
  {
   "cell_type": "markdown",
   "id": "0b1c02cc",
   "metadata": {},
   "source": [
    "Starting data visualization: which primary categories have been most prevalent? "
   ]
  },
  {
   "cell_type": "code",
   "execution_count": 3,
   "id": "f44d3e90",
   "metadata": {},
   "outputs": [
    {
     "data": {
      "image/png": "[encoded data removed]",
      "text/plain": [
       "<Figure size 1000x400 with 1 Axes>"
      ]
     },
     "metadata": {},
     "output_type": "display_data"
    }
   ],
   "source": [
    "fig=plt.figure(figsize=(10,4))\n",
    "ax=fig.add_subplot(1,1,1)\n",
    "\n",
    "#Top 10 most frequent primary categories (bar chart)\n",
    "ax.bar(x=data['primary_category'].value_counts().head(10).index, \n",
    "        height=data['primary_category'].value_counts().head(10),width=0.4)\n",
    "ax.set_title('Top ten most frequent primary categories')\n",
    "\n",
    "plt.show()"
   ]
  },
  {
   "cell_type": "markdown",
   "id": "933ed16b",
   "metadata": {},
   "source": [
    "The labels (MSC classes) should be encoded. As we go over the data frame to do so, we also form a dictionary of different words constituting the titles along with their multiplicities. "
   ]
  },
  {
   "cell_type": "code",
   "execution_count": 4,
   "id": "6062728f",
   "metadata": {
    "scrolled": false
   },
   "outputs": [
    {
     "name": "stdout",
     "output_type": "stream",
     "text": [
      "The number of different labels is 532.\n",
      "\n",
      "The average number of labels per entry is 2.37.\n"
     ]
    },
    {
     "data": {
      "text/html": [
       "<div>\n",
       "<style scoped>\n",
       "    .dataframe tbody tr th:only-of-type {\n",
       "        vertical-align: middle;\n",
       "    }\n",
       "\n",
       "    .dataframe tbody tr th {\n",
       "        vertical-align: top;\n",
       "    }\n",
       "\n",
       "    .dataframe thead th {\n",
       "        text-align: right;\n",
       "    }\n",
       "</style>\n",
       "<table border=\"1\" class=\"dataframe\">\n",
       "  <thead>\n",
       "    <tr style=\"text-align: right;\">\n",
       "      <th></th>\n",
       "      <th>primary_category</th>\n",
       "      <th>cleaned_title</th>\n",
       "      <th>65N</th>\n",
       "      <th>41A</th>\n",
       "      <th>55S</th>\n",
       "      <th>16S</th>\n",
       "      <th>18M</th>\n",
       "      <th>18G</th>\n",
       "      <th>55R</th>\n",
       "      <th>55P</th>\n",
       "      <th>...</th>\n",
       "      <th>54J</th>\n",
       "      <th>62Q</th>\n",
       "      <th>76Y</th>\n",
       "      <th>76V</th>\n",
       "      <th>74L</th>\n",
       "      <th>76X</th>\n",
       "      <th>76Q</th>\n",
       "      <th>51L</th>\n",
       "      <th>76H</th>\n",
       "      <th>76K</th>\n",
       "    </tr>\n",
       "  </thead>\n",
       "  <tbody>\n",
       "    <tr>\n",
       "      <th>0</th>\n",
       "      <td>math.NA</td>\n",
       "      <td>quasi monoton robust local continu piecewis po...</td>\n",
       "      <td>1</td>\n",
       "      <td>1</td>\n",
       "      <td>0</td>\n",
       "      <td>0</td>\n",
       "      <td>0</td>\n",
       "      <td>0</td>\n",
       "      <td>0</td>\n",
       "      <td>0</td>\n",
       "      <td>...</td>\n",
       "      <td>0</td>\n",
       "      <td>0</td>\n",
       "      <td>0</td>\n",
       "      <td>0</td>\n",
       "      <td>0</td>\n",
       "      <td>0</td>\n",
       "      <td>0</td>\n",
       "      <td>0</td>\n",
       "      <td>0</td>\n",
       "      <td>0</td>\n",
       "    </tr>\n",
       "    <tr>\n",
       "      <th>1</th>\n",
       "      <td>math.AT</td>\n",
       "      <td>higher structur ration homotopi theori</td>\n",
       "      <td>0</td>\n",
       "      <td>0</td>\n",
       "      <td>1</td>\n",
       "      <td>1</td>\n",
       "      <td>1</td>\n",
       "      <td>1</td>\n",
       "      <td>1</td>\n",
       "      <td>1</td>\n",
       "      <td>...</td>\n",
       "      <td>0</td>\n",
       "      <td>0</td>\n",
       "      <td>0</td>\n",
       "      <td>0</td>\n",
       "      <td>0</td>\n",
       "      <td>0</td>\n",
       "      <td>0</td>\n",
       "      <td>0</td>\n",
       "      <td>0</td>\n",
       "      <td>0</td>\n",
       "    </tr>\n",
       "    <tr>\n",
       "      <th>2</th>\n",
       "      <td>math.QA</td>\n",
       "      <td>indecompos involut solut yang baxt equat finit...</td>\n",
       "      <td>0</td>\n",
       "      <td>0</td>\n",
       "      <td>0</td>\n",
       "      <td>0</td>\n",
       "      <td>0</td>\n",
       "      <td>0</td>\n",
       "      <td>0</td>\n",
       "      <td>0</td>\n",
       "      <td>...</td>\n",
       "      <td>0</td>\n",
       "      <td>0</td>\n",
       "      <td>0</td>\n",
       "      <td>0</td>\n",
       "      <td>0</td>\n",
       "      <td>0</td>\n",
       "      <td>0</td>\n",
       "      <td>0</td>\n",
       "      <td>0</td>\n",
       "      <td>0</td>\n",
       "    </tr>\n",
       "    <tr>\n",
       "      <th>3</th>\n",
       "      <td>math.QA</td>\n",
       "      <td>kashiwara vergn solut degre degre</td>\n",
       "      <td>0</td>\n",
       "      <td>0</td>\n",
       "      <td>0</td>\n",
       "      <td>0</td>\n",
       "      <td>0</td>\n",
       "      <td>0</td>\n",
       "      <td>0</td>\n",
       "      <td>0</td>\n",
       "      <td>...</td>\n",
       "      <td>0</td>\n",
       "      <td>0</td>\n",
       "      <td>0</td>\n",
       "      <td>0</td>\n",
       "      <td>0</td>\n",
       "      <td>0</td>\n",
       "      <td>0</td>\n",
       "      <td>0</td>\n",
       "      <td>0</td>\n",
       "      <td>0</td>\n",
       "    </tr>\n",
       "    <tr>\n",
       "      <th>4</th>\n",
       "      <td>math.QA</td>\n",
       "      <td>tetrahedron equat quantum cluster algebra</td>\n",
       "      <td>0</td>\n",
       "      <td>0</td>\n",
       "      <td>0</td>\n",
       "      <td>0</td>\n",
       "      <td>0</td>\n",
       "      <td>0</td>\n",
       "      <td>0</td>\n",
       "      <td>0</td>\n",
       "      <td>...</td>\n",
       "      <td>0</td>\n",
       "      <td>0</td>\n",
       "      <td>0</td>\n",
       "      <td>0</td>\n",
       "      <td>0</td>\n",
       "      <td>0</td>\n",
       "      <td>0</td>\n",
       "      <td>0</td>\n",
       "      <td>0</td>\n",
       "      <td>0</td>\n",
       "    </tr>\n",
       "  </tbody>\n",
       "</table>\n",
       "<p>5 rows × 534 columns</p>\n",
       "</div>"
      ],
      "text/plain": [
       "  primary_category                                      cleaned_title  65N  \\\n",
       "0          math.NA  quasi monoton robust local continu piecewis po...    1   \n",
       "1          math.AT             higher structur ration homotopi theori    0   \n",
       "2          math.QA  indecompos involut solut yang baxt equat finit...    0   \n",
       "3          math.QA                  kashiwara vergn solut degre degre    0   \n",
       "4          math.QA          tetrahedron equat quantum cluster algebra    0   \n",
       "\n",
       "   41A  55S  16S  18M  18G  55R  55P  ...  54J  62Q  76Y  76V  74L  76X  76Q  \\\n",
       "0    1    0    0    0    0    0    0  ...    0    0    0    0    0    0    0   \n",
       "1    0    1    1    1    1    1    1  ...    0    0    0    0    0    0    0   \n",
       "2    0    0    0    0    0    0    0  ...    0    0    0    0    0    0    0   \n",
       "3    0    0    0    0    0    0    0  ...    0    0    0    0    0    0    0   \n",
       "4    0    0    0    0    0    0    0  ...    0    0    0    0    0    0    0   \n",
       "\n",
       "   51L  76H  76K  \n",
       "0    0    0    0  \n",
       "1    0    0    0  \n",
       "2    0    0    0  \n",
       "3    0    0    0  \n",
       "4    0    0    0  \n",
       "\n",
       "[5 rows x 534 columns]"
      ]
     },
     "execution_count": 4,
     "metadata": {},
     "output_type": "execute_result"
    }
   ],
   "source": [
    "#To record the number of occurances of each class. \n",
    "dict_MSC={}\n",
    "num_labels=[]\n",
    "total_num_labels=0\n",
    "\n",
    "#To recored the number of occurences of each word.\n",
    "dict_words={}\n",
    "\n",
    "for row in range(data.shape[0]):\n",
    "    classes=data['MSC'][row]\n",
    "    temp=len(classes)\n",
    "    num_labels+=[temp]\n",
    "    total_num_labels+=temp\n",
    "    for MSC in classes:\n",
    "        if MSC in dict_MSC.keys():\n",
    "            dict_MSC[MSC]+=1\n",
    "        else:\n",
    "            dict_MSC[MSC]=1\n",
    "\n",
    "print(f'The number of different labels is {len(dict_MSC)}.\\n')\n",
    "print(f'The average number of labels per entry is {round(total_num_labels/data.shape[0],2)}.')\n",
    "\n",
    "\n",
    "data=pd.concat((data,pd.DataFrame(data=0,index=np.arange(data.shape[0]),\n",
    "                             columns=list(dict_MSC.keys()))),\n",
    "                            axis=1)\n",
    "\n",
    "for row in range(data.shape[0]):\n",
    "    \n",
    "    words=data['cleaned_title'][row].split(' ')      #The titles are cleaned, no consecutive spaces.\n",
    "    for word in words: \n",
    "        if word in dict_words.keys():\n",
    "            dict_words[word]+=1\n",
    "        else:\n",
    "            dict_words[word]=1\n",
    "                \n",
    "    classes=data['MSC'][row]\n",
    "    for MSC in classes:\n",
    "        data.at[row,MSC]=1\n",
    "\n",
    "data.drop(columns=['MSC'],inplace=True)\n",
    "\n",
    "data.head()"
   ]
  },
  {
   "cell_type": "markdown",
   "id": "b8bdca7f",
   "metadata": {},
   "source": [
    "Visualizing the most common labels (MSC classes). "
   ]
  },
  {
   "cell_type": "code",
   "execution_count": 5,
   "id": "6830baea",
   "metadata": {},
   "outputs": [
    {
     "data": {
      "image/png": "[encoded data removed]",
      "text/plain": [
       "<Figure size 1000x400 with 2 Axes>"
      ]
     },
     "metadata": {},
     "output_type": "display_data"
    }
   ],
   "source": [
    "fig=plt.figure(figsize=(10,4))\n",
    "\n",
    "\n",
    "#Top 10 most frequent MSC classes (bar chart)\n",
    "ax1=fig.add_subplot(3,1,1)\n",
    "top_index=np.argsort(-np.asarray(list(dict_MSC.values())))[0:15]\n",
    "ax1.bar(x=np.asarray(list(dict_MSC.keys()))[top_index],\n",
    "        height=np.asarray(list(dict_MSC.values()))[top_index],width=0.4)\n",
    "ax1.set_title('Top fifteen most frequent labels')\n",
    "\n",
    "#Number of labels (histogram)\n",
    "ax2=fig.add_subplot(3,1,3)\n",
    "ax2.hist(num_labels)\n",
    "ax2.locator_params(axis='x', integer=True)\n",
    "ax2.set_title('Histogram for the number of distinct labels')\n",
    "\n",
    "plt.show()"
   ]
  },
  {
   "cell_type": "markdown",
   "id": "87be6533",
   "metadata": {},
   "source": [
    "There may be labels that occur only once throughout the data. Then one of the training or test datasets will lack that label. To avoind this, we drop such labels along with instances whose only label is such a thing (in necessary)."
   ]
  },
  {
   "cell_type": "code",
   "execution_count": 6,
   "id": "d964e70a",
   "metadata": {},
   "outputs": [
    {
     "name": "stdout",
     "output_type": "stream",
     "text": [
      "MSC classes that happen only once are: 76K 83B\n",
      "\n",
      "No need to drop any rows.\n"
     ]
    }
   ],
   "source": [
    "MSC_only_once=[]\n",
    "ascending=np.argsort(np.asarray(list(dict_MSC.values())))\n",
    "for arg in ascending:\n",
    "    if np.asarray(list(dict_MSC.values()))[arg]==1:\n",
    "        MSC_only_once+=[np.asarray(list(dict_MSC.keys()))[arg]]\n",
    "    else:\n",
    "        break\n",
    "\n",
    "print('MSC classes that happen only once are:', *MSC_only_once)\n",
    "\n",
    "data.drop(columns=MSC_only_once,inplace=True)\n",
    "\n",
    "if data[(data.iloc[:,2:]==0).all(axis=1)].shape[0]==0:\n",
    "    print('\\nNo need to drop any rows.')\n",
    "else: \n",
    "    drop_index=data[(data.iloc[:,2:]==0).all(axis=1)].index\n",
    "    data.drop(columns=MSC_only_once,inplace=True)\n",
    "    print(f'\\nThe number of rows dropped is {drop_index.shape[0]}')\n",
    "\n",
    "\n",
    "#Saving the encoded data in a compressed form.     \n",
    "data.to_csv('./data/data_encoded.csv',compression='zip',index=False)"
   ]
  },
  {
   "cell_type": "markdown",
   "id": "104f2558",
   "metadata": {},
   "source": [
    "We next look at the cleaned titles (to be used as the input text data). How many words appear in them? Which words have been most common?"
   ]
  },
  {
   "cell_type": "code",
   "execution_count": 7,
   "id": "e1dbd037",
   "metadata": {
    "scrolled": false
   },
   "outputs": [
    {
     "name": "stdout",
     "output_type": "stream",
     "text": [
      "The total number of words appearing in cleaned titles is 26222.\n",
      "\n",
      "The average number of words per cleaned title is 6.48.\n"
     ]
    },
    {
     "data": {
      "image/png": "[encoded data removed]",
      "text/plain": [
       "<Figure size 1000x400 with 2 Axes>"
      ]
     },
     "metadata": {},
     "output_type": "display_data"
    }
   ],
   "source": [
    "print(f'The total number of words appearing in cleaned titles is {len(dict_words)}.\\n')\n",
    "\n",
    "num_words=data['cleaned_title'].apply(lambda x:len(x.split(' ')))\n",
    "\n",
    "print(f'The average number of words per cleaned title is {round(num_words.mean(),2)}.')\n",
    "\n",
    "fig=plt.figure(figsize=(10,4))\n",
    "ax1=fig.add_subplot(3,1,1)\n",
    "\n",
    "#Top 10 most frequent primary categories (bar chart)\n",
    "top_index=np.argsort(-np.asarray(list(dict_words.values())))[0:10]\n",
    "ax1.bar(x=np.asarray(list(dict_words.keys()))[top_index],\n",
    "        height=np.asarray(list(dict_words.values()))[top_index],width=0.4)\n",
    "ax1.set_title('Top ten most frequent words')\n",
    "\n",
    "\n",
    "ax2=fig.add_subplot(3,1,3)\n",
    "\n",
    "#Number of constituent words (histogram)\n",
    "ax2.hist(num_words)\n",
    "ax2.locator_params(axis='x', integer=True)\n",
    "ax2.set_title('Histogram for the number of words per cleaned title')\n",
    "\n",
    "plt.show()"
   ]
  },
  {
   "cell_type": "markdown",
   "id": "a7514051",
   "metadata": {},
   "source": [
    "Stratified splitting of the data into training and test sets based on the [iterative-stratification](https://github.com/trent-b/iterative-stratification) library. We save the corresponding row indices for future use. "
   ]
  },
  {
   "cell_type": "code",
   "execution_count": 8,
   "id": "5275ffed",
   "metadata": {},
   "outputs": [
    {
     "name": "stdout",
     "output_type": "stream",
     "text": [
      "The number of training instances: 104129\n",
      "The number of test instances: 44735\n"
     ]
    }
   ],
   "source": [
    "X_train, X_test, y_train, y_test = multilabel_train_test_split(data['cleaned_title'],\n",
    "                                                               data.iloc[:,2:],stratify=data.iloc[:,2:], \n",
    "                                                               test_size=0.3, random_state=1)\n",
    "\n",
    "train_index=np.asarray(X_train.index).tolist()\n",
    "print(f'The number of training instances: {len(train_index)}')\n",
    "with open('./data/train_index.json','w') as file:\n",
    "    json.dump(train_index,file)\n",
    "\n",
    "test_index=np.asarray(X_test.index).tolist()\n",
    "print(f'The number of test instances: {len(test_index)}')\n",
    "with open('./data/test_index.json','w') as file:\n",
    "    json.dump(test_index,file)"
   ]
  },
  {
   "cell_type": "markdown",
   "id": "f9bd4a64",
   "metadata": {},
   "source": [
    "Are different labels (MSC classes) distributed proportionally between the training and test sets? Bar charts for the relative frequency of top MSC classes."
   ]
  },
  {
   "cell_type": "code",
   "execution_count": 9,
   "id": "afb630cc",
   "metadata": {
    "scrolled": false
   },
   "outputs": [
    {
     "data": {
      "image/png": "[encoded data removed]",
      "text/plain": [
       "<Figure size 1000x400 with 1 Axes>"
      ]
     },
     "metadata": {},
     "output_type": "display_data"
    }
   ],
   "source": [
    "top_index=np.argsort(-np.asarray(list(dict_MSC.values())))[0:15]\n",
    "top_MSC=np.asarray(list(dict_MSC.keys()))[top_index]\n",
    "\n",
    "\n",
    "ind=np.arange(15)\n",
    "width=0.2\n",
    "\n",
    "fig=plt.figure(figsize=(10,4))\n",
    "ax=fig.add_subplot(111)\n",
    "ax.bar(x=ind, height=y_train[top_MSC].sum(axis=0)/y_train.shape[0], width=width, color='r')\n",
    "ax.bar(x=ind+width, height=y_test[top_MSC].sum(axis=0)/y_test.shape[0], width=width, color='g')\n",
    "ax.set_xticks(ind+width)\n",
    "ax.set_xticklabels(top_MSC)\n",
    "\n",
    "ax.set_title(\"Frequencies of top fifteen labels normalized by the dataset's size\")\n",
    "ax.legend(('Training set','Test set'))\n",
    "\n",
    "plt.show()"
   ]
  },
  {
   "cell_type": "markdown",
   "id": "9d396bd1",
   "metadata": {},
   "source": [
    "There have been machine learning projects, such as the [arXiv Classifier](https://github.com/arXiv/arxiv-classifier/), aimed at predicting a preprint's primary arXiv category. But our goal is to predict MSC classes which are intuitively finer (multiple MSC classes exist for each math subject). Before proceeding with predicting MSC classes based on preprints' title, we show that, with reasonable accuracy, the primary category can be predicted based on MSC classes with a simple multi-class classifier. "
   ]
  },
  {
   "cell_type": "code",
   "execution_count": 10,
   "id": "12c49605",
   "metadata": {},
   "outputs": [
    {
     "name": "stdout",
     "output_type": "stream",
     "text": [
      "Metrics for predicting the primary arXiv category based on MSC classes:\n",
      "\n",
      " Train Accuracy: 82.43%\n",
      " Train F1-score macro: 66.46%\n",
      " Train F1-score micro: 82.43%\n",
      " Train F1-score weighted: 82.17%\n",
      " \n",
      " Test Accuracy:  66.76%\n",
      " Test F1-score macro: 22.62%\n",
      " Test F1-score micro: 66.76%\n",
      " Test F1-score weighted: 65.92%\n"
     ]
    }
   ],
   "source": [
    "X_train_CatPred=sparse.csr_matrix(data.iloc[train_index,3:])\n",
    "y_train_CatPred=data.iloc[train_index,:]['primary_category']\n",
    "\n",
    "X_test_CatPred=sparse.csr_matrix(data.iloc[test_index,3:])\n",
    "y_test_CatPred=data.iloc[test_index,:]['primary_category']\n",
    "\n",
    "\n",
    "clf_CatPred=OneVsRestClassifier(RandomForestClassifier(n_estimators=20,random_state=999),n_jobs=-1)\n",
    "clf_CatPred.fit(X_train_CatPred,y_train_CatPred)\n",
    "\n",
    "y_pred_train=clf_CatPred.predict(X_train_CatPred)\n",
    "y_pred=clf_CatPred.predict(X_test_CatPred)\n",
    "\n",
    "print('Metrics for predicting the primary arXiv category based on MSC classes:\\n')\n",
    "print(f' Train Accuracy: {round(100*accuracy_score(y_train_CatPred, y_pred_train, normalize=True),2)}%')\n",
    "print(f\" Train F1-score macro: {round(100*f1_score(y_train_CatPred, y_pred_train, average='macro'),2)}%\")\n",
    "print(f\" Train F1-score micro: {round(100*f1_score(y_train_CatPred, y_pred_train, average='micro'),2)}%\")\n",
    "print(f\" Train F1-score weighted: {round(100*f1_score(y_train_CatPred, y_pred_train, average='weighted'),2)}%\")\n",
    "\n",
    "\n",
    "\n",
    "print(f' \\n Test Accuracy:  {round(100*accuracy_score(y_test_CatPred, y_pred, normalize=True),2)}%')\n",
    "print(f\" Test F1-score macro: {round(100*f1_score(y_test_CatPred, y_pred, average='macro'),2)}%\")\n",
    "print(f\" Test F1-score micro: {round(100*f1_score(y_test_CatPred, y_pred, average='micro'),2)}%\")\n",
    "print(f\" Test F1-score weighted: {round(100*f1_score(y_test_CatPred, y_pred, average='weighted'),2)}%\")"
   ]
  },
  {
   "cell_type": "markdown",
   "id": "2c582099",
   "metadata": {},
   "source": [
    "Next, we disregard the column `primary_category` and proceed with training a model for predicting MSC classes based on the text data under the column `cleaned_title`. First, the text data will be vectorized. "
   ]
  },
  {
   "cell_type": "code",
   "execution_count": 11,
   "id": "8969771b",
   "metadata": {},
   "outputs": [
    {
     "name": "stdout",
     "output_type": "stream",
     "text": [
      "The shapes of X_train and X_test (after encoding): (104129, 285754) and  (44735, 285754)\n",
      "\n",
      "The shapes of y_train and y_test: (104129, 530) and  (44735, 530)\n"
     ]
    }
   ],
   "source": [
    "vectorizer = TfidfVectorizer(ngram_range=(1,2))\n",
    "X_train = vectorizer.fit_transform(X_train)\n",
    "X_test = vectorizer.transform(X_test)\n",
    "\n",
    "y_train=sparse.csr_matrix(y_train)\n",
    "y_test=sparse.csr_matrix(y_test)\n",
    "\n",
    "print(f'The shapes of X_train and X_test (after encoding): {X_train.shape} and  {X_test.shape}\\n')\n",
    "print(f'The shapes of y_train and y_test: {y_train.shape} and  {y_test.shape}')"
   ]
  },
  {
   "cell_type": "markdown",
   "id": "c701b855",
   "metadata": {},
   "source": [
    "Start with linear SVM classifier. "
   ]
  },
  {
   "cell_type": "code",
   "execution_count": 12,
   "id": "6de3f313",
   "metadata": {},
   "outputs": [
    {
     "name": "stdout",
     "output_type": "stream",
     "text": [
      "Metrics for predicting the primary arXiv category based on MSC classes:\n",
      "\n",
      " Train Accuracy: 91.39%\n",
      " Train F1-score macro: 97.65%\n",
      " Train F1-score micro: 97.4%\n",
      " Train F1-score weighted: 97.39%\n",
      " Train Hamming loss: 0.00022713118724107997\n",
      " \n",
      " Test Accuracy:  14.19%\n",
      " Test F1-score macro: 21.83%\n",
      " Test F1-score micro: 38.23%\n",
      " Test F1-score weighted: 36.17%\n",
      " Test Hamming loss: 0.003818630045698885\n"
     ]
    }
   ],
   "source": [
    "clf= OneVsRestClassifier(LinearSVC(random_state=123),n_jobs=-1)\n",
    "\n",
    "clf.fit(X_train, y_train)\n",
    "\n",
    "\n",
    "y_pred_train=clf.predict(X_train)\n",
    "y_pred=clf.predict(X_test)\n",
    "\n",
    "\n",
    "print('Metrics for predicting the primary arXiv category based on MSC classes:\\n')\n",
    "print(f' Train Accuracy: {round(100*accuracy_score(y_train, y_pred_train, normalize=True),2)}%')\n",
    "print(f\" Train F1-score macro: {round(100*f1_score(y_train, y_pred_train, average='macro'),2)}%\")\n",
    "print(f\" Train F1-score micro: {round(100*f1_score(y_train, y_pred_train, average='micro'),2)}%\")\n",
    "print(f\" Train F1-score weighted: {round(100*f1_score(y_train, y_pred_train, average='weighted'),2)}%\")\n",
    "print(f' Train Hamming loss: {hamming_loss(y_train, y_pred_train)}')\n",
    "\n",
    "\n",
    "\n",
    "print(f' \\n Test Accuracy:  {round(100*accuracy_score(y_test, y_pred, normalize=True),2)}%')\n",
    "print(f\" Test F1-score macro: {round(100*f1_score(y_test, y_pred, average='macro'),2)}%\")\n",
    "print(f\" Test F1-score micro: {round(100*f1_score(y_test, y_pred, average='micro'),2)}%\")\n",
    "print(f\" Test F1-score weighted: {round(100*f1_score(y_test, y_pred, average='weighted'),2)}%\") \n",
    "print(f' Test Hamming loss: {hamming_loss(y_test, y_pred)}') "
   ]
  },
  {
   "cell_type": "markdown",
   "id": "6fff2aac",
   "metadata": {},
   "source": [
    "We observe overfit. Let's use cross-validation to remedy this. "
   ]
  },
  {
   "cell_type": "code",
   "execution_count": 13,
   "id": "2e7f27c9",
   "metadata": {},
   "outputs": [
    {
     "name": "stdout",
     "output_type": "stream",
     "text": [
      "Metrics for predicting the primary arXiv category based on MSC classes:\n",
      "\n",
      " Train Accuracy: 84.18%\n",
      " Train F1-score macro: 93.02%\n",
      " Train F1-score micro: 93.26%\n",
      " Train F1-score weighted: 93.15%\n",
      " Train Hamming loss: 0.0005698302015442747\n",
      " \n",
      " Test Accuracy:  13.68%\n",
      " Test F1-score macro: 21.07%\n",
      " Test F1-score micro: 37.25%\n",
      " Test F1-score weighted: 35.17%\n",
      " Test Hamming loss: 0.0038430084080043696\n"
     ]
    }
   ],
   "source": [
    "cvmodel=cross_validate(estimator=clf,X=X_train,y=y_train,cv=10,\n",
    "              return_estimator=True,scoring='accuracy')\n",
    "best_score_index=np.argsort(-cvmodel['test_score'])[0]\n",
    "clf_cv=cvmodel['estimator'][best_score_index]\n",
    "\n",
    "y_pred_train=clf_cv.predict(X_train)\n",
    "y_pred=clf_cv.predict(X_test)\n",
    "\n",
    "print('Metrics for predicting the primary arXiv category based on MSC classes:\\n')\n",
    "print(f' Train Accuracy: {round(100*accuracy_score(y_train, y_pred_train, normalize=True),2)}%')\n",
    "print(f\" Train F1-score macro: {round(100*f1_score(y_train, y_pred_train, average='macro'),2)}%\")\n",
    "print(f\" Train F1-score micro: {round(100*f1_score(y_train, y_pred_train, average='micro'),2)}%\")\n",
    "print(f\" Train F1-score weighted: {round(100*f1_score(y_train, y_pred_train, average='weighted'),2)}%\")\n",
    "print(f' Train Hamming loss: {hamming_loss(y_train, y_pred_train)}')\n",
    "\n",
    "\n",
    "\n",
    "print(f' \\n Test Accuracy:  {round(100*accuracy_score(y_test, y_pred, normalize=True),2)}%')\n",
    "print(f\" Test F1-score macro: {round(100*f1_score(y_test, y_pred, average='macro'),2)}%\")\n",
    "print(f\" Test F1-score micro: {round(100*f1_score(y_test, y_pred, average='micro'),2)}%\")\n",
    "print(f\" Test F1-score weighted: {round(100*f1_score(y_test, y_pred, average='weighted'),2)}%\") \n",
    "print(f' Test Hamming loss: {hamming_loss(y_test, y_pred)}') "
   ]
  },
  {
   "cell_type": "markdown",
   "id": "195af7e7",
   "metadata": {},
   "source": [
    "How has the model performed in terms of the number of labels?"
   ]
  },
  {
   "cell_type": "code",
   "execution_count": 14,
   "id": "c873ed4a",
   "metadata": {},
   "outputs": [
    {
     "data": {
      "text/plain": [
       "[35.2, 8.97, 2.21, 1.04, 0.35, 0.7, 0.97, 0.0, 0.0, 0.0, 0.0, 0.0, 0.0, 0.0]"
      ]
     },
     "execution_count": 14,
     "metadata": {},
     "output_type": "execute_result"
    }
   ],
   "source": [
    "#Turning sparse matrices into np.matrix\n",
    "y_1=y_test.todense()\n",
    "y_2=y_pred.todense()\n",
    "\n",
    "detection_vector=(y_1==y_2).all(axis=1).astype(float)\n",
    "n_labels=1\n",
    "list_n_labels=[]\n",
    "list_accuracy=[]\n",
    "while True:\n",
    "    label_number_indicator=(y_1.sum(axis=1)==n_labels).astype(float)\n",
    "    if label_number_indicator.sum()==0:\n",
    "        break\n",
    "    list_n_labels+=[n_labels]\n",
    "    n_instances=label_number_indicator.sum()\n",
    "    accuracy=np.dot(np.transpose(detection_vector),label_number_indicator)/n_instances  #np.matrix of size 1*1\n",
    "    accuracy=accuracy.sum()                                                             #accessing its unique entry\n",
    "    list_accuracy+=[round(100*accuracy,2)]\n",
    "    n_labels+=1\n",
    "    \n",
    "list_accuracy"
   ]
  },
  {
   "cell_type": "markdown",
   "id": "ef06585f",
   "metadata": {},
   "source": [
    "https://towardsdatascience.com/multi-label-classification-using-bag-of-words-bow-and-tf-idf-4f95858740e5 (BoW and Tf-idf with sparse vectors, toxic comments dataset)\n",
    "\n",
    "https://medium.com/analytics-vidhya/an-introduction-to-multi-label-text-classification-b1bcb7c7364c (Discusses Classifier Chain, uses the Kaggle research topics dataset)\n",
    "\n",
    "https://towardsdatascience.com/journey-to-the-center-of-multi-label-classification-384c40229bff (Various techniques, OnevsRest, Binary Relevance etc, toxic comment dataset)\n",
    "\n",
    "**************************************************************\n",
    "\n",
    "NLP Zero to Hero (IMDB sentiment analysis)\n",
    "\n",
    "https://medium.com/@prateekgaurav/nlp-zero-to-hero-part-1-introduction-bow-tf-idf-word2vec-c1b11ed77a2\n",
    "https://medium.com/@prateekgaurav/nlp-zero-to-hero-part-2-vanilla-rnn-lstm-gru-bi-directional-lstm-77fd60fc0b44\n",
    "https://medium.com/@prateekgaurav/nlp-zero-to-hero-part-3-transformer-based-models-conclusion-8191186301a9\n",
    "\n",
    "\n",
    "*****************************************************************\n",
    "\n",
    "Much more relevant, problems with many labels\n",
    "\n",
    "https://www.kdnuggets.com/2023/03/multilabel-nlp-analysis-class-imbalance-loss-function-approaches.html\n",
    "\n",
    "https://keras.io/examples/nlp/multi_label_classification/\n",
    "\n",
    "(Hugging Face: https://discuss.huggingface.co/t/most-efficient-multi-label-classifier/9296)\n",
    "\n",
    "******************************************************************\n",
    "\n",
    "Multioutput \n",
    "https://www.kdnuggets.com/2023/08/multilabel-classification-introduction-python-scikitlearn.html\n",
    "\n",
    "Multioutput vs OnevsRest for Multilabel classification\n",
    "https://stackoverflow.com/questions/42819460/what-is-the-difference-between-onevsrestclassifier-and-multioutputclassifier-in"
   ]
  }
 ],
 "metadata": {
  "kernelspec": {
   "display_name": "Python 3 (ipykernel)",
   "language": "python",
   "name": "python3"
  },
  "language_info": {
   "codemirror_mode": {
    "name": "ipython",
    "version": 3
   },
   "file_extension": ".py",
   "mimetype": "text/x-python",
   "name": "python",
   "nbconvert_exporter": "python",
   "pygments_lexer": "ipython3",
   "version": "3.11.5"
  }
 },
 "nbformat": 4,
 "nbformat_minor": 5
}

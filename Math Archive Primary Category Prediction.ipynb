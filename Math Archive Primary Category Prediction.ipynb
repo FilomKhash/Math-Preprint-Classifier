{
 "cells": [
  {
   "cell_type": "markdown",
   "id": "f9340930",
   "metadata": {},
   "source": [
    "There have been machine learning projects, such as the [arXiv Classifier](https://github.com/arXiv/arxiv-classifier/), aimed at predicting a preprint's primary arXiv category. Here, based on the text data on math related papers that was gathered and preprocessed in `Scarping and Cleaning the Data.ipynb`, we use Keras to train a convolutional neural network model for this multi-class text classification.   \n",
    "\n",
    "\n",
    "$\\hspace{3cm}$  `cleaned_text`  $\\mapsto$ the primary arXiv category (e.g. `math.AG`) $\\hspace{1cm}$  (~30 labels)."
   ]
  },
  {
   "cell_type": "code",
   "execution_count": 1,
   "id": "2e978334",
   "metadata": {},
   "outputs": [
    {
     "name": "stdout",
     "output_type": "stream",
     "text": [
      "WARNING:tensorflow:From C:\\Users\\khash\\anaconda3\\Lib\\site-packages\\keras\\src\\losses.py:2976: The name tf.losses.sparse_softmax_cross_entropy is deprecated. Please use tf.compat.v1.losses.sparse_softmax_cross_entropy instead.\n",
      "\n"
     ]
    }
   ],
   "source": [
    "import pandas as pd\n",
    "import matplotlib.pyplot as plt\n",
    "import numpy as np\n",
    "import json\n",
    "\n",
    "import pickle as pkl\n",
    "import gzip\n",
    "\n",
    "from sklearn.preprocessing import LabelBinarizer\n",
    "from sklearn.model_selection import train_test_split\n",
    "from sklearn.metrics import f1_score, accuracy_score\n",
    "\n",
    "\n",
    "import tensorflow as tf\n",
    "tf.random.set_seed(112024)         #Set the random seed for Tensorflow\n",
    "from tensorflow.keras.models import Sequential\n",
    "from tensorflow.keras.layers import Activation, Dense, Embedding, Dropout, Conv1D,  GlobalMaxPooling1D\n",
    "from tensorflow.keras.preprocessing.text import Tokenizer\n",
    "from tensorflow.keras.preprocessing.sequence import pad_sequences\n",
    "from tensorflow.keras.callbacks import EarlyStopping\n",
    "from tensorflow.keras.optimizers import Adam"
   ]
  },
  {
   "cell_type": "markdown",
   "id": "973dc5ce",
   "metadata": {},
   "source": [
    "We first load the data. Among the columns, we only keep `cleaned_text` and `primary_category`."
   ]
  },
  {
   "cell_type": "code",
   "execution_count": 2,
   "id": "66b3e096",
   "metadata": {},
   "outputs": [
    {
     "name": "stdout",
     "output_type": "stream",
     "text": [
      "Size of the raw data:  164230\n"
     ]
    },
    {
     "data": {
      "text/html": [
       "<div>\n",
       "<style scoped>\n",
       "    .dataframe tbody tr th:only-of-type {\n",
       "        vertical-align: middle;\n",
       "    }\n",
       "\n",
       "    .dataframe tbody tr th {\n",
       "        vertical-align: top;\n",
       "    }\n",
       "\n",
       "    .dataframe thead th {\n",
       "        text-align: right;\n",
       "    }\n",
       "</style>\n",
       "<table border=\"1\" class=\"dataframe\">\n",
       "  <thead>\n",
       "    <tr style=\"text-align: right;\">\n",
       "      <th></th>\n",
       "      <th>cleaned_text</th>\n",
       "      <th>primary_category</th>\n",
       "    </tr>\n",
       "  </thead>\n",
       "  <tbody>\n",
       "    <tr>\n",
       "      <th>0</th>\n",
       "      <td>massiv parallel eulerian lagrangian method adv...</td>\n",
       "      <td>cs.CE</td>\n",
       "    </tr>\n",
       "    <tr>\n",
       "      <th>1</th>\n",
       "      <td>algebra irreduc modul varieti iii birkhoff var...</td>\n",
       "      <td>math.RT</td>\n",
       "    </tr>\n",
       "    <tr>\n",
       "      <th>2</th>\n",
       "      <td>exist smooth orbit varieti simpl lie algebra o...</td>\n",
       "      <td>math.RT</td>\n",
       "    </tr>\n",
       "    <tr>\n",
       "      <th>3</th>\n",
       "      <td>polyhedr realize crystal base convex geometr d...</td>\n",
       "      <td>math.AG</td>\n",
       "    </tr>\n",
       "    <tr>\n",
       "      <th>4</th>\n",
       "      <td>high curv orbit space infimum section curvatur...</td>\n",
       "      <td>math.DG</td>\n",
       "    </tr>\n",
       "  </tbody>\n",
       "</table>\n",
       "</div>"
      ],
      "text/plain": [
       "                                        cleaned_text primary_category\n",
       "0  massiv parallel eulerian lagrangian method adv...            cs.CE\n",
       "1  algebra irreduc modul varieti iii birkhoff var...          math.RT\n",
       "2  exist smooth orbit varieti simpl lie algebra o...          math.RT\n",
       "3  polyhedr realize crystal base convex geometr d...          math.AG\n",
       "4  high curv orbit space infimum section curvatur...          math.DG"
      ]
     },
     "execution_count": 2,
     "metadata": {},
     "output_type": "execute_result"
    }
   ],
   "source": [
    "raw_data=pd.read_csv('./data/data.zip',compression='zip')\n",
    "data=raw_data[['cleaned_text','primary_category']]\n",
    "print('Size of the raw data: ',raw_data.shape[0])\n",
    "data.head()"
   ]
  },
  {
   "cell_type": "markdown",
   "id": "3a431bc3",
   "metadata": {},
   "source": [
    "Starting data visualization: which arXiv categories have been the most prevalent as the primary? "
   ]
  },
  {
   "cell_type": "code",
   "execution_count": 3,
   "id": "67f69041",
   "metadata": {
    "scrolled": true
   },
   "outputs": [
    {
     "data": {
      "image/png": "[encoded data removed]",
      "text/plain": [
       "<Figure size 1000x200 with 1 Axes>"
      ]
     },
     "metadata": {},
     "output_type": "display_data"
    }
   ],
   "source": [
    "fig=plt.figure(figsize=(10,2))\n",
    "ax=fig.add_subplot(1,1,1)\n",
    "\n",
    "#Top 10 most frequent primary categories (bar chart)\n",
    "ax.bar(x=raw_data['primary_category'].value_counts().head(10).index, \n",
    "        height=raw_data['primary_category'].value_counts().head(10),width=0.4)\n",
    "ax.set_title('Top ten most frequent primary categories')\n",
    "\n",
    "plt.show()"
   ]
  },
  {
   "cell_type": "markdown",
   "id": "d4b6e788",
   "metadata": {},
   "source": [
    "There are labels with very low frequency. "
   ]
  },
  {
   "cell_type": "code",
   "execution_count": 4,
   "id": "7d0c9c88",
   "metadata": {},
   "outputs": [
    {
     "data": {
      "text/plain": [
       "primary_category\n",
       "math.AG     9694\n",
       "math.CO     8838\n",
       "math.NT     8380\n",
       "math.FA     8377\n",
       "math.DG     8126\n",
       "math.GT     7992\n",
       "math.AP     7621\n",
       "math.CA     7430\n",
       "math.GR     7303\n",
       "math.PR     7157\n",
       "math.RA     6231\n",
       "math.DS     6150\n",
       "math.RT     6097\n",
       "math.CV     5931\n",
       "math.NA     5570\n",
       "math.AC     4989\n",
       "math.AT     4665\n",
       "math.OA     4312\n",
       "math.LO     4295\n",
       "math.QA     3652\n",
       "math.ST     3546\n",
       "math.MG     3379\n",
       "math-ph     3343\n",
       "math.OC     3197\n",
       "math.SG     2437\n",
       "math.SP     2347\n",
       "math.CT     2009\n",
       "math.GN     1995\n",
       "math.GM     1699\n",
       "math.HO     1250\n",
       "math.KT     1163\n",
       "cs.IT        694\n",
       "stat.ME      371\n",
       "quant-ph     322\n",
       "cs.LG        264\n",
       "nlin.SI      243\n",
       "q-bio.PE     205\n",
       "stat.ML      183\n",
       "gr-qc        179\n",
       "hep-th       177\n",
       "Name: count, dtype: int64"
      ]
     },
     "execution_count": 4,
     "metadata": {},
     "output_type": "execute_result"
    }
   ],
   "source": [
    "data['primary_category'].value_counts().head(40)"
   ]
  },
  {
   "cell_type": "markdown",
   "id": "25936f51",
   "metadata": {},
   "source": [
    "Observe that labels which are not from math archive appear scarcely. We drop those labels, and one-hot encode the remaining labels. "
   ]
  },
  {
   "cell_type": "code",
   "execution_count": 5,
   "id": "ab3edeb7",
   "metadata": {},
   "outputs": [],
   "source": [
    "data=data[data['primary_category'].apply(lambda x:x.startswith('math'))][['cleaned_text','primary_category']]\n",
    "data.reset_index(inplace=True)\n",
    "MathCat_list=list(data['primary_category'].unique())\n",
    "lb=LabelBinarizer()\n",
    "lb.fit(MathCat_list)      #Caution: The order of labels stored in lb is not necessarily the same as MathCat_list; lb.classes_ should be used instead.\n",
    "data=pd.concat((data['cleaned_text'],pd.DataFrame(lb.transform(data['primary_category']),columns=lb.classes_,dtype=int))\n",
    "               ,axis=1)\n",
    "\n",
    "#Saving the encoded data in a compressed form.     \n",
    "data.to_csv('./data/data_encoded_CatPred.zip',compression='zip',index=False)"
   ]
  },
  {
   "cell_type": "markdown",
   "id": "98d480fe",
   "metadata": {},
   "source": [
    "We next split the data into train and test sets in a way that labels are distributed evenly. We save the corresponding row indices for future use."
   ]
  },
  {
   "cell_type": "code",
   "execution_count": 6,
   "id": "58755c0a",
   "metadata": {},
   "outputs": [
    {
     "name": "stdout",
     "output_type": "stream",
     "text": [
      "The number of training instances: 119381\n",
      "The number of test instances: 39794\n"
     ]
    }
   ],
   "source": [
    "#https://stackoverflow.com/questions/29438265/stratified-train-test-split-in-scikit-learn\n",
    "X_train,X_test,y_train,y_test=train_test_split(data['cleaned_text'],data.iloc[:,1:],test_size=0.25,random_state=1,\n",
    "                                             stratify=data.iloc[:,1:])\n",
    "train_index=np.asarray(X_train.index).tolist()\n",
    "print(f'The number of training instances: {len(train_index)}')\n",
    "with open('./data/train_index_CatPred.json','w') as file:\n",
    "    json.dump(train_index,file)\n",
    "    \n",
    "test_index=np.asarray(X_test.index).tolist()\n",
    "print(f'The number of test instances: {len(test_index)}')\n",
    "with open('./data/test_index_CatPred.json','w') as file:\n",
    "    json.dump(test_index,file)"
   ]
  },
  {
   "cell_type": "markdown",
   "id": "34229132",
   "metadata": {},
   "source": [
    "Making sure no label is all zero in either the training or the test set. "
   ]
  },
  {
   "cell_type": "code",
   "execution_count": 7,
   "id": "f41eb25e",
   "metadata": {},
   "outputs": [
    {
     "name": "stdout",
     "output_type": "stream",
     "text": [
      "The number of all-zero columns in y_train is 0.\n",
      "\n",
      "The number of all-zero columns in y_test is 0.\n"
     ]
    }
   ],
   "source": [
    "print(f'The number of all-zero columns in y_train is {np.sum((np.sum(y_train,axis=0)==0).astype(int))}.\\n')\n",
    "\n",
    "print(f'The number of all-zero columns in y_test is {np.sum((np.sum(y_test,axis=0)==0).astype(int))}.')"
   ]
  },
  {
   "cell_type": "markdown",
   "id": "8b5e5235",
   "metadata": {},
   "source": [
    "The next setp is to [tokenize](https://neptune.ai/blog/tokenization-in-nlp) the text. How many words appear in the text data overall or on average? "
   ]
  },
  {
   "cell_type": "code",
   "execution_count": 8,
   "id": "e9061b5d",
   "metadata": {},
   "outputs": [
    {
     "name": "stdout",
     "output_type": "stream",
     "text": [
      "Vocabulary size: 71614\n"
     ]
    },
    {
     "data": {
      "text/plain": [
       "count    119381.000000\n",
       "mean         56.342718\n",
       "std          28.880416\n",
       "min           2.000000\n",
       "25%          35.000000\n",
       "50%          51.000000\n",
       "75%          71.000000\n",
       "max         219.000000\n",
       "Name: cleaned_text, dtype: float64"
      ]
     },
     "execution_count": 8,
     "metadata": {},
     "output_type": "execute_result"
    }
   ],
   "source": [
    "vocabulary = set()\n",
    "X_train.str.split().apply(vocabulary.update)\n",
    "vocabulary_size = len(vocabulary)\n",
    "print(f'Vocabulary size: {vocabulary_size}')\n",
    "\n",
    "X_train.apply(lambda x: len(x.split(\" \"))).describe()"
   ]
  },
  {
   "cell_type": "markdown",
   "id": "7a1e3245",
   "metadata": {},
   "source": [
    "The text is already cleaned, everything lower-case and no stop word, punctuation or special character. Thus there is no need to pass `filter` to `Tokenizer`."
   ]
  },
  {
   "cell_type": "code",
   "execution_count": 9,
   "id": "2f2a65ba",
   "metadata": {},
   "outputs": [],
   "source": [
    "tokenizer=Tokenizer()\n",
    "tokenizer.fit_on_texts(X_train)"
   ]
  },
  {
   "cell_type": "markdown",
   "id": "c7011eaf",
   "metadata": {},
   "source": [
    "We apply padding to turn all sequences into the same length. As observed above, most inputs have less than 100 words. Hence we set `maxlen=100` in Keras' `pad_sequences`. "
   ]
  },
  {
   "cell_type": "code",
   "execution_count": 10,
   "id": "26430799",
   "metadata": {},
   "outputs": [
    {
     "name": "stdout",
     "output_type": "stream",
     "text": [
      "[[1740  510  204 ...    0    0    0]\n",
      " [ 528   68 1161 ...    0    0    0]\n",
      " [ 747  478   92 ...  336 1257  116]\n",
      " ...\n",
      " [  25  324    3 ...    0    0    0]\n",
      " [2538 2437  845 ...    0    0    0]\n",
      " [ 291 3340  323 ...    0    0    0]]\n",
      "[[  37   97   21 ...    0    0    0]\n",
      " [  43  244 1092 ...    0    0    0]\n",
      " [ 170 1468  283 ...    0    0    0]\n",
      " ...\n",
      " [1780   12  159 ...    0    0    0]\n",
      " [  34   45 1716 ...    0    0    0]\n",
      " [1296 3335  247 ...    0    0    0]]\n"
     ]
    }
   ],
   "source": [
    "X_train=tokenizer.texts_to_sequences(X_train)\n",
    "X_train=pad_sequences(X_train, maxlen=100, padding='post')\n",
    "print(X_train)\n",
    "\n",
    "X_test=tokenizer.texts_to_sequences(X_test)\n",
    "X_test=pad_sequences(X_test, maxlen=100, padding='post')\n",
    "print(X_test)"
   ]
  },
  {
   "cell_type": "markdown",
   "id": "e691c32b",
   "metadata": {},
   "source": [
    "Now we create a convolutional neural network model for our text classification problem. "
   ]
  },
  {
   "cell_type": "code",
   "execution_count": 11,
   "id": "50bddb15",
   "metadata": {},
   "outputs": [
    {
     "name": "stdout",
     "output_type": "stream",
     "text": [
      "WARNING:tensorflow:From C:\\Users\\khash\\anaconda3\\Lib\\site-packages\\keras\\src\\backend.py:873: The name tf.get_default_graph is deprecated. Please use tf.compat.v1.get_default_graph instead.\n",
      "\n",
      "Model: \"sequential\"\n",
      "_________________________________________________________________\n",
      " Layer (type)                Output Shape              Param #   \n",
      "=================================================================\n",
      " embedding (Embedding)       (None, 100, 50)           3580750   \n",
      "                                                                 \n",
      " dropout (Dropout)           (None, 100, 50)           0         \n",
      "                                                                 \n",
      " conv1d (Conv1D)             (None, 98, 200)           30200     \n",
      "                                                                 \n",
      " global_max_pooling1d (Glob  (None, 200)               0         \n",
      " alMaxPooling1D)                                                 \n",
      "                                                                 \n",
      " dense (Dense)               (None, 200)               40200     \n",
      "                                                                 \n",
      " dropout_1 (Dropout)         (None, 200)               0         \n",
      "                                                                 \n",
      " activation (Activation)     (None, 200)               0         \n",
      "                                                                 \n",
      " dense_1 (Dense)             (None, 31)                6231      \n",
      "                                                                 \n",
      "=================================================================\n",
      "Total params: 3657381 (13.95 MB)\n",
      "Trainable params: 3657381 (13.95 MB)\n",
      "Non-trainable params: 0 (0.00 Byte)\n",
      "_________________________________________________________________\n"
     ]
    }
   ],
   "source": [
    "clf_nn=Sequential()\n",
    "\n",
    "#The embedding layer\n",
    "#We add 1 because the embedding layer is zero-based \n",
    "#https://stackoverflow.com/questions/72263400/why-in-keras-embedding-layers-matrix-is-a-size-of-vocab-size-1\n",
    "clf_nn.add(Embedding(input_dim=vocabulary_size+1, output_dim=50, input_length=100))\n",
    "\n",
    "#Adding a dropout layer\n",
    "clf_nn.add(Dropout(0.3))\n",
    "\n",
    "#Adding a convolutional layer\n",
    "clf_nn.add(Conv1D(200,\n",
    "                 kernel_size=3,\n",
    "                 padding='valid',\n",
    "                 activation='relu',\n",
    "                 strides=1))\n",
    "\n",
    "#We use max pooling:\n",
    "clf_nn.add(GlobalMaxPooling1D()) \n",
    "\n",
    "#We add a vanilla hidden layer:\n",
    "clf_nn.add(Dense(200))\n",
    "\n",
    "#Adding another dropout layer\n",
    "clf_nn.add(Dropout(0.3))\n",
    "clf_nn.add(Activation('relu'))\n",
    "\n",
    "# Adding a dense output layer with softmax activation\n",
    "clf_nn.add(Dense(31, activation='softmax'))\n",
    "clf_nn.summary()"
   ]
  },
  {
   "cell_type": "markdown",
   "id": "a189900a",
   "metadata": {},
   "source": [
    "The cells below train the model and plot the loss and accuracy over training and validation sets versus epochs. The task is multi-class classification, so  the last layer of the network above had `softmax` activation, and we should use `loss='categorical_crossentropy'` in training (see [here](https://stackoverflow.com/a/59433454/13036105) for more details). "
   ]
  },
  {
   "cell_type": "code",
   "execution_count": 12,
   "id": "084233b4",
   "metadata": {
    "scrolled": false
   },
   "outputs": [
    {
     "name": "stdout",
     "output_type": "stream",
     "text": [
      "Epoch 1/100\n",
      "WARNING:tensorflow:From C:\\Users\\khash\\anaconda3\\Lib\\site-packages\\keras\\src\\utils\\tf_utils.py:492: The name tf.ragged.RaggedTensorValue is deprecated. Please use tf.compat.v1.ragged.RaggedTensorValue instead.\n",
      "\n",
      "WARNING:tensorflow:From C:\\Users\\khash\\anaconda3\\Lib\\site-packages\\keras\\src\\engine\\base_layer_utils.py:384: The name tf.executing_eagerly_outside_functions is deprecated. Please use tf.compat.v1.executing_eagerly_outside_functions instead.\n",
      "\n",
      "2612/2612 [==============================] - 90s 34ms/step - loss: 3.2814 - accuracy: 0.0914 - val_loss: 2.8719 - val_accuracy: 0.2344\n",
      "Epoch 2/100\n",
      "2612/2612 [==============================] - 90s 34ms/step - loss: 2.5614 - accuracy: 0.2638 - val_loss: 2.2995 - val_accuracy: 0.3700\n",
      "Epoch 3/100\n",
      "2612/2612 [==============================] - 76s 29ms/step - loss: 2.1567 - accuracy: 0.3712 - val_loss: 1.9820 - val_accuracy: 0.4446\n",
      "Epoch 4/100\n",
      "2612/2612 [==============================] - 75s 29ms/step - loss: 1.8969 - accuracy: 0.4402 - val_loss: 1.7831 - val_accuracy: 0.4949\n",
      "Epoch 5/100\n",
      "2612/2612 [==============================] - 73s 28ms/step - loss: 1.7160 - accuracy: 0.4903 - val_loss: 1.6359 - val_accuracy: 0.5343\n",
      "Epoch 6/100\n",
      "2612/2612 [==============================] - 73s 28ms/step - loss: 1.5809 - accuracy: 0.5294 - val_loss: 1.5282 - val_accuracy: 0.5609\n",
      "Epoch 7/100\n",
      "2612/2612 [==============================] - 73s 28ms/step - loss: 1.4751 - accuracy: 0.5582 - val_loss: 1.4465 - val_accuracy: 0.5821\n",
      "Epoch 8/100\n",
      "2612/2612 [==============================] - 74s 28ms/step - loss: 1.3834 - accuracy: 0.5842 - val_loss: 1.3918 - val_accuracy: 0.5972\n",
      "Epoch 9/100\n",
      "2612/2612 [==============================] - 75s 29ms/step - loss: 1.3110 - accuracy: 0.6037 - val_loss: 1.3398 - val_accuracy: 0.6080\n",
      "Epoch 10/100\n",
      "2612/2612 [==============================] - 75s 29ms/step - loss: 1.2424 - accuracy: 0.6202 - val_loss: 1.2974 - val_accuracy: 0.6173\n",
      "Epoch 11/100\n",
      "2612/2612 [==============================] - 74s 28ms/step - loss: 1.1885 - accuracy: 0.6349 - val_loss: 1.2833 - val_accuracy: 0.6213\n",
      "Epoch 12/100\n",
      "2612/2612 [==============================] - 75s 29ms/step - loss: 1.1404 - accuracy: 0.6478 - val_loss: 1.2516 - val_accuracy: 0.6297\n",
      "Epoch 13/100\n",
      "2612/2612 [==============================] - 75s 29ms/step - loss: 1.0942 - accuracy: 0.6605 - val_loss: 1.2341 - val_accuracy: 0.6333\n",
      "Epoch 14/100\n",
      "2612/2612 [==============================] - 74s 28ms/step - loss: 1.0489 - accuracy: 0.6716 - val_loss: 1.2203 - val_accuracy: 0.6367\n",
      "Epoch 15/100\n",
      "2612/2612 [==============================] - 73s 28ms/step - loss: 1.0120 - accuracy: 0.6808 - val_loss: 1.2067 - val_accuracy: 0.6426\n",
      "Epoch 16/100\n",
      "2612/2612 [==============================] - 74s 28ms/step - loss: 0.9715 - accuracy: 0.6934 - val_loss: 1.2002 - val_accuracy: 0.6444\n",
      "Epoch 17/100\n",
      "2612/2612 [==============================] - 75s 29ms/step - loss: 0.9335 - accuracy: 0.7035 - val_loss: 1.1862 - val_accuracy: 0.6490\n",
      "Epoch 18/100\n",
      "2612/2612 [==============================] - 75s 29ms/step - loss: 0.9033 - accuracy: 0.7116 - val_loss: 1.1800 - val_accuracy: 0.6507\n",
      "Epoch 19/100\n",
      "2612/2612 [==============================] - 75s 29ms/step - loss: 0.8730 - accuracy: 0.7195 - val_loss: 1.1938 - val_accuracy: 0.6460\n",
      "Epoch 20/100\n",
      "2612/2612 [==============================] - 74s 28ms/step - loss: 0.8405 - accuracy: 0.7288 - val_loss: 1.1812 - val_accuracy: 0.6491\n",
      "Epoch 21/100\n",
      "2612/2612 [==============================] - 75s 29ms/step - loss: 0.8105 - accuracy: 0.7372 - val_loss: 1.1780 - val_accuracy: 0.6514\n",
      "Epoch 22/100\n",
      "2612/2612 [==============================] - 75s 29ms/step - loss: 0.7828 - accuracy: 0.7446 - val_loss: 1.1762 - val_accuracy: 0.6515\n",
      "Epoch 23/100\n",
      "2612/2612 [==============================] - 75s 29ms/step - loss: 0.7608 - accuracy: 0.7516 - val_loss: 1.1725 - val_accuracy: 0.6523\n",
      "Epoch 24/100\n",
      "2612/2612 [==============================] - 74s 28ms/step - loss: 0.7321 - accuracy: 0.7588 - val_loss: 1.1878 - val_accuracy: 0.6507\n",
      "Epoch 25/100\n",
      "2612/2612 [==============================] - 75s 29ms/step - loss: 0.7050 - accuracy: 0.7663 - val_loss: 1.1910 - val_accuracy: 0.6510\n",
      "Epoch 26/100\n",
      "2612/2612 [==============================] - 76s 29ms/step - loss: 0.6845 - accuracy: 0.7719 - val_loss: 1.1933 - val_accuracy: 0.6506\n",
      "Epoch 26: early stopping\n"
     ]
    }
   ],
   "source": [
    "#Forming a dictionary for class weights: each class index will be associated with a number inversely proportional with its frequency.\n",
    "#(All weights would be 1 if classes are completely balanced.)\n",
    "#This causes the model to pay more attention to underrepresented labels.  \n",
    "temp=y_train.sum()\n",
    "class_weight={}\n",
    "for i in range(temp.shape[0]):\n",
    "    class_weight[i]=y_train.shape[0]/(temp[i]*y_train.shape[1])\n",
    "\n",
    "\n",
    "#Early stopping, the training stops if validation loss does not decrease for five epochs. \n",
    "#https://machinelearningmastery.com/how-to-stop-training-deep-neural-networks-at-the-right-time-using-early-stopping/\n",
    "es=EarlyStopping(monitor='val_loss', mode='min', verbose=1, patience=3)\n",
    "\n",
    "opt=Adam(learning_rate=0.00008)\n",
    "clf_nn.compile(optimizer=opt, loss='categorical_crossentropy',metrics=['accuracy'])\n",
    "history = clf_nn.fit(X_train, (y_train),\n",
    "                    epochs=100,\n",
    "                    batch_size=32,\n",
    "                    validation_split=0.3,class_weight=class_weight,\n",
    "                    callbacks=[es])"
   ]
  },
  {
   "cell_type": "code",
   "execution_count": 13,
   "id": "d0095e37",
   "metadata": {},
   "outputs": [
    {
     "data": {
      "image/png": "[encoded data removed]",
      "text/plain": [
       "<Figure size 640x480 with 1 Axes>"
      ]
     },
     "metadata": {},
     "output_type": "display_data"
    },
    {
     "data": {
      "image/png": "[encoded data removed]",
      "text/plain": [
       "<Figure size 640x480 with 1 Axes>"
      ]
     },
     "metadata": {},
     "output_type": "display_data"
    }
   ],
   "source": [
    "def plot_result(item):\n",
    "    plt.plot(history.history[item], label=item)\n",
    "    plt.plot(history.history[\"val_\" + item], label=\"val_\" + item)\n",
    "    plt.xlabel(\"Epochs\")\n",
    "    plt.locator_params(axis='x', integer=True)\n",
    "    plt.ylabel(item)\n",
    "    plt.title(\"Train and Validation {} Over Epochs\".format(item), fontsize=14)\n",
    "    plt.legend()\n",
    "    plt.grid()\n",
    "    plt.show()\n",
    "\n",
    "\n",
    "plot_result(\"loss\")\n",
    "plot_result(\"accuracy\")"
   ]
  },
  {
   "cell_type": "markdown",
   "id": "9444a5c6",
   "metadata": {},
   "source": [
    "Loss and accuracy over the test set:"
   ]
  },
  {
   "cell_type": "code",
   "execution_count": 14,
   "id": "3edb5b8a",
   "metadata": {},
   "outputs": [
    {
     "name": "stdout",
     "output_type": "stream",
     "text": [
      "1244/1244 [==============================] - 5s 4ms/step - loss: 1.1777 - accuracy: 0.6552\n",
      "Test loss: 1.1777474880218506\n",
      "Test accuracy: 65.52%\n"
     ]
    }
   ],
   "source": [
    "[test_loss,test_accuracy]=clf_nn.evaluate(X_test,y_test)\n",
    "print(f'Test loss: {test_loss}')\n",
    "print(f'Test accuracy: {round(100*test_accuracy,2)}%')"
   ]
  },
  {
   "cell_type": "markdown",
   "id": "70ba696d",
   "metadata": {},
   "source": [
    "Indeed, we can compute other metrics over the test set as well."
   ]
  },
  {
   "cell_type": "code",
   "execution_count": 15,
   "id": "583cb933",
   "metadata": {},
   "outputs": [
    {
     "name": "stdout",
     "output_type": "stream",
     "text": [
      "3731/3731 [==============================] - 15s 4ms/step\n",
      "1244/1244 [==============================] - 5s 4ms/step\n",
      "\n",
      "Metrics for predicting the primary arXiv category based on the cleaned text:\n",
      "\n",
      " Train Accuracy: 77.33%\n",
      " Train F1-score micro: 77.33%\n",
      " Train F1-score macro: 76.19%\n",
      " Train F1-score weighted: 77.48%\n",
      " \n",
      " Test Accuracy:  65.52%\n",
      " Test F1-score micro: 65.52%\n",
      " Test F1-score macro: 63.01%\n",
      " Test F1-score weighted: 65.8%\n"
     ]
    }
   ],
   "source": [
    "#Consists of probabilities\n",
    "y_pred_train_proba=clf_nn.predict(X_train)\n",
    "y_pred_proba=clf_nn.predict(X_test) \n",
    "\n",
    "\n",
    "#Predicted labels based on predicted probabilities.\n",
    "#https://stackoverflow.com/questions/20295046/numpy-change-max-in-each-row-to-1-all-other-numbers-to-0?rq=3\n",
    "y_pred_train=(y_pred_train_proba==y_pred_train_proba.max(axis=1)[:,None]).astype(int)\n",
    "y_pred=(y_pred_proba==y_pred_proba.max(axis=1)[:,None]).astype(int)\n",
    "\n",
    "\n",
    "print('\\nMetrics for predicting the primary arXiv category based on the cleaned text:\\n')\n",
    "print(f' Train Accuracy: {round(100*accuracy_score(y_train, y_pred_train, normalize=True),2)}%')\n",
    "print(f\" Train F1-score micro: {round(100*f1_score(y_train, y_pred_train, average='micro'),2)}%\")\n",
    "print(f\" Train F1-score macro: {round(100*f1_score(y_train, y_pred_train, average='macro'),2)}%\")\n",
    "print(f\" Train F1-score weighted: {round(100*f1_score(y_train, y_pred_train, average='weighted'),2)}%\")\n",
    "\n",
    "\n",
    "\n",
    "print(f' \\n Test Accuracy:  {round(100*accuracy_score(y_test, y_pred, normalize=True),2)}%')\n",
    "print(f\" Test F1-score micro: {round(100*f1_score(y_test, y_pred, average='micro'),2)}%\")\n",
    "print(f\" Test F1-score macro: {round(100*f1_score(y_test, y_pred, average='macro'),2)}%\")\n",
    "print(f\" Test F1-score weighted: {round(100*f1_score(y_test, y_pred, average='weighted'),2)}%\")  "
   ]
  },
  {
   "cell_type": "markdown",
   "id": "d8fa7816",
   "metadata": {},
   "source": [
    "Visualizing the model's ability to distinguish the more common labels on the test set:"
   ]
  },
  {
   "cell_type": "code",
   "execution_count": 16,
   "id": "86f0bcd8",
   "metadata": {},
   "outputs": [
    {
     "data": {
      "image/png": "[encoded data removed]",
      "text/plain": [
       "<Figure size 1000x200 with 1 Axes>"
      ]
     },
     "metadata": {},
     "output_type": "display_data"
    }
   ],
   "source": [
    "fig=plt.figure(figsize=(10,2))\n",
    "ax=fig.add_subplot(1,1,1)\n",
    "\n",
    "f1_percentages=100*f1_score(y_test, y_pred, average=None)\n",
    "\n",
    "top_index=np.argsort(np.asarray((-data.iloc[:,1:]).sum()))[:10]\n",
    "top_categories=(-data.iloc[:,1:]).sum().index[top_index]\n",
    "\n",
    "#Top 10 most frequent primary categories (bar chart)\n",
    "ax.bar(x=top_categories, \n",
    "        height=f1_percentages[top_index],width=0.4)\n",
    "ax.set_title('Test F1-scores for the top ten most frequent primary categories')\n",
    "\n",
    "plt.show()"
   ]
  },
  {
   "cell_type": "markdown",
   "id": "4a7b6189",
   "metadata": {},
   "source": [
    "Saving the trained models along with the names of their variables:"
   ]
  },
  {
   "cell_type": "code",
   "execution_count": 17,
   "id": "0f96f466",
   "metadata": {},
   "outputs": [],
   "source": [
    "#We first pickle the trained models and then zip them. \n",
    "#https://stackoverflow.com/questions/18474791/decreasing-the-size-of-cpickle-objects\n",
    "def save_zipped_pickle(obj, filename, protocol=-1):\n",
    "    with gzip.open(filename, 'wb') as f:\n",
    "        pkl.dump(obj, f, protocol)\n",
    "\n",
    "save_zipped_pickle(tokenizer,'./models/tokenizer.gz')\n",
    "save_zipped_pickle(clf_nn,'./models/clf_nn.gz')\n",
    "\n",
    "with open('./models/Cat_list.json','w') as file:\n",
    "    json.dump(list(data.columns[1:]),file)"
   ]
  },
  {
   "cell_type": "markdown",
   "id": "4094ac0a",
   "metadata": {},
   "source": [
    "Some useful links\n",
    "*******************************************************************\n",
    "CNN for text classification)  \n",
    "https://www.davidsbatista.net/blog/2018/03/31/SentenceClassificationConvNets/\n",
    "\n",
    "\n",
    "Introduction to Keras)  \n",
    "https://blog.paperspace.com/the-absolute-guide-to-keras/\n",
    "\n",
    "\n",
    "Some interesting multi-class text classification projects with neural networks)  \n",
    "https://www.kaggle.com/code/kadhambari/multi-class-text-classification  \n",
    "https://medium.com/analytics-vidhya/multiclass-text-classification-using-deep-learning-f25b4b1010e5\n",
    "\n",
    "\n",
    "Keras for multi-label text classification)  \n",
    "https://keras.io/examples/nlp/multi_label_classification/"
   ]
  }
 ],
 "metadata": {
  "kernelspec": {
   "display_name": "Python 3 (ipykernel)",
   "language": "python",
   "name": "python3"
  },
  "language_info": {
   "codemirror_mode": {
    "name": "ipython",
    "version": 3
   },
   "file_extension": ".py",
   "mimetype": "text/x-python",
   "name": "python",
   "nbconvert_exporter": "python",
   "pygments_lexer": "ipython3",
   "version": "3.11.5"
  }
 },
 "nbformat": 4,
 "nbformat_minor": 5
}

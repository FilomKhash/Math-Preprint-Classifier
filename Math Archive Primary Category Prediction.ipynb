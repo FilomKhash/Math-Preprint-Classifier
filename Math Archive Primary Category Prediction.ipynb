{
 "cells": [
  {
   "cell_type": "markdown",
   "id": "f9340930",
   "metadata": {},
   "source": [
    "There have been machine learning projects, such as the [arXiv Classifier](https://github.com/arXiv/arxiv-classifier/), aimed at predicting a preprint's primary arXiv category. Here, based on the text data on math related papers that was gathered and preprocessed in `Scarping and Cleaning the Data.ipynb`, we use Keras to train a convolutional neural network model for this multi-class text classification.   \n",
    "\n",
    "\n",
    "$\\hspace{3cm}$  `cleaned_text`  $\\mapsto$ the primary arXiv category (e.g. `math.AG`) $\\hspace{1cm}$  (~30 labels).\n",
    "\n",
    "*******************************************************************\n",
    "CNN for text classification)\n",
    "<br>\n",
    "https://www.davidsbatista.net/blog/2018/03/31/SentenceClassificationConvNets/\n",
    "\n",
    "\n",
    "Introduction to Keras)\n",
    "<br>\n",
    "https://blog.paperspace.com/the-absolute-guide-to-keras/\n",
    "\n",
    "\n",
    "Some interesting multi-class text classification projects with neural networks) \n",
    "<br>\n",
    "https://www.kaggle.com/code/kadhambari/multi-class-text-classification \n",
    "<br> \n",
    "https://medium.com/analytics-vidhya/multiclass-text-classification-using-deep-learning-f25b4b1010e5\n",
    "\n",
    "\n",
    "Keras for multi-label text classification)\n",
    "<br>\n",
    "https://keras.io/examples/nlp/multi_label_classification/"
   ]
  },
  {
   "cell_type": "code",
   "execution_count": 1,
   "id": "2e978334",
   "metadata": {},
   "outputs": [
    {
     "name": "stdout",
     "output_type": "stream",
     "text": [
      "WARNING:tensorflow:From C:\\Users\\khash\\anaconda3\\Lib\\site-packages\\keras\\src\\losses.py:2976: The name tf.losses.sparse_softmax_cross_entropy is deprecated. Please use tf.compat.v1.losses.sparse_softmax_cross_entropy instead.\n",
      "\n"
     ]
    }
   ],
   "source": [
    "import pandas as pd\n",
    "import matplotlib.pyplot as plt\n",
    "import numpy as np\n",
    "import json\n",
    "\n",
    "import pickle as pkl\n",
    "import gzip\n",
    "\n",
    "from sklearn.preprocessing import LabelBinarizer\n",
    "from sklearn.model_selection import train_test_split\n",
    "from sklearn.metrics import f1_score, accuracy_score\n",
    "\n",
    "\n",
    "import tensorflow as tf\n",
    "tf.random.set_seed(112024)         #Set the random seed for Tensorflow\n",
    "from tensorflow.keras.models import Sequential\n",
    "from tensorflow.keras.layers import Activation, Dense, Embedding, Dropout, Conv1D,  GlobalMaxPooling1D\n",
    "from tensorflow.keras.preprocessing.text import Tokenizer\n",
    "from tensorflow.keras.preprocessing.sequence import pad_sequences\n",
    "from tensorflow.keras.callbacks import EarlyStopping\n",
    "from tensorflow.keras.optimizers import Adam"
   ]
  },
  {
   "cell_type": "markdown",
   "id": "973dc5ce",
   "metadata": {},
   "source": [
    "We first load the data. Among the columns, we only keep `cleaned_text` and `primary_category`."
   ]
  },
  {
   "cell_type": "code",
   "execution_count": 2,
   "id": "66b3e096",
   "metadata": {},
   "outputs": [
    {
     "name": "stdout",
     "output_type": "stream",
     "text": [
      "Size of the raw data:  164230\n"
     ]
    },
    {
     "data": {
      "text/html": [
       "<div>\n",
       "<style scoped>\n",
       "    .dataframe tbody tr th:only-of-type {\n",
       "        vertical-align: middle;\n",
       "    }\n",
       "\n",
       "    .dataframe tbody tr th {\n",
       "        vertical-align: top;\n",
       "    }\n",
       "\n",
       "    .dataframe thead th {\n",
       "        text-align: right;\n",
       "    }\n",
       "</style>\n",
       "<table border=\"1\" class=\"dataframe\">\n",
       "  <thead>\n",
       "    <tr style=\"text-align: right;\">\n",
       "      <th></th>\n",
       "      <th>cleaned_text</th>\n",
       "      <th>primary_category</th>\n",
       "    </tr>\n",
       "  </thead>\n",
       "  <tbody>\n",
       "    <tr>\n",
       "      <th>0</th>\n",
       "      <td>massiv parallel eulerian lagrangian method adv...</td>\n",
       "      <td>cs.CE</td>\n",
       "    </tr>\n",
       "    <tr>\n",
       "      <th>1</th>\n",
       "      <td>algebra irreduc modul varieti iii birkhoff var...</td>\n",
       "      <td>math.RT</td>\n",
       "    </tr>\n",
       "    <tr>\n",
       "      <th>2</th>\n",
       "      <td>exist smooth orbit varieti simpl lie algebra o...</td>\n",
       "      <td>math.RT</td>\n",
       "    </tr>\n",
       "    <tr>\n",
       "      <th>3</th>\n",
       "      <td>polyhedr realize crystal base convex geometr d...</td>\n",
       "      <td>math.AG</td>\n",
       "    </tr>\n",
       "    <tr>\n",
       "      <th>4</th>\n",
       "      <td>high curv orbit space infimum section curvatur...</td>\n",
       "      <td>math.DG</td>\n",
       "    </tr>\n",
       "  </tbody>\n",
       "</table>\n",
       "</div>"
      ],
      "text/plain": [
       "                                        cleaned_text primary_category\n",
       "0  massiv parallel eulerian lagrangian method adv...            cs.CE\n",
       "1  algebra irreduc modul varieti iii birkhoff var...          math.RT\n",
       "2  exist smooth orbit varieti simpl lie algebra o...          math.RT\n",
       "3  polyhedr realize crystal base convex geometr d...          math.AG\n",
       "4  high curv orbit space infimum section curvatur...          math.DG"
      ]
     },
     "execution_count": 2,
     "metadata": {},
     "output_type": "execute_result"
    }
   ],
   "source": [
    "raw_data=pd.read_csv('./data/data.zip',compression='zip')\n",
    "data=raw_data[['cleaned_text','primary_category']]\n",
    "print('Size of the raw data: ',raw_data.shape[0])\n",
    "data.head()"
   ]
  },
  {
   "cell_type": "markdown",
   "id": "3a431bc3",
   "metadata": {},
   "source": [
    "Starting data visualization: which arXiv categories have been the most prevalent as the primary? "
   ]
  },
  {
   "cell_type": "code",
   "execution_count": 3,
   "id": "67f69041",
   "metadata": {},
   "outputs": [
    {
     "data": {
      "image/png": "[encoded data removed]",
      "text/plain": [
       "<Figure size 1000x200 with 1 Axes>"
      ]
     },
     "metadata": {},
     "output_type": "display_data"
    }
   ],
   "source": [
    "fig=plt.figure(figsize=(10,2))\n",
    "ax=fig.add_subplot(1,1,1)\n",
    "\n",
    "#Top 10 most frequent primary categories (bar chart)\n",
    "ax.bar(x=raw_data['primary_category'].value_counts().head(10).index, \n",
    "        height=raw_data['primary_category'].value_counts().head(10),width=0.4)\n",
    "ax.set_title('Top ten most frequent primary categories')\n",
    "\n",
    "plt.show()"
   ]
  },
  {
   "cell_type": "markdown",
   "id": "d4b6e788",
   "metadata": {},
   "source": [
    "There are labels with very low frequency. "
   ]
  },
  {
   "cell_type": "code",
   "execution_count": 4,
   "id": "7d0c9c88",
   "metadata": {},
   "outputs": [
    {
     "data": {
      "text/plain": [
       "primary_category\n",
       "math.AG     9694\n",
       "math.CO     8838\n",
       "math.NT     8380\n",
       "math.FA     8377\n",
       "math.DG     8126\n",
       "math.GT     7992\n",
       "math.AP     7621\n",
       "math.CA     7430\n",
       "math.GR     7303\n",
       "math.PR     7157\n",
       "math.RA     6231\n",
       "math.DS     6150\n",
       "math.RT     6097\n",
       "math.CV     5931\n",
       "math.NA     5570\n",
       "math.AC     4989\n",
       "math.AT     4665\n",
       "math.OA     4312\n",
       "math.LO     4295\n",
       "math.QA     3652\n",
       "math.ST     3546\n",
       "math.MG     3379\n",
       "math-ph     3343\n",
       "math.OC     3197\n",
       "math.SG     2437\n",
       "math.SP     2347\n",
       "math.CT     2009\n",
       "math.GN     1995\n",
       "math.GM     1699\n",
       "math.HO     1250\n",
       "math.KT     1163\n",
       "cs.IT        694\n",
       "stat.ME      371\n",
       "quant-ph     322\n",
       "cs.LG        264\n",
       "nlin.SI      243\n",
       "q-bio.PE     205\n",
       "stat.ML      183\n",
       "gr-qc        179\n",
       "hep-th       177\n",
       "Name: count, dtype: int64"
      ]
     },
     "execution_count": 4,
     "metadata": {},
     "output_type": "execute_result"
    }
   ],
   "source": [
    "data['primary_category'].value_counts().head(40)"
   ]
  },
  {
   "cell_type": "markdown",
   "id": "25936f51",
   "metadata": {},
   "source": [
    "Observe that labels which are not from math archive appear scarcely. We drop those labels, and one-hot encode the remaining labels. "
   ]
  },
  {
   "cell_type": "code",
   "execution_count": 5,
   "id": "ab3edeb7",
   "metadata": {},
   "outputs": [],
   "source": [
    "data=data[data['primary_category'].apply(lambda x:x.startswith('math'))][['cleaned_text','primary_category']]\n",
    "data.reset_index(inplace=True)\n",
    "MathCat_list=list(data['primary_category'].unique())\n",
    "lb=LabelBinarizer()\n",
    "lb.fit(MathCat_list)\n",
    "data=pd.concat((data['cleaned_text'],pd.DataFrame(lb.transform(data['primary_category']),columns=MathCat_list,dtype=int))\n",
    "               ,axis=1)\n",
    "\n",
    "#Saving the encoded data in a compressed form.     \n",
    "data.to_csv('./data/data_encoded_CatPred.zip',compression='zip',index=False)"
   ]
  },
  {
   "cell_type": "markdown",
   "id": "98d480fe",
   "metadata": {},
   "source": [
    "We next split the data into train and test sets in a way that labels are distributed evenly. We save the corresponding row indices for future use."
   ]
  },
  {
   "cell_type": "code",
   "execution_count": 6,
   "id": "58755c0a",
   "metadata": {},
   "outputs": [
    {
     "name": "stdout",
     "output_type": "stream",
     "text": [
      "The number of training instances: 119381\n",
      "The number of test instances: 39794\n"
     ]
    }
   ],
   "source": [
    "#https://stackoverflow.com/questions/29438265/stratified-train-test-split-in-scikit-learn\n",
    "X_train,X_test,y_train,y_test=train_test_split(data['cleaned_text'],data.iloc[:,1:],test_size=0.25,random_state=1,\n",
    "                                             stratify=data.iloc[:,1:])\n",
    "train_index=np.asarray(X_train.index).tolist()\n",
    "print(f'The number of training instances: {len(train_index)}')\n",
    "with open('./data/train_index_CatPred.json','w') as file:\n",
    "    json.dump(train_index,file)\n",
    "    \n",
    "test_index=np.asarray(X_test.index).tolist()\n",
    "print(f'The number of test instances: {len(test_index)}')\n",
    "with open('./data/test_index_CatPred.json','w') as file:\n",
    "    json.dump(test_index,file)"
   ]
  },
  {
   "cell_type": "markdown",
   "id": "34229132",
   "metadata": {},
   "source": [
    "Making sure no label is all zero in either the training or the test set. "
   ]
  },
  {
   "cell_type": "code",
   "execution_count": 7,
   "id": "f41eb25e",
   "metadata": {},
   "outputs": [
    {
     "name": "stdout",
     "output_type": "stream",
     "text": [
      "The number of all-zero columns in y_train is 0.\n",
      "\n",
      "The number of all-zero columns in y_test is 0.\n"
     ]
    }
   ],
   "source": [
    "print(f'The number of all-zero columns in y_train is {np.sum((np.sum(y_train,axis=0)==0).astype(int))}.\\n')\n",
    "\n",
    "print(f'The number of all-zero columns in y_test is {np.sum((np.sum(y_test,axis=0)==0).astype(int))}.')"
   ]
  },
  {
   "cell_type": "markdown",
   "id": "8b5e5235",
   "metadata": {},
   "source": [
    "The next setp is to [tokenize](https://neptune.ai/blog/tokenization-in-nlp) the text. How many words appear in the text data overall or on average? "
   ]
  },
  {
   "cell_type": "code",
   "execution_count": 8,
   "id": "e9061b5d",
   "metadata": {},
   "outputs": [
    {
     "name": "stdout",
     "output_type": "stream",
     "text": [
      "Vocabulary size: 71614\n"
     ]
    },
    {
     "data": {
      "text/plain": [
       "count    119381.000000\n",
       "mean         56.342718\n",
       "std          28.880416\n",
       "min           2.000000\n",
       "25%          35.000000\n",
       "50%          51.000000\n",
       "75%          71.000000\n",
       "max         219.000000\n",
       "Name: cleaned_text, dtype: float64"
      ]
     },
     "execution_count": 8,
     "metadata": {},
     "output_type": "execute_result"
    }
   ],
   "source": [
    "vocabulary = set()\n",
    "X_train.str.split().apply(vocabulary.update)\n",
    "vocabulary_size = len(vocabulary)\n",
    "print(f'Vocabulary size: {vocabulary_size}')\n",
    "\n",
    "X_train.apply(lambda x: len(x.split(\" \"))).describe()"
   ]
  },
  {
   "cell_type": "markdown",
   "id": "7a1e3245",
   "metadata": {},
   "source": [
    "The text is already cleaned, everything lower-case and no stop word, punctuation or special character. Thus there is no need to pass `filter` to `Tokenizer`."
   ]
  },
  {
   "cell_type": "code",
   "execution_count": 9,
   "id": "2f2a65ba",
   "metadata": {},
   "outputs": [],
   "source": [
    "tokenizer=Tokenizer()\n",
    "tokenizer.fit_on_texts(X_train)"
   ]
  },
  {
   "cell_type": "markdown",
   "id": "c7011eaf",
   "metadata": {},
   "source": [
    "We apply padding to turn all sequences into the same length. As observed above, most inputs have less than 100 words. Hence we set `maxlen=100` in Keras' `pad_sequences`. "
   ]
  },
  {
   "cell_type": "code",
   "execution_count": 10,
   "id": "26430799",
   "metadata": {},
   "outputs": [
    {
     "name": "stdout",
     "output_type": "stream",
     "text": [
      "[[1740  510  204 ...    0    0    0]\n",
      " [ 528   68 1161 ...    0    0    0]\n",
      " [ 747  478   92 ...  336 1257  116]\n",
      " ...\n",
      " [  25  324    3 ...    0    0    0]\n",
      " [2538 2437  845 ...    0    0    0]\n",
      " [ 291 3340  323 ...    0    0    0]]\n",
      "[[  37   97   21 ...    0    0    0]\n",
      " [  43  244 1092 ...    0    0    0]\n",
      " [ 170 1468  283 ...    0    0    0]\n",
      " ...\n",
      " [1780   12  159 ...    0    0    0]\n",
      " [  34   45 1716 ...    0    0    0]\n",
      " [1296 3335  247 ...    0    0    0]]\n"
     ]
    }
   ],
   "source": [
    "X_train=tokenizer.texts_to_sequences(X_train)\n",
    "X_train=pad_sequences(X_train, maxlen=100, padding='post')\n",
    "print(X_train)\n",
    "\n",
    "X_test=tokenizer.texts_to_sequences(X_test)\n",
    "X_test=pad_sequences(X_test, maxlen=100, padding='post')\n",
    "print(X_test)"
   ]
  },
  {
   "cell_type": "markdown",
   "id": "e691c32b",
   "metadata": {},
   "source": [
    "Now we create a convolutional neural network model for our text classification problem. "
   ]
  },
  {
   "cell_type": "code",
   "execution_count": 11,
   "id": "50bddb15",
   "metadata": {},
   "outputs": [
    {
     "name": "stdout",
     "output_type": "stream",
     "text": [
      "WARNING:tensorflow:From C:\\Users\\khash\\anaconda3\\Lib\\site-packages\\keras\\src\\backend.py:873: The name tf.get_default_graph is deprecated. Please use tf.compat.v1.get_default_graph instead.\n",
      "\n",
      "Model: \"sequential\"\n",
      "_________________________________________________________________\n",
      " Layer (type)                Output Shape              Param #   \n",
      "=================================================================\n",
      " embedding (Embedding)       (None, 100, 50)           3580750   \n",
      "                                                                 \n",
      " dropout (Dropout)           (None, 100, 50)           0         \n",
      "                                                                 \n",
      " conv1d (Conv1D)             (None, 98, 75)            11325     \n",
      "                                                                 \n",
      " global_max_pooling1d (Glob  (None, 75)                0         \n",
      " alMaxPooling1D)                                                 \n",
      "                                                                 \n",
      " dense (Dense)               (None, 75)                5700      \n",
      "                                                                 \n",
      " dropout_1 (Dropout)         (None, 75)                0         \n",
      "                                                                 \n",
      " activation (Activation)     (None, 75)                0         \n",
      "                                                                 \n",
      " dense_1 (Dense)             (None, 31)                2356      \n",
      "                                                                 \n",
      "=================================================================\n",
      "Total params: 3600131 (13.73 MB)\n",
      "Trainable params: 3600131 (13.73 MB)\n",
      "Non-trainable params: 0 (0.00 Byte)\n",
      "_________________________________________________________________\n"
     ]
    }
   ],
   "source": [
    "clf_nn=Sequential()\n",
    "\n",
    "#The embedding layer\n",
    "#We add 1 because the embedding layer is zero-based \n",
    "#https://stackoverflow.com/questions/72263400/why-in-keras-embedding-layers-matrix-is-a-size-of-vocab-size-1\n",
    "clf_nn.add(Embedding(input_dim=vocabulary_size+1, output_dim=50, input_length=100))\n",
    "\n",
    "#Adding a dropout layer\n",
    "clf_nn.add(Dropout(0.2))\n",
    "\n",
    "#Adding a convolutional layer\n",
    "clf_nn.add(Conv1D(75,\n",
    "                 kernel_size=3,\n",
    "                 padding='valid',\n",
    "                 activation='relu',\n",
    "                 strides=1))\n",
    "\n",
    "#We use max pooling:\n",
    "clf_nn.add(GlobalMaxPooling1D()) \n",
    "\n",
    "#We add a vanilla hidden layer:\n",
    "clf_nn.add(Dense(75))\n",
    "\n",
    "#Adding another dropout layer\n",
    "clf_nn.add(Dropout(0.2))\n",
    "clf_nn.add(Activation('relu'))\n",
    "\n",
    "# Adding a dense output layer with softmax activation\n",
    "clf_nn.add(Dense(31, activation='softmax'))\n",
    "clf_nn.summary()"
   ]
  },
  {
   "cell_type": "markdown",
   "id": "a189900a",
   "metadata": {},
   "source": [
    "The cells below train the model and plot the loss and accuracy over training and validation sets versus epochs. The task is multi-class classification, so  the last layer of the network above had `softmax` activation, and we should use `loss='categorical_crossentropy'` in training (see [here](https://stackoverflow.com/a/59433454/13036105) for more details). "
   ]
  },
  {
   "cell_type": "code",
   "execution_count": 12,
   "id": "084233b4",
   "metadata": {
    "scrolled": false
   },
   "outputs": [
    {
     "name": "stdout",
     "output_type": "stream",
     "text": [
      "Epoch 1/30\n",
      "WARNING:tensorflow:From C:\\Users\\khash\\anaconda3\\Lib\\site-packages\\keras\\src\\utils\\tf_utils.py:492: The name tf.ragged.RaggedTensorValue is deprecated. Please use tf.compat.v1.ragged.RaggedTensorValue instead.\n",
      "\n",
      "WARNING:tensorflow:From C:\\Users\\khash\\anaconda3\\Lib\\site-packages\\keras\\src\\engine\\base_layer_utils.py:384: The name tf.executing_eagerly_outside_functions is deprecated. Please use tf.compat.v1.executing_eagerly_outside_functions instead.\n",
      "\n",
      "2612/2612 [==============================] - 93s 35ms/step - loss: 3.2386 - accuracy: 0.1064 - val_loss: 2.9265 - val_accuracy: 0.2532\n",
      "Epoch 2/30\n",
      "2612/2612 [==============================] - 89s 34ms/step - loss: 2.6158 - accuracy: 0.2927 - val_loss: 2.3124 - val_accuracy: 0.3689\n",
      "Epoch 3/30\n",
      "2612/2612 [==============================] - 93s 36ms/step - loss: 2.2099 - accuracy: 0.3788 - val_loss: 2.0090 - val_accuracy: 0.4317\n",
      "Epoch 4/30\n",
      "2612/2612 [==============================] - 91s 35ms/step - loss: 1.9721 - accuracy: 0.4349 - val_loss: 1.8203 - val_accuracy: 0.4817\n",
      "Epoch 5/30\n",
      "2612/2612 [==============================] - 90s 34ms/step - loss: 1.8054 - accuracy: 0.4808 - val_loss: 1.6818 - val_accuracy: 0.5209\n",
      "Epoch 6/30\n",
      "2612/2612 [==============================] - 90s 35ms/step - loss: 1.6746 - accuracy: 0.5172 - val_loss: 1.5792 - val_accuracy: 0.5480\n",
      "Epoch 7/30\n",
      "2612/2612 [==============================] - 91s 35ms/step - loss: 1.5701 - accuracy: 0.5460 - val_loss: 1.4976 - val_accuracy: 0.5708\n",
      "Epoch 8/30\n",
      "2612/2612 [==============================] - 91s 35ms/step - loss: 1.4824 - accuracy: 0.5721 - val_loss: 1.4354 - val_accuracy: 0.5893\n",
      "Epoch 9/30\n",
      "2612/2612 [==============================] - 91s 35ms/step - loss: 1.4100 - accuracy: 0.5916 - val_loss: 1.3864 - val_accuracy: 0.6030\n",
      "Epoch 10/30\n",
      "2612/2612 [==============================] - 92s 35ms/step - loss: 1.3454 - accuracy: 0.6086 - val_loss: 1.3457 - val_accuracy: 0.6114\n",
      "Epoch 11/30\n",
      "2612/2612 [==============================] - 94s 36ms/step - loss: 1.2913 - accuracy: 0.6237 - val_loss: 1.3132 - val_accuracy: 0.6195\n",
      "Epoch 12/30\n",
      "2612/2612 [==============================] - 89s 34ms/step - loss: 1.2444 - accuracy: 0.6356 - val_loss: 1.2868 - val_accuracy: 0.6258\n",
      "Epoch 13/30\n",
      "2612/2612 [==============================] - 94s 36ms/step - loss: 1.2003 - accuracy: 0.6488 - val_loss: 1.2648 - val_accuracy: 0.6313\n",
      "Epoch 14/30\n",
      "2612/2612 [==============================] - 93s 35ms/step - loss: 1.1566 - accuracy: 0.6584 - val_loss: 1.2459 - val_accuracy: 0.6363\n",
      "Epoch 15/30\n",
      "2612/2612 [==============================] - 92s 35ms/step - loss: 1.1210 - accuracy: 0.6687 - val_loss: 1.2297 - val_accuracy: 0.6402\n",
      "Epoch 16/30\n",
      "2612/2612 [==============================] - 93s 36ms/step - loss: 1.0863 - accuracy: 0.6791 - val_loss: 1.2146 - val_accuracy: 0.6434\n",
      "Epoch 17/30\n",
      "2612/2612 [==============================] - 94s 36ms/step - loss: 1.0501 - accuracy: 0.6886 - val_loss: 1.2035 - val_accuracy: 0.6461\n",
      "Epoch 18/30\n",
      "2612/2612 [==============================] - 94s 36ms/step - loss: 1.0179 - accuracy: 0.6987 - val_loss: 1.1933 - val_accuracy: 0.6488\n",
      "Epoch 19/30\n",
      "2612/2612 [==============================] - 89s 34ms/step - loss: 0.9919 - accuracy: 0.7058 - val_loss: 1.1863 - val_accuracy: 0.6512\n",
      "Epoch 20/30\n",
      "2612/2612 [==============================] - 92s 35ms/step - loss: 0.9623 - accuracy: 0.7148 - val_loss: 1.1800 - val_accuracy: 0.6522\n",
      "Epoch 21/30\n",
      "2612/2612 [==============================] - 89s 34ms/step - loss: 0.9297 - accuracy: 0.7238 - val_loss: 1.1760 - val_accuracy: 0.6535\n",
      "Epoch 22/30\n",
      "2612/2612 [==============================] - 93s 36ms/step - loss: 0.9074 - accuracy: 0.7308 - val_loss: 1.1730 - val_accuracy: 0.6540\n",
      "Epoch 23/30\n",
      "2612/2612 [==============================] - 92s 35ms/step - loss: 0.8782 - accuracy: 0.7381 - val_loss: 1.1701 - val_accuracy: 0.6548\n",
      "Epoch 24/30\n",
      "2612/2612 [==============================] - 94s 36ms/step - loss: 0.8573 - accuracy: 0.7437 - val_loss: 1.1692 - val_accuracy: 0.6567\n",
      "Epoch 25/30\n",
      "2612/2612 [==============================] - 92s 35ms/step - loss: 0.8304 - accuracy: 0.7524 - val_loss: 1.1726 - val_accuracy: 0.6567\n",
      "Epoch 26/30\n",
      "2612/2612 [==============================] - 92s 35ms/step - loss: 0.8065 - accuracy: 0.7598 - val_loss: 1.1738 - val_accuracy: 0.6565\n",
      "Epoch 26: early stopping\n"
     ]
    }
   ],
   "source": [
    "#Early stopping, the training stops if validation loss does not decrease for two epochs. \n",
    "#https://machinelearningmastery.com/how-to-stop-training-deep-neural-networks-at-the-right-time-using-early-stopping/\n",
    "es=EarlyStopping(monitor='val_loss', mode='min', verbose=1, patience=2)\n",
    "\n",
    "opt=Adam(learning_rate=0.00008)\n",
    "clf_nn.compile(optimizer=opt, loss='categorical_crossentropy',metrics=['accuracy'])\n",
    "history = clf_nn.fit(X_train, (y_train),\n",
    "                    epochs=30,\n",
    "                    batch_size=32,\n",
    "                    validation_split=0.3,\n",
    "                    callbacks=[es])"
   ]
  },
  {
   "cell_type": "code",
   "execution_count": 13,
   "id": "d0095e37",
   "metadata": {},
   "outputs": [
    {
     "data": {
      "image/png": "[encoded data removed]",
      "text/plain": [
       "<Figure size 640x480 with 1 Axes>"
      ]
     },
     "metadata": {},
     "output_type": "display_data"
    },
    {
     "data": {
      "image/png": "[encoded data removed]",
      "text/plain": [
       "<Figure size 640x480 with 1 Axes>"
      ]
     },
     "metadata": {},
     "output_type": "display_data"
    }
   ],
   "source": [
    "def plot_result(item):\n",
    "    plt.plot(history.history[item], label=item)\n",
    "    plt.plot(history.history[\"val_\" + item], label=\"val_\" + item)\n",
    "    plt.xlabel(\"Epochs\")\n",
    "    plt.locator_params(axis='x', integer=True)\n",
    "    plt.ylabel(item)\n",
    "    plt.title(\"Train and Validation {} Over Epochs\".format(item), fontsize=14)\n",
    "    plt.legend()\n",
    "    plt.grid()\n",
    "    plt.show()\n",
    "\n",
    "\n",
    "plot_result(\"loss\")\n",
    "plot_result(\"accuracy\")"
   ]
  },
  {
   "cell_type": "markdown",
   "id": "9444a5c6",
   "metadata": {},
   "source": [
    "Loss and accuracy over the test set:"
   ]
  },
  {
   "cell_type": "code",
   "execution_count": 14,
   "id": "3edb5b8a",
   "metadata": {},
   "outputs": [
    {
     "name": "stdout",
     "output_type": "stream",
     "text": [
      "1244/1244 [==============================] - 6s 5ms/step - loss: 1.1630 - accuracy: 0.6606\n",
      "Test loss: 1.1630332469940186\n",
      "Test accuracy: 66.06%\n"
     ]
    }
   ],
   "source": [
    "[test_loss,test_accuracy]=clf_nn.evaluate(X_test,y_test)\n",
    "print(f'Test loss: {test_loss}')\n",
    "print(f'Test accuracy: {round(100*test_accuracy,2)}%')"
   ]
  },
  {
   "cell_type": "markdown",
   "id": "70ba696d",
   "metadata": {},
   "source": [
    "Indeed, we can compute other metrics over the test set as well."
   ]
  },
  {
   "cell_type": "code",
   "execution_count": 15,
   "id": "9d10a019",
   "metadata": {},
   "outputs": [
    {
     "name": "stdout",
     "output_type": "stream",
     "text": [
      "1244/1244 [==============================] - 4s 3ms/step\n",
      " Test Accuracy:  66.06%\n",
      " Test F1-score micro: 66.06%\n",
      " Test F1-score macro: 61.28%\n",
      " Test F1-score weighted: 65.51%\n"
     ]
    }
   ],
   "source": [
    "y_pred_proba=clf_nn.predict(X_test) #Consists of probabilities\n",
    "\n",
    "#Predicted labels based on predicted probabilities.\n",
    "#https://stackoverflow.com/questions/20295046/numpy-change-max-in-each-row-to-1-all-other-numbers-to-0?rq=3\n",
    "y_pred=(y_pred_proba==y_pred_proba.max(axis=1)[:,None]).astype(int)\n",
    "\n",
    "print(f' Test Accuracy:  {round(100*accuracy_score(y_test, y_pred, normalize=True),2)}%')\n",
    "print(f\" Test F1-score micro: {round(100*f1_score(y_test, y_pred, average='micro'),2)}%\")\n",
    "print(f\" Test F1-score macro: {round(100*f1_score(y_test, y_pred, average='macro'),2)}%\")\n",
    "print(f\" Test F1-score weighted: {round(100*f1_score(y_test, y_pred, average='weighted'),2)}%\")  "
   ]
  },
  {
   "cell_type": "markdown",
   "id": "4a7b6189",
   "metadata": {},
   "source": [
    "Saving the trained models along with the names of their variables:"
   ]
  },
  {
   "cell_type": "code",
   "execution_count": 16,
   "id": "0f96f466",
   "metadata": {},
   "outputs": [],
   "source": [
    "def save_zipped_pickle(obj, filename, protocol=-1):\n",
    "    with gzip.open(filename, 'wb') as f:\n",
    "        pkl.dump(obj, f, protocol)\n",
    "\n",
    "save_zipped_pickle(tokenizer,'./models/tokenizer.gz')\n",
    "save_zipped_pickle(clf_nn,'./models/clf_nn.gz')\n",
    "\n",
    "with open('./models/Cat_list.json','w') as file:\n",
    "    json.dump(list(data.columns[1:]),file)"
   ]
  }
 ],
 "metadata": {
  "kernelspec": {
   "display_name": "Python 3 (ipykernel)",
   "language": "python",
   "name": "python3"
  },
  "language_info": {
   "codemirror_mode": {
    "name": "ipython",
    "version": 3
   },
   "file_extension": ".py",
   "mimetype": "text/x-python",
   "name": "python",
   "nbconvert_exporter": "python",
   "pygments_lexer": "ipython3",
   "version": "3.11.5"
  }
 },
 "nbformat": 4,
 "nbformat_minor": 5
}

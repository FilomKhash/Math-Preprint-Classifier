{
 "cells": [
  {
   "cell_type": "markdown",
   "id": "2d5f39e2",
   "metadata": {},
   "source": [
    "In this notebook, we begin to work with the data that we scraped from arXiv and then preprocessed in `Scarping and Cleaning the Data.ipynb`. The goal is to predict the 3-character [MSC (Mathematical Subject Classification)](https://mathscinet.ams.org/mathscinet/msc/msc2020.html) classes for a preprint based on the feature `cleaned_text` obtained from preprocessing the title and abstract.<a name=\"cite_ref-a\"></a>[<sup>*</sup>](#cite_note-a) This turns out to be a multi-label text classification task:\n",
    "\n",
    "$\\hspace{3cm}$  `cleaned_text` $\\mapsto$ 3-character MSC classes (e.g. 46L, 57M, 57R) $\\hspace{1cm}$  (~160,000 data points and ~500 labels).\n",
    "    \n",
    "\n",
    "\n",
    "More precisely, here, we will:\n",
    "1) explore and visualize the data,\n",
    "2) encode the labels,\n",
    "3) split into the training and test sets via [stratified sampling for multi-label data](https://link.springer.com/chapter/10.1007/978-3-642-23808-6_10),\n",
    "4) vectorize the text data with [TF-IDF (Term Frequency-Inverse Document Frequency)](https://en.wikipedia.org/wiki/Tf%E2%80%93idf),\n",
    "5) train a simple support vector machine classifier. \n",
    "\n",
    "Based on the classifier above, models for predicting coarser target variables such as the 2-character MSC classes (*simplified* labels) may be constructed: \n",
    "\n",
    "$\\hspace{3cm}$  `cleaned_text` $\\mapsto$ 3-character MSC classes (e.g. 46L, 57M, 57R) \n",
    "$\\mapsto$ 2-character MSC classes (e.g. 46, 57) $\\hspace{1cm}$  (~60 labels).\n",
    "\n",
    "\n",
    "\n",
    "<a name=\"cite_note-a\"></a>[*](#cite_ref-a) Our data has other attributes as well, such as the primary arXiv category, authors' names etc."
   ]
  },
  {
   "cell_type": "code",
   "execution_count": 1,
   "id": "30f9cf47",
   "metadata": {},
   "outputs": [],
   "source": [
    "import pandas as pd\n",
    "import matplotlib.pyplot as plt\n",
    "import numpy as np\n",
    "import random\n",
    "import json\n",
    "\n",
    "import pickle as pkl\n",
    "import gzip\n",
    "\n",
    "from sklearn.feature_extraction.text import TfidfVectorizer\n",
    "from sklearn.multiclass import OneVsRestClassifier\n",
    "from sklearn.svm import LinearSVC\n",
    "from sklearn.model_selection import cross_val_score\n",
    "from sklearn.metrics import f1_score, accuracy_score, jaccard_score\n",
    "from sklearn.calibration import CalibratedClassifierCV\n",
    "\n",
    "#stratified.py is imported (from the same folder) for multi-label stratified sampling. \n",
    "#The short python code is based on the iterstrat library.\n",
    "from stratified import multilabel_train_test_split\n",
    "\n",
    "from scipy import sparse"
   ]
  },
  {
   "cell_type": "markdown",
   "id": "cd434247",
   "metadata": {},
   "source": [
    "We first load the data. Among the columns, we only keep `cleaned_text` and `MSC`."
   ]
  },
  {
   "cell_type": "code",
   "execution_count": 2,
   "id": "ac770893",
   "metadata": {},
   "outputs": [
    {
     "name": "stdout",
     "output_type": "stream",
     "text": [
      "Size of the raw data:  164230\n"
     ]
    },
    {
     "data": {
      "text/html": [
       "<div>\n",
       "<style scoped>\n",
       "    .dataframe tbody tr th:only-of-type {\n",
       "        vertical-align: middle;\n",
       "    }\n",
       "\n",
       "    .dataframe tbody tr th {\n",
       "        vertical-align: top;\n",
       "    }\n",
       "\n",
       "    .dataframe thead th {\n",
       "        text-align: right;\n",
       "    }\n",
       "</style>\n",
       "<table border=\"1\" class=\"dataframe\">\n",
       "  <thead>\n",
       "    <tr style=\"text-align: right;\">\n",
       "      <th></th>\n",
       "      <th>cleaned_text</th>\n",
       "      <th>MSC</th>\n",
       "    </tr>\n",
       "  </thead>\n",
       "  <tbody>\n",
       "    <tr>\n",
       "      <th>0</th>\n",
       "      <td>massiv parallel eulerian lagrangian method adv...</td>\n",
       "      <td>[65Y, 65M]</td>\n",
       "    </tr>\n",
       "    <tr>\n",
       "      <th>1</th>\n",
       "      <td>algebra irreduc modul varieti iii birkhoff var...</td>\n",
       "      <td>[16G, 14L]</td>\n",
       "    </tr>\n",
       "    <tr>\n",
       "      <th>2</th>\n",
       "      <td>exist smooth orbit varieti simpl lie algebra o...</td>\n",
       "      <td>[17B, 14M, 05E, 14L]</td>\n",
       "    </tr>\n",
       "    <tr>\n",
       "      <th>3</th>\n",
       "      <td>polyhedr realize crystal base convex geometr d...</td>\n",
       "      <td>[14M, 05E, 52B]</td>\n",
       "    </tr>\n",
       "    <tr>\n",
       "      <th>4</th>\n",
       "      <td>high curv orbit space infimum section curvatur...</td>\n",
       "      <td>[53B, 22E, 57S]</td>\n",
       "    </tr>\n",
       "  </tbody>\n",
       "</table>\n",
       "</div>"
      ],
      "text/plain": [
       "                                        cleaned_text                   MSC\n",
       "0  massiv parallel eulerian lagrangian method adv...            [65Y, 65M]\n",
       "1  algebra irreduc modul varieti iii birkhoff var...            [16G, 14L]\n",
       "2  exist smooth orbit varieti simpl lie algebra o...  [17B, 14M, 05E, 14L]\n",
       "3  polyhedr realize crystal base convex geometr d...       [14M, 05E, 52B]\n",
       "4  high curv orbit space infimum section curvatur...       [53B, 22E, 57S]"
      ]
     },
     "execution_count": 2,
     "metadata": {},
     "output_type": "execute_result"
    }
   ],
   "source": [
    "raw_data=pd.read_csv('./data/data.zip',compression='zip')\n",
    "raw_data=raw_data[['cleaned_text','MSC']]\n",
    "print('Size of the raw data: ',raw_data.shape[0])\n",
    "\n",
    "#While loading, the lists under the MSC column are loaded as strings. They should be turned back into lists.\n",
    "raw_data['MSC']=raw_data['MSC'].apply(lambda x:eval(x))\n",
    "raw_data.head()"
   ]
  },
  {
   "cell_type": "markdown",
   "id": "933ed16b",
   "metadata": {},
   "source": [
    "The labels (MSC classes) should be encoded. This results in the data frame `data`. In parallel, we create `data_simpl` with simplified (2-character MSC classes) encoded labels. As we go over the data to encode the labels, we also form a dictionary of different words that constitute the text along with their multiplicities. "
   ]
  },
  {
   "cell_type": "code",
   "execution_count": 3,
   "id": "55dcbc15",
   "metadata": {
    "scrolled": false
   },
   "outputs": [
    {
     "name": "stdout",
     "output_type": "stream",
     "text": [
      "The number of distinct labels is 532.\n",
      "The average number of labels per entry is 2.35.\n",
      "\n",
      "The number of distinct simplified labels is 63.\n",
      "The average number of simplified labels per entry is 1.87.\n",
      "\n"
     ]
    },
    {
     "data": {
      "text/html": [
       "<div>\n",
       "<style scoped>\n",
       "    .dataframe tbody tr th:only-of-type {\n",
       "        vertical-align: middle;\n",
       "    }\n",
       "\n",
       "    .dataframe tbody tr th {\n",
       "        vertical-align: top;\n",
       "    }\n",
       "\n",
       "    .dataframe thead th {\n",
       "        text-align: right;\n",
       "    }\n",
       "</style>\n",
       "<table border=\"1\" class=\"dataframe\">\n",
       "  <thead>\n",
       "    <tr style=\"text-align: right;\">\n",
       "      <th></th>\n",
       "      <th>cleaned_text</th>\n",
       "      <th>93C</th>\n",
       "      <th>34N</th>\n",
       "      <th>51P</th>\n",
       "      <th>18B</th>\n",
       "      <th>76T</th>\n",
       "      <th>65Z</th>\n",
       "      <th>13G</th>\n",
       "      <th>26B</th>\n",
       "      <th>34M</th>\n",
       "      <th>...</th>\n",
       "      <th>60H</th>\n",
       "      <th>45P</th>\n",
       "      <th>51H</th>\n",
       "      <th>47J</th>\n",
       "      <th>53B</th>\n",
       "      <th>06E</th>\n",
       "      <th>51M</th>\n",
       "      <th>14B</th>\n",
       "      <th>03H</th>\n",
       "      <th>51K</th>\n",
       "    </tr>\n",
       "  </thead>\n",
       "  <tbody>\n",
       "    <tr>\n",
       "      <th>0</th>\n",
       "      <td>massiv parallel eulerian lagrangian method adv...</td>\n",
       "      <td>0</td>\n",
       "      <td>0</td>\n",
       "      <td>0</td>\n",
       "      <td>0</td>\n",
       "      <td>0</td>\n",
       "      <td>0</td>\n",
       "      <td>0</td>\n",
       "      <td>0</td>\n",
       "      <td>0</td>\n",
       "      <td>...</td>\n",
       "      <td>0</td>\n",
       "      <td>0</td>\n",
       "      <td>0</td>\n",
       "      <td>0</td>\n",
       "      <td>0</td>\n",
       "      <td>0</td>\n",
       "      <td>0</td>\n",
       "      <td>0</td>\n",
       "      <td>0</td>\n",
       "      <td>0</td>\n",
       "    </tr>\n",
       "    <tr>\n",
       "      <th>1</th>\n",
       "      <td>algebra irreduc modul varieti iii birkhoff var...</td>\n",
       "      <td>0</td>\n",
       "      <td>0</td>\n",
       "      <td>0</td>\n",
       "      <td>0</td>\n",
       "      <td>0</td>\n",
       "      <td>0</td>\n",
       "      <td>0</td>\n",
       "      <td>0</td>\n",
       "      <td>0</td>\n",
       "      <td>...</td>\n",
       "      <td>0</td>\n",
       "      <td>0</td>\n",
       "      <td>0</td>\n",
       "      <td>0</td>\n",
       "      <td>0</td>\n",
       "      <td>0</td>\n",
       "      <td>0</td>\n",
       "      <td>0</td>\n",
       "      <td>0</td>\n",
       "      <td>0</td>\n",
       "    </tr>\n",
       "    <tr>\n",
       "      <th>2</th>\n",
       "      <td>exist smooth orbit varieti simpl lie algebra o...</td>\n",
       "      <td>0</td>\n",
       "      <td>0</td>\n",
       "      <td>0</td>\n",
       "      <td>0</td>\n",
       "      <td>0</td>\n",
       "      <td>0</td>\n",
       "      <td>0</td>\n",
       "      <td>0</td>\n",
       "      <td>0</td>\n",
       "      <td>...</td>\n",
       "      <td>0</td>\n",
       "      <td>0</td>\n",
       "      <td>0</td>\n",
       "      <td>0</td>\n",
       "      <td>0</td>\n",
       "      <td>0</td>\n",
       "      <td>0</td>\n",
       "      <td>0</td>\n",
       "      <td>0</td>\n",
       "      <td>0</td>\n",
       "    </tr>\n",
       "    <tr>\n",
       "      <th>3</th>\n",
       "      <td>polyhedr realize crystal base convex geometr d...</td>\n",
       "      <td>0</td>\n",
       "      <td>0</td>\n",
       "      <td>0</td>\n",
       "      <td>0</td>\n",
       "      <td>0</td>\n",
       "      <td>0</td>\n",
       "      <td>0</td>\n",
       "      <td>0</td>\n",
       "      <td>0</td>\n",
       "      <td>...</td>\n",
       "      <td>0</td>\n",
       "      <td>0</td>\n",
       "      <td>0</td>\n",
       "      <td>0</td>\n",
       "      <td>0</td>\n",
       "      <td>0</td>\n",
       "      <td>0</td>\n",
       "      <td>0</td>\n",
       "      <td>0</td>\n",
       "      <td>0</td>\n",
       "    </tr>\n",
       "    <tr>\n",
       "      <th>4</th>\n",
       "      <td>high curv orbit space infimum section curvatur...</td>\n",
       "      <td>0</td>\n",
       "      <td>0</td>\n",
       "      <td>0</td>\n",
       "      <td>0</td>\n",
       "      <td>0</td>\n",
       "      <td>0</td>\n",
       "      <td>0</td>\n",
       "      <td>0</td>\n",
       "      <td>0</td>\n",
       "      <td>...</td>\n",
       "      <td>0</td>\n",
       "      <td>0</td>\n",
       "      <td>0</td>\n",
       "      <td>0</td>\n",
       "      <td>1</td>\n",
       "      <td>0</td>\n",
       "      <td>0</td>\n",
       "      <td>0</td>\n",
       "      <td>0</td>\n",
       "      <td>0</td>\n",
       "    </tr>\n",
       "  </tbody>\n",
       "</table>\n",
       "<p>5 rows × 533 columns</p>\n",
       "</div>"
      ],
      "text/plain": [
       "                                        cleaned_text  93C  34N  51P  18B  76T  \\\n",
       "0  massiv parallel eulerian lagrangian method adv...    0    0    0    0    0   \n",
       "1  algebra irreduc modul varieti iii birkhoff var...    0    0    0    0    0   \n",
       "2  exist smooth orbit varieti simpl lie algebra o...    0    0    0    0    0   \n",
       "3  polyhedr realize crystal base convex geometr d...    0    0    0    0    0   \n",
       "4  high curv orbit space infimum section curvatur...    0    0    0    0    0   \n",
       "\n",
       "   65Z  13G  26B  34M  ...  60H  45P  51H  47J  53B  06E  51M  14B  03H  51K  \n",
       "0    0    0    0    0  ...    0    0    0    0    0    0    0    0    0    0  \n",
       "1    0    0    0    0  ...    0    0    0    0    0    0    0    0    0    0  \n",
       "2    0    0    0    0  ...    0    0    0    0    0    0    0    0    0    0  \n",
       "3    0    0    0    0  ...    0    0    0    0    0    0    0    0    0    0  \n",
       "4    0    0    0    0  ...    0    0    0    0    1    0    0    0    0    0  \n",
       "\n",
       "[5 rows x 533 columns]"
      ]
     },
     "execution_count": 3,
     "metadata": {},
     "output_type": "execute_result"
    }
   ],
   "source": [
    "#The lists of distinct labels and simplified labels that come up.\n",
    "MSC_list=list(set.union(*raw_data['MSC'].apply(lambda x: set([y for y in x])).to_list()))\n",
    "MSC_simpl_list=list(set.union(*raw_data['MSC'].apply(lambda x: set([y[:2] for y in x])).to_list()))\n",
    "\n",
    "#Listing the numbers of labels and distinct lables across the data. \n",
    "num_labels=raw_data['MSC'].apply(lambda x: len(x)).to_list()\n",
    "num_simpl_labels=raw_data['MSC'].apply(lambda x: len(set([y[:2] for y in x]))).to_list()\n",
    "\n",
    "print(f'The number of distinct labels is {len(MSC_list)}.')\n",
    "print(f\"The average number of labels per entry is {round(sum(num_labels)/raw_data.shape[0],2)}.\\n\")\n",
    "\n",
    "print(f'The number of distinct simplified labels is {len(MSC_simpl_list)}.')\n",
    "print(f\"The average number of simplified labels per entry is {round(sum(num_simpl_labels)/raw_data.shape[0],2)}.\\n\")\n",
    "\n",
    "\n",
    "#We initialize a dictionary to record the multiplicities of various words that appear in the text data. \n",
    "#We go over the data frame to update the dictionary, and to encode the labels. \n",
    "dict_words={} \n",
    "\n",
    "#Adding columns for encoded labels. \n",
    "data=pd.concat((raw_data,pd.DataFrame(data=0,index=np.arange(raw_data.shape[0]),\n",
    "                             columns=MSC_list)),axis=1)\n",
    "data_simpl=pd.concat((raw_data,pd.DataFrame(data=0,index=np.arange(raw_data.shape[0]),\n",
    "                             columns=MSC_simpl_list)),axis=1)\n",
    "\n",
    "\n",
    "for row in range(data.shape[0]):\n",
    "    \n",
    "    words=data['cleaned_text'][row].split(' ')      #The text has been cleaned already, no consecutive spaces.\n",
    "    for word in words: \n",
    "        if word in dict_words.keys():\n",
    "            dict_words[word]+=1\n",
    "        else:\n",
    "            dict_words[word]=1\n",
    "                \n",
    "    classes=data['MSC'][row]\n",
    "    for MSC in classes:\n",
    "        data.at[row,MSC]=1\n",
    "    \n",
    "    simpl_classes=list(set([x[:2] for x in classes]))\n",
    "    for MSC in simpl_classes:\n",
    "        data_simpl.at[row,MSC]=1\n",
    "        \n",
    "\n",
    "data.drop(columns=['MSC'],inplace=True)\n",
    "data_simpl.drop(columns=['MSC'],inplace=True)\n",
    "\n",
    "\n",
    "dict_MSC={}\n",
    "for MSC in MSC_list:\n",
    "    dict_MSC[MSC]=data[MSC].sum()\n",
    "\n",
    "    \n",
    "dict_MSC_simpl={}\n",
    "for MSC in MSC_simpl_list:\n",
    "    dict_MSC_simpl[MSC]=data_simpl[MSC].sum()\n",
    "\n",
    "    \n",
    "data.head()"
   ]
  },
  {
   "cell_type": "markdown",
   "id": "b8bdca7f",
   "metadata": {},
   "source": [
    "Visualizing the most common labels (MSC classes). "
   ]
  },
  {
   "cell_type": "code",
   "execution_count": 4,
   "id": "6830baea",
   "metadata": {},
   "outputs": [
    {
     "data": {
      "image/png": "[encoded data removed]",
      "text/plain": [
       "<Figure size 1000x600 with 4 Axes>"
      ]
     },
     "metadata": {},
     "output_type": "display_data"
    }
   ],
   "source": [
    "fig=plt.figure(figsize=(10,6))\n",
    "\n",
    "\n",
    "#Top 10 most frequent MSC classes (bar chart)\n",
    "ax1=fig.add_subplot(8,1,1)\n",
    "top_index=np.argsort(-np.asarray(list(dict_MSC.values())))[0:15]\n",
    "ax1.bar(x=np.asarray(list(dict_MSC.keys()))[top_index],\n",
    "        height=np.asarray(list(dict_MSC.values()))[top_index],width=0.4,color='m')\n",
    "ax1.set_title('Top fifteen most frequent labels (3-character MSC classes)')\n",
    "\n",
    "#Number of labels (histogram)\n",
    "ax2=fig.add_subplot(8,1,3)\n",
    "ax2.hist(num_labels,color='m')\n",
    "ax2.locator_params(axis='x', integer=True)\n",
    "ax2.set_title('Histogram for the number of distinct labels (3-character MSC classes)')\n",
    "\n",
    "\n",
    "#Top 10 most frequent 2-character MSC classes (bar chart)\n",
    "ax3=fig.add_subplot(8,1,6)\n",
    "top_index=np.argsort(-np.asarray(list(dict_MSC_simpl.values())))[0:15]\n",
    "ax3.bar(x=np.asarray(list(dict_MSC_simpl.keys()))[top_index],\n",
    "        height=np.asarray(list(dict_MSC_simpl.values()))[top_index],width=0.4,color='c')\n",
    "ax3.set_title('Top fifteen most frequent simplified labels (2-character MSC classes)')\n",
    "\n",
    "\n",
    "#Number of simplified labels (histogram)\n",
    "ax2=fig.add_subplot(8,1,8)\n",
    "ax2.hist(num_simpl_labels,color='c')\n",
    "ax2.locator_params(axis='x', integer=True)\n",
    "ax2.set_title('Histogram for the number of distinct labels (3-character MSC classes)')\n",
    "\n",
    "\n",
    "\n",
    "plt.show()"
   ]
  },
  {
   "cell_type": "markdown",
   "id": "87be6533",
   "metadata": {},
   "source": [
    "If a label occurs only once throughout the data, then either the training or the test dataset will lack it. To avoid this, we drop all such labels along with instances whose only label is such a thing (if any)."
   ]
  },
  {
   "cell_type": "code",
   "execution_count": 5,
   "id": "d964e70a",
   "metadata": {},
   "outputs": [
    {
     "name": "stdout",
     "output_type": "stream",
     "text": [
      "MSC classes that happen only once are: 83B\n",
      "\n",
      "No need to drop any rows.\n"
     ]
    }
   ],
   "source": [
    "MSC_only_once=[]\n",
    "ascending=np.argsort(np.asarray(list(dict_MSC.values())))\n",
    "for arg in ascending:\n",
    "    if np.asarray(list(dict_MSC.values()))[arg]==1:\n",
    "        MSC_only_once+=[np.asarray(list(dict_MSC.keys()))[arg]]\n",
    "    else:\n",
    "        break\n",
    "\n",
    "print('MSC classes that happen only once are:', *MSC_only_once)\n",
    "\n",
    "#Deleting these keys from the corresponding dictionary and list\n",
    "for MSC in MSC_only_once:\n",
    "    del dict_MSC[MSC]\n",
    "    MSC_list.remove(MSC)\n",
    "\n",
    "data.drop(columns=MSC_only_once,inplace=True)\n",
    "\n",
    "if data[(data.iloc[:,1:]==0).all(axis=1)].shape[0]==0:\n",
    "    print('\\nNo need to drop any rows.')\n",
    "else: \n",
    "    drop_index=data[(data.iloc[:,1:]==0).all(axis=1)].index\n",
    "    data.drop(columns=MSC_only_once,inplace=True)\n",
    "    print(f'\\nThe number of rows dropped is {drop_index.shape[0]}')\n",
    "\n",
    "\n",
    "#Saving the encoded data in a compressed form.     \n",
    "data.to_csv('./data/data_encoded.zip',compression='zip',index=False)"
   ]
  },
  {
   "cell_type": "markdown",
   "id": "104f2558",
   "metadata": {},
   "source": [
    "We next look at the `cleaned_text` column (to be used as the input text data). How many words appear there? Which words have been most common?"
   ]
  },
  {
   "cell_type": "code",
   "execution_count": 6,
   "id": "e1dbd037",
   "metadata": {
    "scrolled": false
   },
   "outputs": [
    {
     "name": "stdout",
     "output_type": "stream",
     "text": [
      "The total number of words appearing in the cleaned text data is 86957.\n",
      "\n",
      "The average number of words per cleaned text is 57.29.\n"
     ]
    },
    {
     "data": {
      "image/png": "[encoded data removed]",
      "text/plain": [
       "<Figure size 1000x200 with 2 Axes>"
      ]
     },
     "metadata": {},
     "output_type": "display_data"
    }
   ],
   "source": [
    "print(f'The total number of words appearing in the cleaned text data is {len(dict_words)}.\\n')\n",
    "\n",
    "num_words=data['cleaned_text'].apply(lambda x:len(x.split(' ')))\n",
    "\n",
    "print(f'The average number of words per cleaned text is {round(num_words.mean(),2)}.')\n",
    "\n",
    "fig=plt.figure(figsize=(10,2))\n",
    "ax1=fig.add_subplot(3,1,1)\n",
    "\n",
    "#Top 15 most frequent primary categories (bar chart)\n",
    "top_index=np.argsort(-np.asarray(list(dict_words.values())))[0:15]\n",
    "ax1.bar(x=np.asarray(list(dict_words.keys()))[top_index],\n",
    "        height=np.asarray(list(dict_words.values()))[top_index],width=0.4)\n",
    "ax1.set_title('Top fifteen most frequent words')\n",
    "plt.xticks(fontsize=8)\n",
    "\n",
    "ax2=fig.add_subplot(3,1,3)\n",
    "\n",
    "#Number of constituent words (histogram)\n",
    "ax2.hist(num_words)\n",
    "ax2.locator_params(axis='x', integer=True)\n",
    "ax2.set_title('Histogram for the number of words per cleaned text')\n",
    "\n",
    "plt.show()"
   ]
  },
  {
   "cell_type": "markdown",
   "id": "a7514051",
   "metadata": {},
   "source": [
    "Stratified splitting of the data into training and test sets based on the [iterative-stratification](https://github.com/trent-b/iterative-stratification) library. We save the corresponding row indices for future use. We also keep a small validation set which will later be used for probability calibration. "
   ]
  },
  {
   "cell_type": "code",
   "execution_count": 7,
   "id": "5275ffed",
   "metadata": {},
   "outputs": [
    {
     "name": "stdout",
     "output_type": "stream",
     "text": [
      "The number of training instances: 104675\n",
      "The number of validation instances: 18540\n",
      "The number of test instances: 41015\n"
     ]
    }
   ],
   "source": [
    "X_temp, X_test, y_temp, y_test = multilabel_train_test_split(data['cleaned_text'],\n",
    "                                                               data.iloc[:,1:],stratify=data.iloc[:,1:], \n",
    "                                                               test_size=0.25, random_state=2)\n",
    "\n",
    "X_train, X_val, y_train, y_val = multilabel_train_test_split(X_temp,\n",
    "                                                               y_temp,stratify=y_temp, \n",
    "                                                               test_size=0.15, random_state=1)\n",
    "\n",
    "\n",
    "train_index=np.asarray(X_train.index).tolist()\n",
    "print(f'The number of training instances: {len(train_index)}')\n",
    "with open('./data/train_index.json','w') as file:\n",
    "    json.dump(train_index,file)\n",
    "    \n",
    "val_index=np.asarray(X_val.index).tolist()\n",
    "print(f'The number of validation instances: {len(val_index)}')\n",
    "with open('./data/val_index.json','w') as file:\n",
    "    json.dump(val_index,file)\n",
    "\n",
    "test_index=np.asarray(X_test.index).tolist()\n",
    "print(f'The number of test instances: {len(test_index)}')\n",
    "with open('./data/test_index.json','w') as file:\n",
    "    json.dump(test_index,file)"
   ]
  },
  {
   "cell_type": "markdown",
   "id": "c0ae9573",
   "metadata": {},
   "source": [
    "Making sure no label is all zero in either the training or the test set. "
   ]
  },
  {
   "cell_type": "code",
   "execution_count": 8,
   "id": "9a2348b7",
   "metadata": {},
   "outputs": [
    {
     "name": "stdout",
     "output_type": "stream",
     "text": [
      "The number of all-zero columns in y_train is 0.\n",
      "\n",
      "The number of all-zero columns in y_test is 0.\n"
     ]
    }
   ],
   "source": [
    "print(f'The number of all-zero columns in y_train is {np.sum((np.sum(y_train,axis=0)==0).astype(int))}.\\n')\n",
    "\n",
    "print(f'The number of all-zero columns in y_test is {np.sum((np.sum(y_test,axis=0)==0).astype(int))}.')"
   ]
  },
  {
   "cell_type": "markdown",
   "id": "f9bd4a64",
   "metadata": {},
   "source": [
    "Are different labels (MSC classes) distributed evenly between the training and test sets? Bar charts for the relative frequency of top MSC classes would tell."
   ]
  },
  {
   "cell_type": "code",
   "execution_count": 9,
   "id": "afb630cc",
   "metadata": {
    "scrolled": false
   },
   "outputs": [
    {
     "data": {
      "image/png": "[encoded data removed]",
      "text/plain": [
       "<Figure size 1000x400 with 1 Axes>"
      ]
     },
     "metadata": {},
     "output_type": "display_data"
    }
   ],
   "source": [
    "top_index=np.argsort(-np.asarray(list(dict_MSC.values())))[0:15]\n",
    "top_MSC=np.asarray(list(dict_MSC.keys()))[top_index]\n",
    "\n",
    "\n",
    "ind=np.arange(15)\n",
    "width=0.2\n",
    "\n",
    "fig=plt.figure(figsize=(10,4))\n",
    "ax=fig.add_subplot(111)\n",
    "ax.bar(x=ind, height=y_train[top_MSC].sum(axis=0)/y_train.shape[0], width=width, color='r')\n",
    "ax.bar(x=ind+width, height=y_test[top_MSC].sum(axis=0)/y_test.shape[0], width=width, color='g')\n",
    "ax.set_xticks(ind+width)\n",
    "ax.set_xticklabels(top_MSC)\n",
    "\n",
    "ax.set_title(\"Frequencies of top fifteen labels normalized by the dataset's size\")\n",
    "ax.legend(('Training set','Test set'))\n",
    "\n",
    "plt.show()"
   ]
  },
  {
   "cell_type": "markdown",
   "id": "2c582099",
   "metadata": {},
   "source": [
    "Next, we proceed with training a model for predicting MSC classes based on the text data under the column `cleaned_title`. First, the text data should be vectorized. "
   ]
  },
  {
   "cell_type": "code",
   "execution_count": 10,
   "id": "8969771b",
   "metadata": {},
   "outputs": [
    {
     "name": "stdout",
     "output_type": "stream",
     "text": [
      "The shapes of X_train and X_test (after encoding): (104675, 50000) and  (41015, 50000)\n",
      "\n",
      "The shapes of y_train and y_test: (104675, 531) and  (41015, 531)\n"
     ]
    }
   ],
   "source": [
    "vectorizer = TfidfVectorizer(ngram_range=(1,2),max_features=50000)\n",
    "X_train = vectorizer.fit_transform(X_train)\n",
    "X_val = vectorizer.transform(X_val)\n",
    "X_test = vectorizer.transform(X_test)\n",
    "\n",
    "print(f'The shapes of X_train and X_test (after encoding): {X_train.shape} and  {X_test.shape}\\n')\n",
    "print(f'The shapes of y_train and y_test: {y_train.shape} and  {y_test.shape}')"
   ]
  },
  {
   "cell_type": "markdown",
   "id": "c701b855",
   "metadata": {},
   "source": [
    "Let's use SVM classifier with linear kernel. To build a model, we utilize scikit-learn's `OnevsRest` classifiers—which [supports](https://scikit-learn.org/stable/modules/generated/sklearn.multiclass.OneVsRestClassifier.html) multilabel classification—based on `LinearSVC`. `LinearSVC` is [much faster](https://stackoverflow.com/questions/35076586/when-should-one-use-linearsvc-or-svc) than `SVC` with linear kernel. For the base `LinearSVC` classifier, we set `class_weight='balanced'` since the classes are imbalanced, and we tune its hyperparameter `C` via cross-validation on the training set. The hyperparameter `C` [controls](https://stats.stackexchange.com/questions/31066/what-is-the-influence-of-c-in-svms-with-linear-kernel) the hyperplane's margin (larger `C` means larger cost for misclassification on the training set, and results in hyperplanes with smaller margins). "
   ]
  },
  {
   "cell_type": "code",
   "execution_count": 11,
   "id": "fb5014d2",
   "metadata": {},
   "outputs": [
    {
     "name": "stdout",
     "output_type": "stream",
     "text": [
      "C=0.1, the average cross-validation score=0.43431103399313314\n",
      "C=0.5, the average cross-validation score=0.47976967268271764\n",
      "C=1, the average cross-validation score=0.47667680919368854\n",
      "C=5, the average cross-validation score=0.4445301760007694\n",
      "C=10, the average cross-validation score=0.43309325560814943\n",
      "C=50, the average cross-validation score=0.4199074414785003\n",
      "C=100, the average cross-validation score=0.41763555010764913\n",
      "C=500, the average cross-validation score=0.4155933485374495\n",
      "C=1000, the average cross-validation score=0.41536124804528773\n"
     ]
    }
   ],
   "source": [
    "for C in [0.1, 0.5, 1, 5, 10, 50, 100, 500, 1000]:\n",
    "    clf= OneVsRestClassifier(LinearSVC(penalty='l2',loss='squared_hinge',random_state=123,C=C,class_weight='balanced'),\n",
    "                             n_jobs=-1)\n",
    "    scores=cross_val_score(clf,X_train,y_train,cv=3,n_jobs=-1,scoring='f1_weighted')\n",
    "    print(f'C={C}, the average cross-validation score={np.mean(scores)}')    "
   ]
  },
  {
   "cell_type": "markdown",
   "id": "be5f3ddc",
   "metadata": {},
   "source": [
    "The cross-validation score reaches its maximum when `C=0.5`. So we choose this value for the hyperparameter, and we fit over the whole training set. We shall then evaluate various scikit-learn metrics including the variants of the `f1_score` and the `accuracy_score`. The latter only takes into account data instances for which all predicted labels match the true ones. On the other hand, the metrics `hamming_loss` and `jaccard_score` also reward cases where the predicted labels agree only partially. But for our data, `hamming_loss` would not be very illuminating since most labels are zero (i.e. high number of true negatives). Instead, we use the `jaccard_score` to capture the similarity of the predicted labels and the true labels for a data point (which returns the ratio of true positives to the number of labels that are positive or are predicted to be positive, or both.)"
   ]
  },
  {
   "cell_type": "code",
   "execution_count": 12,
   "id": "5e99740d",
   "metadata": {
    "scrolled": true
   },
   "outputs": [
    {
     "name": "stdout",
     "output_type": "stream",
     "text": [
      "Metrics for predicting 3-character MSC classes based on the cleaned text:\n",
      "\n",
      " Train Accuracy: 38.63%\n",
      " Train F1-score micro: 81.48%\n",
      " Train F1-score macro: 87.63%\n",
      " Train F1-score weighted: 81.84%\n",
      " Train average Jaccard score: 73.05%\n",
      " \n",
      " Test Accuracy:  9.4%\n",
      " Test F1-score micro: 50.53%\n",
      " Test F1-score macro: 38.25%\n",
      " Test F1-score weighted: 50.18%\n",
      " Test average Jaccard score: 39.03%\n"
     ]
    }
   ],
   "source": [
    "clf=OneVsRestClassifier(LinearSVC(random_state=123,C=0.5,class_weight='balanced'),n_jobs=-1)\n",
    "\n",
    "clf.fit(X_train, y_train)\n",
    "\n",
    "\n",
    "y_pred_train=clf.predict(X_train)\n",
    "y_pred=clf.predict(X_test)\n",
    "\n",
    "\n",
    "print('Metrics for predicting 3-character MSC classes based on the cleaned text:\\n')\n",
    "print(f' Train Accuracy: {round(100*accuracy_score(y_train, y_pred_train, normalize=True),2)}%')\n",
    "print(f\" Train F1-score micro: {round(100*f1_score(y_train, y_pred_train, average='micro'),2)}%\")\n",
    "print(f\" Train F1-score macro: {round(100*f1_score(y_train, y_pred_train, average='macro'),2)}%\")\n",
    "print(f\" Train F1-score weighted: {round(100*f1_score(y_train, y_pred_train, average='weighted'),2)}%\")\n",
    "print(f\" Train average Jaccard score: {round(100*jaccard_score(y_train, y_pred_train, average='samples'),2)}%\")\n",
    "\n",
    "\n",
    "\n",
    "print(f' \\n Test Accuracy:  {round(100*accuracy_score(y_test, y_pred, normalize=True),2)}%')\n",
    "print(f\" Test F1-score micro: {round(100*f1_score(y_test, y_pred, average='micro'),2)}%\")\n",
    "print(f\" Test F1-score macro: {round(100*f1_score(y_test, y_pred, average='macro'),2)}%\")\n",
    "print(f\" Test F1-score weighted: {round(100*f1_score(y_test, y_pred, average='weighted'),2)}%\") \n",
    "print(f\" Test average Jaccard score: {round(100*jaccard_score(y_test, y_pred, average='samples'),2)}%\") "
   ]
  },
  {
   "cell_type": "markdown",
   "id": "ef3466cf",
   "metadata": {},
   "source": [
    "The accuracy scores may seem to be poor, but keep in mind that there are more than 500 labels. The Jaccard scores are better as expected since they reward predictions that match the true labels partially as well. Moreover, we observe that, over the test set, the $F_1$ score is much better under `average='weighted'` than `average='macro'`. Thus, we expect higher $F_1$ scores for labels that come up more often. The cell below verifies this. "
   ]
  },
  {
   "cell_type": "code",
   "execution_count": 13,
   "id": "0531e6c6",
   "metadata": {},
   "outputs": [
    {
     "name": "stdout",
     "output_type": "stream",
     "text": [
      "Test F1-scores for the top fifteen most frequent labels:\n",
      " [64.45, 70.57, 64.13, 66.65, 62.88, 72.47, 65.43, 51.46, 54.29, 51.89, 48.57, 48.65, 53.6, 51.03, 51.93]\n"
     ]
    }
   ],
   "source": [
    "list_top_f1=[]\n",
    "for top_class in top_MSC:\n",
    "    column_index=MSC_list.index(top_class)\n",
    "    list_top_f1+=[round(100*f1_score(y_test[top_class],y_pred[:,column_index]),2)]\n",
    "    \n",
    "print(f'Test F1-scores for the top fifteen most frequent labels:\\n {list_top_f1}')"
   ]
  },
  {
   "cell_type": "markdown",
   "id": "db383774",
   "metadata": {},
   "source": [
    "How has the classifier performed if we restrict to test instances with a fixed number of labels?"
   ]
  },
  {
   "cell_type": "code",
   "execution_count": 14,
   "id": "9e01aadf",
   "metadata": {},
   "outputs": [
    {
     "name": "stdout",
     "output_type": "stream",
     "text": [
      "Accuracy socres over the test data as the number of labels increases:\n",
      " [16.77, 9.42, 4.81, 3.01, 1.41, 1.19, 2.89, 0.0, 0.0, 0.0, 0.0, 0.0, 0.0, 0.0, 0.0, 0.0]\n",
      "\n",
      "\n",
      "Weighted F1-scores over the test data as the number of labels increases:\n",
      " [48.91, 53.08, 52.67, 52.54, 51.91, 51.96, 56.6, 57.96, 77.63, 71.39, 91.63, 85.71, 100.0, 94.44, 100.0, 75.64]\n",
      "\n",
      "\n",
      "Average Jaccard scores over the test data as the number of labels increases:\n",
      " [38.32, 40.8, 39.16, 37.89, 35.78, 33.39, 31.95, 29.25, 31.01, 25.6, 37.75, 31.38, 28.57, 17.75, 15.88, 43.89]\n"
     ]
    }
   ],
   "source": [
    "y_1=np.asarray(y_test)\n",
    "y_2=y_pred\n",
    "\n",
    "n_labels=1\n",
    "list_n_labels=[]\n",
    "list_accuracy=[]\n",
    "list_jaccard=[]\n",
    "list_f1=[]\n",
    "\n",
    "while True:\n",
    "    index_indicator=np.where(y_1.sum(axis=1)==n_labels)[0]\n",
    "    if index_indicator.shape[0]==0:\n",
    "        break\n",
    "    list_n_labels+=[n_labels]\n",
    "    \n",
    "    list_accuracy+=[round(100*accuracy_score(y_1[index_indicator],y_2[index_indicator]),2)]\n",
    "    \n",
    "    #The zero_division=np.nan option: Among the rows of y_test that we have separated, some columns may be all 0. \n",
    "    list_f1+=[round(100*f1_score(y_1[index_indicator],y_2[index_indicator],average='weighted',zero_division=np.nan),2)]\n",
    "    \n",
    "    list_jaccard+=[round(100*jaccard_score(y_1[index_indicator],y_2[index_indicator],average='samples',zero_division=0),2)]\n",
    "    \n",
    "    #The average number of incorrectly predicted labels\n",
    "    n_labels+=1\n",
    "    \n",
    "print(f'Accuracy socres over the test data as the number of labels increases:\\n {list_accuracy}\\n\\n')\n",
    "print(f'Weighted F1-scores over the test data as the number of labels increases:\\n {list_f1}\\n\\n')\n",
    "print(f'Average Jaccard scores over the test data as the number of labels increases:\\n {list_jaccard}')"
   ]
  },
  {
   "cell_type": "markdown",
   "id": "cafa78df",
   "metadata": {},
   "source": [
    "We observe that the accuracy score (which detects only rows of `y_test` and `y_pred` that match exactly) becomes poorer with more labels. One the other hand, the weighted $F_1$ and Jaccard scores are much more reasonable. "
   ]
  },
  {
   "cell_type": "markdown",
   "id": "e327a26e",
   "metadata": {},
   "source": [
    "For each of the fifteen most prevalent labels (MSC classes) recorded previously, in the cell below, we print the most contributing text tokens by detecting the coefficients with the largest absolute values in the binary `LinearSVC` classifier corresponding to that label. Moreover, the description of that class is read and printed from an appropriate file. "
   ]
  },
  {
   "cell_type": "code",
   "execution_count": 15,
   "id": "60381277",
   "metadata": {},
   "outputs": [
    {
     "name": "stdout",
     "output_type": "stream",
     "text": [
      "Top three most important text tokens for the most frequent labels:\n",
      "\n",
      "\n",
      " 53C:  Global di\u000b",
      "erential geometry     Most important tokens:  symmetr space, carnot, hyperkahl\n",
      "\n",
      " 05C:  Graph theory     Most important tokens:  graph, tree, digraph\n",
      "\n",
      " 57M:  General low-dimensional topology     Most important tokens:  knot, link, quandl\n",
      "\n",
      " 17B:  Lie algebras and Lie superalgebras     Most important tokens:  lie, vertex oper, lie algebra\n",
      "\n",
      " 20F:  Special aspects of in\f",
      "nite or \f",
      "nite groups     Most important tokens:  group, coxet, hyperbol group\n",
      "\n",
      " 46L:  Selfadjoint operator algebras ( C\u0003-algebras, v...     Most important tokens:  hilbert modul, subfactor, noncommut\n",
      "\n",
      " 53D:  Symplectic geometry, contact geometry     Most important tokens:  symplect, moment map, lagrangian\n",
      "\n",
      " 15A:  Basic linear algebra     Most important tokens:  matric, matrix, vector space\n",
      "\n",
      " 35Q:  Partial di\u000b",
      "erential equations of mathematical ...     Most important tokens:  nls, riemann hilbert, maxwel\n",
      "\n",
      " 47A:  General theory of linear operators     Most important tokens:  oper, function calculus, hypercycl\n",
      "\n",
      " 05E:  Algebraic combinatorics     Most important tokens:  associ scheme, symmetr function, distanc regular\n",
      "\n",
      " 57R:  Di\u000b",
      "erential topology     Most important tokens:  witten equat, bordism, cobord\n",
      "\n",
      " 60G:  Stochastic processes     Most important tokens:  martingal, stop, point process\n",
      "\n",
      " 47B:  Special classes of linear operators     Most important tokens:  oper, composit oper, toeplitz\n",
      "\n",
      " 22E:  Lie groups     Most important tokens:  lie group, hypergeometr group, loop group\n",
      "\n"
     ]
    }
   ],
   "source": [
    "df=pd.read_csv('./data/MSCclasses.csv',index_col=False)\n",
    "tokens=vectorizer.get_feature_names_out()\n",
    "print('Top three most important text tokens for the most frequent labels:\\n\\n')\n",
    "for top_class in top_MSC:\n",
    "    description=df[df['class']==top_class]['description'].to_string(index=False)\n",
    "    column_index=MSC_list.index(top_class)\n",
    "    coef_sorted_index=np.argsort(-np.abs(clf.estimators_[column_index].coef_))\n",
    "    top_token_1=tokens[coef_sorted_index[0][0]]\n",
    "    top_token_2=tokens[coef_sorted_index[0][1]]\n",
    "    top_token_3=tokens[coef_sorted_index[0][2]]\n",
    "    print(f' {top_class}: {description}     Most important tokens:  {top_token_1}, {top_token_2}, {top_token_3}\\n')"
   ]
  },
  {
   "cell_type": "markdown",
   "id": "d08bd093",
   "metadata": {},
   "source": [
    "Observe that the printed tokens are often mathematically meaningful terms, and moreover relevant to the topic in hand. "
   ]
  },
  {
   "cell_type": "markdown",
   "id": "874103bc",
   "metadata": {},
   "source": [
    "`LinearSVC` [does not output probabilities](https://stackoverflow.com/questions/26478000/converting-linearsvcs-decision-function-to-probabilities-scikit-learn-python). What if one needs probabilities for each MSC class? The probabilities may be used to generate an output especially when all predicted binary labels are zero (i.e. when the model associates no MSC class with the input). One option is  [probability calibration](https://scikit-learn.org/stable/modules/calibration.html) via scikit-learn's `CalibratedClassifierCV`. Since `clf` is a `OnevsRest` classifier trained for a multi-label problem, we calibrate the binary classifier corresponding to each label instead of calibrating `clf` itself. The validation set will be used for calibrating probability scores. As the binary classifiers are already fitted, we use the `cv=prefit` option in `CalibratedClassifierCV` (see [here](https://stats.stackexchange.com/questions/263393/scikit-correct-way-to-calibrate-classifiers-with-calibratedclassifiercv))."
   ]
  },
  {
   "cell_type": "code",
   "execution_count": 16,
   "id": "02632156",
   "metadata": {},
   "outputs": [],
   "source": [
    "list_calibrated_estimators=[]\n",
    "for i in range(y_val.shape[1]):\n",
    "    calibrated_estimator=CalibratedClassifierCV(clf.estimators_[i],cv='prefit').fit(X_val,y_val.iloc[:,i])\n",
    "    list_calibrated_estimators+=[calibrated_estimator]\n",
    "    \n",
    "class ConcatModels:\n",
    "    '''\n",
    "    Concatenate provided binary classifiers which have a predict_proba method.\n",
    "    '''\n",
    "    def __init__(self,list_models):\n",
    "        self.models=list_models\n",
    "        \n",
    "    def predict_proba(self,X):\n",
    "        return np.transpose(np.asarray([model.predict_proba(X)[:,1] for model in self.models]))\n",
    "\n",
    "clf_calibrated=ConcatModels(list_calibrated_estimators)"
   ]
  },
  {
   "cell_type": "markdown",
   "id": "7a45b8f5",
   "metadata": {},
   "source": [
    "Are the probabilities from `clf_calibrated` in accord with the labels predicted by `clf`?"
   ]
  },
  {
   "cell_type": "code",
   "execution_count": 17,
   "id": "78611280",
   "metadata": {},
   "outputs": [
    {
     "name": "stdout",
     "output_type": "stream",
     "text": [
      "Comparing labels predicted by the classifier with top 5 labels with highest probability according to the calibrated classifier for 10 test data points:\n",
      "\n",
      "Predicted labels by column index: [54, 99, 334], Top most probable labels by column index: [334, 99, 54, 268, 199]\n",
      "Predicted labels by column index: [210, 239, 278, 433, 446, 513], Top most probable labels by column index: [446, 278, 239, 513, 433]\n",
      "Predicted labels by column index: [289, 353], Top most probable labels by column index: [289, 353, 139, 47, 465]\n",
      "Predicted labels by column index: [229, 435], Top most probable labels by column index: [229, 435, 464, 112, 138]\n",
      "Predicted labels by column index: [13, 23, 48, 129, 228, 231], Top most probable labels by column index: [23, 228, 129, 231, 13]\n",
      "Predicted labels by column index: [136, 449, 480], Top most probable labels by column index: [136, 480, 449, 524, 371]\n",
      "Predicted labels by column index: [268, 305], Top most probable labels by column index: [268, 305, 185, 462, 266]\n",
      "Predicted labels by column index: [55, 370], Top most probable labels by column index: [55, 370, 521, 358, 404]\n",
      "Predicted labels by column index: [330], Top most probable labels by column index: [330, 293, 288, 491, 26]\n",
      "Predicted labels by column index: [38, 216, 302, 409, 495], Top most probable labels by column index: [495, 38, 302, 216, 409]\n"
     ]
    }
   ],
   "source": [
    "y_pred_proba=clf_calibrated.predict_proba(X_test)\n",
    "pred_proba_arg_sorted=np.argsort(-y_pred_proba,axis=1) #Sorting the predicted probabilities in descending order.\n",
    "n_random_instance=10\n",
    "random_indices=random.sample(list(np.arange(X_test.shape[0])),k=n_random_instance)\n",
    "n_top=5\n",
    "\n",
    "print(f'Comparing labels predicted by the classifier with top {n_top} labels with highest probability according to the calibrated classifier for {n_random_instance} test data points:\\n')\n",
    "for random_index in random_indices:\n",
    "    print(f'Predicted labels by column index: {list(np.where(y_pred[random_index]==1)[0])}, Top most probable labels by column index: {list(pred_proba_arg_sorted[random_index][:5])}')\n",
    "    "
   ]
  },
  {
   "cell_type": "markdown",
   "id": "7dade8e1",
   "metadata": {},
   "source": [
    "Finally, based on `clf`, we construct another classfier `clf_simplified` for predicting simplified labels."
   ]
  },
  {
   "cell_type": "code",
   "execution_count": 18,
   "id": "ca92264f",
   "metadata": {},
   "outputs": [
    {
     "name": "stdout",
     "output_type": "stream",
     "text": [
      "Metrics for predicting 2-character MSC classes based on the cleaned text:\n",
      "\n",
      " Test Accuracy:  27.69%\n",
      " Test F1-score micro: 65.09%\n",
      " Test F1-score macro: 56.8%\n",
      " Test F1-score weighted: 65.02%\n",
      " Test average Jaccard score: 56.32%\n"
     ]
    }
   ],
   "source": [
    "#A binary matrix that captures the relation between 3-character and 2-character (truncated) MSC classes.\n",
    "T=np.zeros([len(MSC_list),len(MSC_simpl_list)])\n",
    "\n",
    "for i in range(len(MSC_list)):\n",
    "    for j in range(len(MSC_simpl_list)):\n",
    "        if MSC_list[i][:2]==MSC_simpl_list[j]:\n",
    "            T[i][j]=1\n",
    "            \n",
    "class clf_reduction:\n",
    "    '''\n",
    "    Composing with a linear transformation to obtain outputs in passing from a space of one-hot encoded \n",
    "    features to a smaller such space.\n",
    "    The probabilities for the new labels may be outputted as well if the original classifier has a predict_proba method, \n",
    "    or, alternatively, if a calibrated classifier is provided. \n",
    "    (In the multi-label setting, those probabilities should be interpreted as lower bounds).  \n",
    "    '''\n",
    "    def __init__(self, clf, T, clf_calibrated=None):\n",
    "        self.clf=clf\n",
    "        self.transformation=T\n",
    "        if clf_calibrated==None:\n",
    "            self.clf_calibrated=clf\n",
    "        else:\n",
    "            self.clf_calibrated=clf_calibrated\n",
    "            \n",
    "    def predict(self,X):\n",
    "        return (np.matmul(self.clf.predict(X),T)>0).astype(int) \n",
    "    \n",
    "    \n",
    "    def predict_proba(self,X,multi_label=True):\n",
    "        if multi_label:               #See https://stackoverflow.com/questions/41164305/numpy-dot-product-with-max-instead-of-sum\n",
    "            return np.max(self.clf_calibrated.predict_proba(X)[:, :, None] * T[None, :, :], axis = 1)\n",
    "        else:                         #The classification task is multi-class, not multi-label.\n",
    "            return np.matmul(self.clf_calibrated.predict_proba(X),T)\n",
    "    \n",
    "    \n",
    "clf_simplified=clf_reduction(clf,T,clf_calibrated)\n",
    "y_pred_simplified=clf_simplified.predict(X_test)\n",
    "\n",
    "print('Metrics for predicting 2-character MSC classes based on the cleaned text:\\n')\n",
    "print(f' Test Accuracy:  {round(100*accuracy_score(data_simpl.iloc[test_index,1:], y_pred_simplified, normalize=True),2)}%')\n",
    "print(f\" Test F1-score micro: {round(100*f1_score(data_simpl.iloc[test_index,1:], y_pred_simplified, average='micro'),2)}%\")\n",
    "print(f\" Test F1-score macro: {round(100*f1_score(data_simpl.iloc[test_index,1:], y_pred_simplified, average='macro'),2)}%\")\n",
    "print(f\" Test F1-score weighted: {round(100*f1_score(data_simpl.iloc[test_index,1:], y_pred_simplified, average='weighted'),2)}%\") \n",
    "print(f\" Test average Jaccard score: {round(100*jaccard_score(data_simpl.iloc[test_index,1:], y_pred_simplified, average='samples'),2)}%\") "
   ]
  },
  {
   "cell_type": "markdown",
   "id": "dbb3b4d0",
   "metadata": {},
   "source": [
    "Saving the trained models along with the names of their variables:"
   ]
  },
  {
   "cell_type": "code",
   "execution_count": 19,
   "id": "8a263261",
   "metadata": {},
   "outputs": [],
   "source": [
    "#We first pickle the trained models and then zip them. \n",
    "#https://stackoverflow.com/questions/18474791/decreasing-the-size-of-cpickle-objects\n",
    "def save_zipped_pickle(obj, filename, protocol=-1):\n",
    "    with gzip.open(filename, 'wb') as f:\n",
    "        pkl.dump(obj, f, protocol)\n",
    "\n",
    "save_zipped_pickle(vectorizer,'./models/vectorizer.gz')\n",
    "save_zipped_pickle(clf,'./models/clf_MSC.gz')\n",
    "save_zipped_pickle(clf_calibrated,'./models/clf_MSC_calibrated.gz')\n",
    "save_zipped_pickle(clf_simplified,'./models/clf_MSC_simplified.gz')\n",
    "\n",
    "#Saving variable names\n",
    "with open('./models/MSC_list.json','w') as file:\n",
    "    json.dump(MSC_list,file)\n",
    "with open('./models/MSC_list_simplified.json','w') as file:\n",
    "    json.dump(MSC_simpl_list,file)    "
   ]
  }
 ],
 "metadata": {
  "kernelspec": {
   "display_name": "Python 3 (ipykernel)",
   "language": "python",
   "name": "python3"
  },
  "language_info": {
   "codemirror_mode": {
    "name": "ipython",
    "version": 3
   },
   "file_extension": ".py",
   "mimetype": "text/x-python",
   "name": "python",
   "nbconvert_exporter": "python",
   "pygments_lexer": "ipython3",
   "version": "3.11.5"
  }
 },
 "nbformat": 4,
 "nbformat_minor": 5
}

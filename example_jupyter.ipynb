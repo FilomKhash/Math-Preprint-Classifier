{
 "cells": [
  {
   "cell_type": "code",
   "execution_count": 1,
   "id": "a73544c8",
   "metadata": {},
   "outputs": [
    {
     "name": "stdout",
     "output_type": "stream",
     "text": [
      "WARNING:tensorflow:From C:\\Users\\khash\\anaconda3\\Lib\\site-packages\\keras\\src\\losses.py:2976: The name tf.losses.sparse_softmax_cross_entropy is deprecated. Please use tf.compat.v1.losses.sparse_softmax_cross_entropy instead.\n",
      "\n"
     ]
    }
   ],
   "source": [
    "import end_to_end\n",
    "from end_to_end import math_classifier\n",
    "\n",
    "#Importing classes that we had defined ourselves.\n",
    "from Concat import ConcatModels\n",
    "from Reduction import clf_reduction"
   ]
  },
  {
   "cell_type": "code",
   "execution_count": 2,
   "id": "eb6ec25e",
   "metadata": {},
   "outputs": [
    {
     "name": "stdout",
     "output_type": "stream",
     "text": [
      "WARNING:tensorflow:From C:\\Users\\khash\\anaconda3\\Lib\\site-packages\\keras\\src\\backend.py:1398: The name tf.executing_eagerly_outside_functions is deprecated. Please use tf.compat.v1.executing_eagerly_outside_functions instead.\n",
      "\n"
     ]
    }
   ],
   "source": [
    "clf=math_classifier()"
   ]
  },
  {
   "cell_type": "code",
   "execution_count": 3,
   "id": "eddbd5df",
   "metadata": {},
   "outputs": [
    {
     "data": {
      "text/plain": [
       "{'3-character MSC': [('35Q', 0.21), ('35K', 0.94), ('35B', 0.51)],\n",
       " '2-character MSC': [('35', 0.94)],\n",
       " 'Primary Category': ('math.AP', 0.88)}"
      ]
     },
     "execution_count": 3,
     "metadata": {},
     "output_type": "execute_result"
    }
   ],
   "source": [
    "clf.predict(text=\"Locally bounded, local weak solutions to a doubly nonlinear parabolic equation, which models the multi-phase transition of a material, is shown to be locally continuous. Moreover, an explicit modulus of continuity is given. The effect of the p-Laplacian type diffusion is also considered.\")"
   ]
  },
  {
   "cell_type": "code",
   "execution_count": 4,
   "id": "60537627",
   "metadata": {},
   "outputs": [
    {
     "data": {
      "text/plain": [
       "{'3-character MSC': [('11G', 0.47), ('14H', 0.59), ('14G', 0.26)],\n",
       " '2-character MSC': [('11', 0.47), ('14', 0.59)],\n",
       " 'Primary Category': ('math.NT', 0.51)}"
      ]
     },
     "execution_count": 4,
     "metadata": {},
     "output_type": "execute_result"
    }
   ],
   "source": [
    "clf.predict(text=\"The Belyi Characterization of a Class of Modular Curves\")"
   ]
  },
  {
   "cell_type": "code",
   "execution_count": 5,
   "id": "d9f0e43e",
   "metadata": {},
   "outputs": [
    {
     "data": {
      "text/plain": [
       "{'3-character MSC': [('68T', 0.22)],\n",
       " '2-character MSC': [('68', 0.22)],\n",
       " 'Primary Category': ('math.ST', 0.31)}"
      ]
     },
     "execution_count": 5,
     "metadata": {},
     "output_type": "execute_result"
    }
   ],
   "source": [
    "clf.predict(text=\"On PDE characterization of smooth hierarchical functions computed by neural networks\")"
   ]
  },
  {
   "cell_type": "code",
   "execution_count": 6,
   "id": "68887cdf",
   "metadata": {},
   "outputs": [
    {
     "data": {
      "text/plain": [
       "{'3-character MSC': [('57Q', 0.19),\n",
       "  ('57N', 0.16),\n",
       "  ('57R', 0.15),\n",
       "  ('52B', 0.15),\n",
       "  ('57M', 0.29)],\n",
       " '2-character MSC': [('52', 0.15), ('57', 0.29)],\n",
       " 'Primary Category': ('math.GT', 0.61)}"
      ]
     },
     "execution_count": 6,
     "metadata": {},
     "output_type": "execute_result"
    }
   ],
   "source": [
    "clf.predict(text=\"Triangulated Manifolds with Few Vertices: Geometric 3-Manifolds We explicitly construct small triangulations for a number of well-known 3-dimensional manifolds and give a brief outline of some aspects of the underlying theory of 3-manifolds and its historical development.\")"
   ]
  },
  {
   "cell_type": "code",
   "execution_count": 7,
   "id": "411685b6",
   "metadata": {},
   "outputs": [
    {
     "data": {
      "text/plain": [
       "{'3-character MSC': [('37F', 0.83),\n",
       "  ('32G', 0.72),\n",
       "  ('57M', 0.58),\n",
       "  ('30F', 0.78)],\n",
       " '2-character MSC': [('32', 0.72), ('37', 0.83), ('57', 0.58), ('30', 0.78)],\n",
       " 'Primary Category': ('math.DS', 0.94)}"
      ]
     },
     "execution_count": 7,
     "metadata": {},
     "output_type": "execute_result"
    }
   ],
   "source": [
    "clf.predict(identifier=\"2202.00768\")"
   ]
  },
  {
   "cell_type": "code",
   "execution_count": 8,
   "id": "31f031aa",
   "metadata": {},
   "outputs": [
    {
     "data": {
      "text/plain": [
       "{'3-character MSC': [('14M', 0.18),\n",
       "  ('20G', 0.39),\n",
       "  ('05E', 0.15),\n",
       "  ('22E', 0.17)],\n",
       " '2-character MSC': [('22', 0.17), ('05', 0.15), ('20', 0.39), ('14', 0.18)],\n",
       " 'Primary Category': ('math.RT', 0.81)}"
      ]
     },
     "execution_count": 8,
     "metadata": {},
     "output_type": "execute_result"
    }
   ],
   "source": [
    "clf.predict(identifier=\"arXiv:math/0309136v1\")"
   ]
  }
 ],
 "metadata": {
  "kernelspec": {
   "display_name": "Python 3 (ipykernel)",
   "language": "python",
   "name": "python3"
  },
  "language_info": {
   "codemirror_mode": {
    "name": "ipython",
    "version": 3
   },
   "file_extension": ".py",
   "mimetype": "text/x-python",
   "name": "python",
   "nbconvert_exporter": "python",
   "pygments_lexer": "ipython3",
   "version": "3.11.5"
  }
 },
 "nbformat": 4,
 "nbformat_minor": 5
}

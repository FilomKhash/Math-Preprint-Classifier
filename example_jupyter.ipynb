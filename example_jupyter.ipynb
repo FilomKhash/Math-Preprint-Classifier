{
 "cells": [
  {
   "cell_type": "markdown",
   "id": "2b254c37",
   "metadata": {},
   "source": [
    "In this notebook, we import `end_to_end.py` to work with our end-to-end classifier. To run an example from the terminal, check `example_cmd.py`."
   ]
  },
  {
   "cell_type": "code",
   "execution_count": 1,
   "id": "af07b6d6",
   "metadata": {},
   "outputs": [
    {
     "name": "stdout",
     "output_type": "stream",
     "text": [
      "WARNING:tensorflow:From C:\\Users\\khash\\anaconda3\\Lib\\site-packages\\keras\\src\\losses.py:2976: The name tf.losses.sparse_softmax_cross_entropy is deprecated. Please use tf.compat.v1.losses.sparse_softmax_cross_entropy instead.\n",
      "\n"
     ]
    }
   ],
   "source": [
    "import end_to_end\n",
    "from end_to_end import math_classifier\n",
    "\n",
    "#Importing classes that we had defined ourselves.\n",
    "from Concat import ConcatModels\n",
    "from Reduction import clf_reduction\n",
    "\n",
    "#Instantiating \n",
    "clf=math_classifier()"
   ]
  },
  {
   "cell_type": "markdown",
   "id": "ca32c9bb",
   "metadata": {},
   "source": [
    "The user should only work with the method `predict` of the `math_classifier` class. This method returns 2-character and 3-character MSC classes as well as the primary arXiv category along with their respective probabilities based on an input to `predict` in one of the forms below: \n",
    "\n",
    "1) a string through the argument `text`; this typically should be the title or the abstract of a math-related paper<a name=\"cite_ref-a\"></a>[<sup>a</sup>](#cite_note-a) (or their concatenation); \n",
    "\n",
    "2) an arXiv identifier<a name=\"cite_ref-b\"></a>[<sup>b</sup>](#cite_note-b) through the argument `identifier`; the corresponding article is then fetched from arXiv and prediction is made based on its title and abstract;\n",
    "\n",
    "3) a positive integer through the argument `n_random`<a name=\"cite_ref-c\"></a>[<sup>c</sup>](#cite_note-c); the desired number of most recent math-related preprints are fetched, and their URL's are printed as well as the predictions made based on titles and abstracts.  \n",
    "\n",
    "If neither of these inputs is provided, five preprints will be scraped and their predicted classes will be printed along with their URL's.\n",
    "\n",
    "\n",
    "Loading appropriate classifiers, scraping arXiv preprints, preprocessing the text, vectorization etc. all take place inside the class. \n",
    "\n",
    "<a name=\"cite_note-a\"></a>[a](#cite_ref-a) Defined to be a preprint listed under one of the math archives or under the mathematical physics archive.\n",
    "\n",
    "<a name=\"cite_note-b\"></a>[b](#cite_ref-b) Both old and new [arXiv identifier schemes](https://info.arxiv.org/help/arxiv_identifier.html) are supported. Identifiers beginning with `arXiv:` or ending with the preprint version are supported too. If the input identifier is invalid or non-existent, a ValueError is raised.\n",
    "\n",
    "<a name=\"cite_note-c\"></a>[c](#cite_ref-c) We recommend not to set `n_random` larger than 20.\n"
   ]
  },
  {
   "cell_type": "markdown",
   "id": "e76f1b8c",
   "metadata": {},
   "source": [
    "The cells below examine various modes of `predict`."
   ]
  },
  {
   "cell_type": "code",
   "execution_count": 2,
   "id": "eddbd5df",
   "metadata": {},
   "outputs": [
    {
     "data": {
      "text/plain": [
       "{'3-character MSC': [('35Q', 0.21), ('35K', 0.94), ('35B', 0.51)],\n",
       " '2-character MSC': [('35', 0.94)],\n",
       " 'Primary Category': ('math.AP', 0.88)}"
      ]
     },
     "execution_count": 2,
     "metadata": {},
     "output_type": "execute_result"
    }
   ],
   "source": [
    "clf.predict(text=\"Locally bounded, local weak solutions to a doubly nonlinear parabolic equation, which models the multi-phase transition of a material, is shown to be locally continuous. Moreover, an explicit modulus of continuity is given. The effect of the p-Laplacian type diffusion is also considered.\")"
   ]
  },
  {
   "cell_type": "code",
   "execution_count": 3,
   "id": "60537627",
   "metadata": {},
   "outputs": [
    {
     "data": {
      "text/plain": [
       "{'3-character MSC': [('11G', 0.47), ('14H', 0.59), ('14G', 0.26)],\n",
       " '2-character MSC': [('11', 0.47), ('14', 0.59)],\n",
       " 'Primary Category': ('math.NT', 0.51)}"
      ]
     },
     "execution_count": 3,
     "metadata": {},
     "output_type": "execute_result"
    }
   ],
   "source": [
    "clf.predict(text=\"The Belyi Characterization of a Class of Modular Curves\")"
   ]
  },
  {
   "cell_type": "code",
   "execution_count": 4,
   "id": "68887cdf",
   "metadata": {},
   "outputs": [
    {
     "data": {
      "text/plain": [
       "{'3-character MSC': [('57Q', 0.19),\n",
       "  ('57N', 0.16),\n",
       "  ('57R', 0.15),\n",
       "  ('52B', 0.15),\n",
       "  ('57M', 0.29)],\n",
       " '2-character MSC': [('52', 0.15), ('57', 0.29)],\n",
       " 'Primary Category': ('math.GT', 0.61)}"
      ]
     },
     "execution_count": 4,
     "metadata": {},
     "output_type": "execute_result"
    }
   ],
   "source": [
    "clf.predict(text=\"Triangulated Manifolds with Few Vertices: Geometric 3-Manifolds We explicitly construct small triangulations for a number of well-known 3-dimensional manifolds and give a brief outline of some aspects of the underlying theory of 3-manifolds and its historical development.\")"
   ]
  },
  {
   "cell_type": "code",
   "execution_count": 5,
   "id": "411685b6",
   "metadata": {},
   "outputs": [
    {
     "data": {
      "text/plain": [
       "{'3-character MSC': [('37F', 0.83),\n",
       "  ('32G', 0.72),\n",
       "  ('57M', 0.58),\n",
       "  ('30F', 0.78)],\n",
       " '2-character MSC': [('32', 0.72), ('37', 0.83), ('57', 0.58), ('30', 0.78)],\n",
       " 'Primary Category': ('math.DS', 0.94)}"
      ]
     },
     "execution_count": 5,
     "metadata": {},
     "output_type": "execute_result"
    }
   ],
   "source": [
    "clf.predict(identifier=\"2202.00768\")"
   ]
  },
  {
   "cell_type": "code",
   "execution_count": 6,
   "id": "31f031aa",
   "metadata": {},
   "outputs": [
    {
     "data": {
      "text/plain": [
       "{'3-character MSC': [('14M', 0.18),\n",
       "  ('20G', 0.39),\n",
       "  ('05E', 0.15),\n",
       "  ('22E', 0.17)],\n",
       " '2-character MSC': [('22', 0.17), ('05', 0.15), ('20', 0.39), ('14', 0.18)],\n",
       " 'Primary Category': ('math.RT', 0.81)}"
      ]
     },
     "execution_count": 6,
     "metadata": {},
     "output_type": "execute_result"
    }
   ],
   "source": [
    "clf.predict(identifier=\"arXiv:math/0309136v1\")"
   ]
  },
  {
   "cell_type": "code",
   "execution_count": 7,
   "id": "ed8878be",
   "metadata": {},
   "outputs": [
    {
     "name": "stdout",
     "output_type": "stream",
     "text": [
      "Paper 1: http://arxiv.org/abs/2401.03984v1\n",
      "{'3-character MSC': [('15A', 0.23), ('47B', 0.83), ('47L', 0.34), ('47A', 0.94), ('65F', 0.42)], '2-character MSC': [('15', 0.23), ('65', 0.42), ('47', 0.94)], 'Primary Category': ('math.FA', 0.58)} \n",
      "\n",
      "Paper 2: http://arxiv.org/abs/2401.03801v1\n",
      "{'3-character MSC': [('11R', 0.61)], '2-character MSC': [('11', 0.61)], 'Primary Category': ('math.NT', 0.89)} \n",
      "\n",
      "Paper 3: http://arxiv.org/abs/2401.03787v1\n",
      "{'3-character MSC': [('05C', 1.0), ('15A', 0.19)], '2-character MSC': [('15', 0.19), ('05', 1.0)], 'Primary Category': ('math.SP', 0.55)} \n",
      "\n",
      "Paper 4: http://arxiv.org/abs/2401.03713v1\n",
      "{'3-character MSC': [('05C', 0.99), ('05E', 0.12)], '2-character MSC': [('05', 0.99)], 'Primary Category': ('math.CO', 0.97)} \n",
      "\n",
      "Paper 5: http://arxiv.org/abs/2401.03679v1\n",
      "{'3-character MSC': [('37A', 0.84), ('37D', 0.35), ('37C', 0.21), ('37B', 0.29)], '2-character MSC': [('37', 0.84)], 'Primary Category': ('math.DS', 0.99)} \n",
      "\n",
      "Paper 6: http://arxiv.org/abs/2401.03449v1\n",
      "{'3-character MSC': [('16D', 0.45), ('16U', 0.97), ('16E', 0.56), ('16W', 0.15), ('16S', 0.43)], '2-character MSC': [('16', 0.97)], 'Primary Category': ('math.RA', 0.94)} \n",
      "\n",
      "Paper 7: http://arxiv.org/abs/2401.03292v1\n",
      "{'3-character MSC': [('52B', 0.15)], '2-character MSC': [('52', 0.15)], 'Primary Category': ('math.AG', 0.82)} \n",
      "\n",
      "Paper 8: http://arxiv.org/abs/2401.02795v1\n",
      "{'3-character MSC': [('35A', 0.8), ('35B', 0.82), ('42B', 0.26), ('35R', 0.9), ('35J', 0.66)], '2-character MSC': [('42', 0.26), ('35', 0.9)], 'Primary Category': ('math.AP', 0.87)} \n",
      "\n",
      "Paper 9: http://arxiv.org/abs/2401.02554v1\n",
      "{'3-character MSC': [('05C', 0.83), ('13A', 0.55), ('13E', 0.28), ('05E', 0.17)], '2-character MSC': [('13', 0.55), ('05', 0.83)], 'Primary Category': ('math.CO', 0.47)} \n",
      "\n",
      "Paper 10: http://arxiv.org/abs/2401.02189v1\n",
      "{'3-character MSC': [('16U', 0.99), ('16E', 0.22), ('16N', 0.65), ('16S', 0.15)], '2-character MSC': [('16', 0.99)], 'Primary Category': ('math.RA', 0.94)} \n",
      "\n",
      "Paper 11: http://arxiv.org/abs/2401.02084v1\n",
      "{'3-character MSC': [('41A', 0.32), ('90C', 0.43)], '2-character MSC': [('90', 0.43), ('41', 0.32)], 'Primary Category': ('math.NA', 0.23)} \n",
      "\n",
      "Paper 12: http://arxiv.org/abs/2401.01760v2\n",
      "{'3-character MSC': [('05E', 0.38), ('60B', 0.12), ('05A', 0.67)], '2-character MSC': [('60', 0.12), ('05', 0.67)], 'Primary Category': ('math.PR', 0.36)} \n",
      "\n",
      "Paper 13: http://arxiv.org/abs/2401.01723v1\n",
      "{'3-character MSC': [('17B', 0.43), ('15A', 0.27), ('05E', 0.61)], '2-character MSC': [('15', 0.27), ('17', 0.43), ('05', 0.61)], 'Primary Category': ('math.RT', 0.93)} \n",
      "\n",
      "Paper 14: http://arxiv.org/abs/2401.01551v1\n",
      "{'3-character MSC': [('35Q', 0.24), ('35R', 0.61)], '2-character MSC': [('35', 0.61)], 'Primary Category': ('math.AP', 0.85)} \n",
      "\n",
      "Paper 15: http://arxiv.org/abs/2401.01136v1\n",
      "{'3-character MSC': [('47B', 0.21), ('46B', 0.21)], '2-character MSC': [('46', 0.21), ('47', 0.21)], 'Primary Category': ('math.AC', 0.37)} \n",
      "\n",
      "Paper 16: http://arxiv.org/abs/2401.00464v1\n",
      "{'3-character MSC': [('35R', 0.17), ('46B', 0.41), ('46E', 0.21)], '2-character MSC': [('46', 0.41), ('35', 0.17)], 'Primary Category': ('math.FA', 0.45)} \n",
      "\n",
      "Paper 17: http://arxiv.org/abs/2401.00070v1\n",
      "{'3-character MSC': [('05C', 0.9)], '2-character MSC': [('05', 0.9)], 'Primary Category': ('math.CO', 0.97)} \n",
      "\n",
      "Paper 18: http://arxiv.org/abs/2312.17441v1\n",
      "{'3-character MSC': [('35Q', 0.18), ('35B', 0.13), ('76D', 0.28)], '2-character MSC': [('76', 0.28), ('35', 0.18)], 'Primary Category': ('math.AP', 0.46)} \n",
      "\n",
      "Paper 19: http://arxiv.org/abs/2312.17059v1\n",
      "{'3-character MSC': [('11A', 0.89)], '2-character MSC': [('11', 0.89)], 'Primary Category': ('math.NT', 0.41)} \n",
      "\n",
      "Paper 20: http://arxiv.org/abs/2312.15902v1\n",
      "{'3-character MSC': [('05C', 0.99), ('15A', 0.21), ('20F', 0.14)], '2-character MSC': [('15', 0.21), ('05', 0.99), ('20', 0.14)], 'Primary Category': ('math.CO', 0.94)} \n",
      "\n"
     ]
    }
   ],
   "source": [
    "clf.predict(n_random=20)"
   ]
  }
 ],
 "metadata": {
  "kernelspec": {
   "display_name": "Python 3 (ipykernel)",
   "language": "python",
   "name": "python3"
  },
  "language_info": {
   "codemirror_mode": {
    "name": "ipython",
    "version": 3
   },
   "file_extension": ".py",
   "mimetype": "text/x-python",
   "name": "python",
   "nbconvert_exporter": "python",
   "pygments_lexer": "ipython3",
   "version": "3.11.5"
  }
 },
 "nbformat": 4,
 "nbformat_minor": 5
}

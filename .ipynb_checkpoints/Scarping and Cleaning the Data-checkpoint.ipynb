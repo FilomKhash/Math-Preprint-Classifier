{
 "cells": [
  {
   "cell_type": "code",
   "execution_count": null,
   "id": "da5360da",
   "metadata": {},
   "outputs": [],
   "source": [
    "import pandas as pd\n",
    "from PyPDF2 import PdfReader\n",
    "import time\n",
    "from copy import deepcopy"
   ]
  },
  {
   "cell_type": "code",
   "execution_count": null,
   "id": "58f6b9e5",
   "metadata": {
    "scrolled": true
   },
   "outputs": [],
   "source": [
    "reader=PdfReader(\"msc2020.pdf\")\n",
    "n_pages=len(reader.pages)\n",
    "df=pd.DataFrame(columns=['class','subject'])\n",
    "\n",
    "def isMSC_xx(string):                         #The head subject e.g. 14Gxx which itself divides into more refined subjects.        \n",
    "    if len(string)==5 and string[0:2].isnumeric() and string[2].isupper() and string[3:5]=='xx':\n",
    "        return True\n",
    "    return False\n",
    "\n",
    "for page_number in range(n_pages):\n",
    "    page_content=reader.pages[page_number].extract_text().split(\"\\n\")  #Splitting the page into lines. \n",
    "    for line in page_content:\n",
    "        line_reduced=line.split('[')[0]      #Avoiding expressions such as '[See also...]'\n",
    "        head=line_reduced.split(' ')[0]\n",
    "        if isMSC_xx(head):\n",
    "            MSC=head[:3]\n",
    "            description=line_reduced.removeprefix(head)\n",
    "            df.loc[df.shape[0]]=[MSC,description]\n",
    "                        \n",
    "        \n",
    "df"
   ]
  },
  {
   "cell_type": "markdown",
   "id": "69986749",
   "metadata": {},
   "source": [
    "https://pypi.org/project/arxiv/\n",
    "\n",
    "https://github.com/lukasschwab/arxiv.py\n",
    "\n",
    "https://arxiv.org/category_taxonomy\n",
    "\n",
    "https://info.arxiv.org/help/api/user-manual.html#_details_of_atom_results_returned"
   ]
  },
  {
   "cell_type": "markdown",
   "id": "7cd23401",
   "metadata": {},
   "source": [
    "Example"
   ]
  },
  {
   "cell_type": "code",
   "execution_count": null,
   "id": "c358416c",
   "metadata": {},
   "outputs": [],
   "source": [
    "import arxiv\n",
    "\n",
    "# Construct the default API client.\n",
    "client = arxiv.Client()\n",
    "\n",
    "#Search for the 50 most recent articles matching the provided category. \n",
    "search = arxiv.Search(\n",
    "  query = \"cat:math.AG\",\n",
    "  max_results = 50,\n",
    "  sort_by = arxiv.SortCriterion.SubmittedDate\n",
    ")\n",
    "\n",
    "results = client.results(search)\n",
    "\n",
    "# `results` is a generator; you can iterate over its elements one by one...\n",
    "for r in client.results(search):\n",
    "    print(r.primary_category,r.categories)"
   ]
  },
  {
   "cell_type": "code",
   "execution_count": null,
   "id": "1dfd2b84",
   "metadata": {},
   "outputs": [],
   "source": [
    "math_categories=['math.AC', 'math.AG', 'math.AP', 'math.AT', 'math.CA', 'math.CO', 'math.CT', 'math.CV',\n",
    "                'math.DG', 'math.DS', 'math.FA', 'math.GM', 'math.GN', 'math.GR', 'math.GT', 'math.HO', 'math.IT',\n",
    "                'math.KT', 'math.LO', 'math.MG', 'math.MP', 'math.NA', 'math.NT', 'math.OA', 'math.OC', 'math.PR',\n",
    "                'math.QA', 'math.RA', 'math.RT', 'math.SG', 'math.SP', 'math.ST']\n",
    "\n",
    "classes=df['class'].to_list()"
   ]
  },
  {
   "cell_type": "code",
   "execution_count": null,
   "id": "e6e83617",
   "metadata": {},
   "outputs": [],
   "source": [
    "raw_data=pd.DataFrame(columns=['primary_category','title','authors','url','last_updated','MSC'])"
   ]
  },
  {
   "cell_type": "code",
   "execution_count": null,
   "id": "d2d78e86",
   "metadata": {
    "scrolled": true
   },
   "outputs": [],
   "source": [
    "time_start=time.time()\n",
    "\n",
    "# Construct the default API client.\n",
    "client = arxiv.Client(num_retries=5,page_size=7000,delay_seconds=5)\n",
    "    \n",
    "for category in math_categories:\n",
    "    \n",
    "    \n",
    "    #Search for the 7000 most recent articles matching the provided category. \n",
    "    search = arxiv.Search(\n",
    "      query = \"cat:\"+category,\n",
    "      max_results = 7000,\n",
    "      sort_by = arxiv.SortCriterion.SubmittedDate\n",
    "    )\n",
    "    \n",
    "    results = client.results(search)\n",
    "    \n",
    "    double_list=list(map(lambda r:[r.primary_category,r.title,r.authors,r.entry_id,r.updated,r.categories[-1]],results))\n",
    "    \n",
    "    raw_data=pd.concat([raw_data,\n",
    "                    pd.DataFrame(double_list,columns=['primary_category','title','authors','url','last_updated','MSC'])]\n",
    "                   ,ignore_index=True)\n",
    "    print(f'The category just scraped: {category}, the time elapsed so far: {time.time()-time_start}')"
   ]
  },
  {
   "cell_type": "code",
   "execution_count": null,
   "id": "71a5d39d",
   "metadata": {},
   "outputs": [],
   "source": [
    "raw_data.to_csv('raw.csv',index=False)\n",
    "raw_data"
   ]
  },
  {
   "cell_type": "markdown",
   "id": "fd3f3101",
   "metadata": {},
   "source": [
    "We begin processing the data. "
   ]
  },
  {
   "cell_type": "code",
   "execution_count": null,
   "id": "81941d3a",
   "metadata": {},
   "outputs": [],
   "source": [
    "data=deepcopy(raw_data)\n",
    "data['version']=data['url'].apply(lambda x:int(x.removeprefix('http://arxiv.org/abs/').split('v')[-1]))\n",
    "data['identifier']=data['url'].apply(lambda x:x.removeprefix('http://arxiv.org/abs/').split('v')[0])\n",
    "data"
   ]
  },
  {
   "cell_type": "markdown",
   "id": "7f51eb51",
   "metadata": {},
   "source": [
    "Removing some outrageous titles"
   ]
  },
  {
   "cell_type": "code",
   "execution_count": null,
   "id": "031125e4",
   "metadata": {
    "scrolled": true
   },
   "outputs": [],
   "source": [
    "data.sort_values(by=['version'],ascending=False).head(40)"
   ]
  },
  {
   "cell_type": "markdown",
   "id": "4b9fe2ee",
   "metadata": {},
   "source": [
    "Removing any preprint with more than 10 version."
   ]
  },
  {
   "cell_type": "code",
   "execution_count": null,
   "id": "5f43724c",
   "metadata": {},
   "outputs": [],
   "source": [
    "too_many_v_list=data.index[data['version']>10].to_list()\n",
    "bad_identifiers=set(data.loc[too_many_v_list,'identifier'])\n",
    "data=data[data['identifier'].apply(lambda x:x not in bad_identifiers)]\n",
    "data=data.sort_values(by=['version'],ascending=False,ignore_index=True)\n",
    "data"
   ]
  },
  {
   "cell_type": "markdown",
   "id": "bda21aaf",
   "metadata": {},
   "source": [
    "Keeping only the oldest version"
   ]
  },
  {
   "cell_type": "code",
   "execution_count": null,
   "id": "e3daa756",
   "metadata": {
    "scrolled": true
   },
   "outputs": [],
   "source": [
    "data.drop_duplicates(subset=['identifier'],keep='first',inplace=True,ignore_index=True)\n",
    "data"
   ]
  },
  {
   "cell_type": "code",
   "execution_count": null,
   "id": "f7739782",
   "metadata": {},
   "outputs": [],
   "source": [
    "def isMSC(string):                         #Is the string an MSC string, e.g. 20E18.        \n",
    "    if len(string)==5 and string[0:2].isnumeric() and string[2].isupper() and string[0:2].isnumeric():\n",
    "        return True\n",
    "    return False\n",
    "\n",
    "def extractMSC(string):      #Detecting terms of the form 16Rxx and returning the first three characters.\n",
    "    terms=string.split(' ')  #Each term ends with ',' or ',\\n'\n",
    "    return list(set([term.strip('\\n').strip(',')[0:3] for term in terms if isMSC(term.strip('\\n').strip(','))]))\n",
    "        \n",
    "data['MSC']=data['MSC'].apply(extractMSC)\n",
    "data=data[data['MSC'].apply(lambda x:len(x)>0)]\n",
    "data=data.sort_values(by=['primary_category'],ignore_index=True)   #Sorting based on the primary category.\n",
    "data"
   ]
  },
  {
   "cell_type": "code",
   "execution_count": null,
   "id": "bc7b0af1",
   "metadata": {},
   "outputs": [],
   "source": [
    "data.to_csv('processed.csv',index=False)"
   ]
  }
 ],
 "metadata": {
  "kernelspec": {
   "display_name": "Python 3 (ipykernel)",
   "language": "python",
   "name": "python3"
  },
  "language_info": {
   "codemirror_mode": {
    "name": "ipython",
    "version": 3
   },
   "file_extension": ".py",
   "mimetype": "text/x-python",
   "name": "python",
   "nbconvert_exporter": "python",
   "pygments_lexer": "ipython3",
   "version": "3.11.5"
  }
 },
 "nbformat": 4,
 "nbformat_minor": 5
}

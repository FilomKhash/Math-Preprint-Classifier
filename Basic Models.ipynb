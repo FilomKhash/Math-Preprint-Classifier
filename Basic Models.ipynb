{
 "cells": [
  {
   "cell_type": "markdown",
   "id": "2d5f39e2",
   "metadata": {},
   "source": [
    "In this notebook, we begin to work with the data that we scraped from arXiv and then preprocessed in `Scarping and Cleaning the Data.ipynb`. The ultimate goal is to predict the 3-character [MSC (Mathematical Subject Classification)](https://mathscinet.ams.org/mathscinet/msc/msc2020.html) classes for a preprint based on its cleaned title.<a name=\"cite_ref-a\"></a>[<sup>*</sup>](#cite_note-a) This turns out to be a multi-label text classification task. \n",
    "\n",
    "$\\hspace{3cm}$  `cleaned_title` $\\mapsto$ 3-character MSC classes (e.g. 46L, 57M, 57R) $\\hspace{1cm}$  (~140,000 data points and ~500 labels).\n",
    "    \n",
    "\n",
    "\n",
    "More precisely, here, we will:\n",
    "1) explore and visualize the data;\n",
    "2) encode the labels; \n",
    "3) split into the training and test sets via [stratified sampling for multi-label data](https://link.springer.com/chapter/10.1007/978-3-642-23808-6_10);\n",
    "4) vectrozie the text data with [TF-IDF (Term Frequency-Inverse Document Frequency)](https://en.wikipedia.org/wiki/Tf%E2%80%93idf);\n",
    "5) train a simple support vector machine classifier. \n",
    "\n",
    "Based on the classifier above, models for predicting coarser target variables such as the 2-character MSC classes (*simplified* labels) or the primary arXiv category may be constructed.   \n",
    "\n",
    "$\\hspace{3cm}$  `cleaned_title` $\\mapsto$ 3-character MSC classes (e.g. 46L, 57M, 57R) \n",
    "$\\mapsto$ 2-character MSC classes (e.g. 46, 57) $\\hspace{1cm}$  (~60 labels),\n",
    "\n",
    "$\\hspace{3cm}$  `cleaned_title` $\\mapsto$ 3-character MSC classes $\\mapsto$ the primary arXiv category (e.g. `math.AG`) $\\hspace{1cm}$  (~30 labels).\n",
    "\n",
    "\n",
    "<a name=\"cite_note-a\"></a>[*](#cite_ref-a) Our data has other attributes as well, such as primary arXiv category, authors' names etc."
   ]
  },
  {
   "cell_type": "code",
   "execution_count": 1,
   "id": "30f9cf47",
   "metadata": {},
   "outputs": [],
   "source": [
    "import pandas as pd\n",
    "import matplotlib.pyplot as plt\n",
    "import numpy as np\n",
    "\n",
    "import json\n",
    "\n",
    "from sklearn.feature_extraction.text import TfidfVectorizer\n",
    "from sklearn.multiclass import OneVsRestClassifier\n",
    "from sklearn.ensemble import RandomForestClassifier\n",
    "from sklearn.svm import LinearSVC\n",
    "\n",
    "from sklearn.model_selection import cross_val_score\n",
    "\n",
    "from sklearn.metrics import f1_score, accuracy_score, jaccard_score\n",
    "\n",
    "#stratified.py is imported (from the same folder) for multi-label stratified sampling. \n",
    "#The short python code is based on the iterstrat library.\n",
    "from stratified import multilabel_train_test_split\n",
    "\n",
    "from scipy import sparse"
   ]
  },
  {
   "cell_type": "markdown",
   "id": "cd434247",
   "metadata": {},
   "source": [
    "We first load the data. Among the columns, we only keep `primary_category`, `cleaned_title` and `MSC`."
   ]
  },
  {
   "cell_type": "code",
   "execution_count": 2,
   "id": "ac770893",
   "metadata": {},
   "outputs": [
    {
     "data": {
      "text/html": [
       "<div>\n",
       "<style scoped>\n",
       "    .dataframe tbody tr th:only-of-type {\n",
       "        vertical-align: middle;\n",
       "    }\n",
       "\n",
       "    .dataframe tbody tr th {\n",
       "        vertical-align: top;\n",
       "    }\n",
       "\n",
       "    .dataframe thead th {\n",
       "        text-align: right;\n",
       "    }\n",
       "</style>\n",
       "<table border=\"1\" class=\"dataframe\">\n",
       "  <thead>\n",
       "    <tr style=\"text-align: right;\">\n",
       "      <th></th>\n",
       "      <th>primary_category</th>\n",
       "      <th>cleaned_title</th>\n",
       "      <th>MSC</th>\n",
       "    </tr>\n",
       "  </thead>\n",
       "  <tbody>\n",
       "    <tr>\n",
       "      <th>0</th>\n",
       "      <td>math.NA</td>\n",
       "      <td>quasi monoton robust local continu piecewis po...</td>\n",
       "      <td>[65N, 41A]</td>\n",
       "    </tr>\n",
       "    <tr>\n",
       "      <th>1</th>\n",
       "      <td>math.AT</td>\n",
       "      <td>higher structur ration homotopi theori</td>\n",
       "      <td>[55S, 16S, 18M, 18G, 55R, 55P, 55Q]</td>\n",
       "    </tr>\n",
       "    <tr>\n",
       "      <th>2</th>\n",
       "      <td>math.QA</td>\n",
       "      <td>indecompos involut solut yang baxt equat finit...</td>\n",
       "      <td>[81R, 16T, 20E, 20N]</td>\n",
       "    </tr>\n",
       "    <tr>\n",
       "      <th>3</th>\n",
       "      <td>math.QA</td>\n",
       "      <td>kashiwara vergn solut degre degre</td>\n",
       "      <td>[57K, 17B]</td>\n",
       "    </tr>\n",
       "    <tr>\n",
       "      <th>4</th>\n",
       "      <td>math.QA</td>\n",
       "      <td>tetrahedron equat quantum cluster algebra</td>\n",
       "      <td>[81R, 82B, 13F]</td>\n",
       "    </tr>\n",
       "  </tbody>\n",
       "</table>\n",
       "</div>"
      ],
      "text/plain": [
       "  primary_category                                      cleaned_title  \\\n",
       "0          math.NA  quasi monoton robust local continu piecewis po...   \n",
       "1          math.AT             higher structur ration homotopi theori   \n",
       "2          math.QA  indecompos involut solut yang baxt equat finit...   \n",
       "3          math.QA                  kashiwara vergn solut degre degre   \n",
       "4          math.QA          tetrahedron equat quantum cluster algebra   \n",
       "\n",
       "                                   MSC  \n",
       "0                           [65N, 41A]  \n",
       "1  [55S, 16S, 18M, 18G, 55R, 55P, 55Q]  \n",
       "2                 [81R, 16T, 20E, 20N]  \n",
       "3                           [57K, 17B]  \n",
       "4                      [81R, 82B, 13F]  "
      ]
     },
     "execution_count": 2,
     "metadata": {},
     "output_type": "execute_result"
    }
   ],
   "source": [
    "raw_data=pd.read_csv('./data/data.csv',index_col=False)\n",
    "raw_data=raw_data[['primary_category','cleaned_title','MSC']]\n",
    "\n",
    "#While loading, the lists under the MSC column are loaded as strings. They should be turned back into lists.\n",
    "raw_data['MSC']=raw_data['MSC'].apply(lambda x:eval(x))\n",
    "raw_data.head()"
   ]
  },
  {
   "cell_type": "markdown",
   "id": "0b1c02cc",
   "metadata": {},
   "source": [
    "Starting data visualization: which primary categories have been most prevalent? "
   ]
  },
  {
   "cell_type": "code",
   "execution_count": 3,
   "id": "f44d3e90",
   "metadata": {},
   "outputs": [
    {
     "data": {
      "image/png": "[encoded data removed]",
      "text/plain": [
       "<Figure size 1000x200 with 1 Axes>"
      ]
     },
     "metadata": {},
     "output_type": "display_data"
    }
   ],
   "source": [
    "fig=plt.figure(figsize=(10,2))\n",
    "ax=fig.add_subplot(1,1,1)\n",
    "\n",
    "#Top 10 most frequent primary categories (bar chart)\n",
    "ax.bar(x=raw_data['primary_category'].value_counts().head(10).index, \n",
    "        height=raw_data['primary_category'].value_counts().head(10),width=0.4)\n",
    "ax.set_title('Top ten most frequent primary categories')\n",
    "\n",
    "plt.show()"
   ]
  },
  {
   "cell_type": "markdown",
   "id": "933ed16b",
   "metadata": {},
   "source": [
    "The labels (MSC classes) should be encoded. This results in the data frame `data`. In parallel, we create `data_simpl` for simplified (2-character MSC classes) encoded labels. As we go over the data to do encode the labels, we also form a dictionary of different words constituting the titles along with their multiplicities. "
   ]
  },
  {
   "cell_type": "code",
   "execution_count": 4,
   "id": "55dcbc15",
   "metadata": {
    "scrolled": false
   },
   "outputs": [
    {
     "name": "stdout",
     "output_type": "stream",
     "text": [
      "The number of distinct labels is 532.\n",
      "The average number of labels per entry is 2.37.\n",
      "\n",
      "The number of distinct simplified labels is 63.\n",
      "The average number of simplified labels per entry is 1.88.\n",
      "\n"
     ]
    },
    {
     "data": {
      "text/html": [
       "<div>\n",
       "<style scoped>\n",
       "    .dataframe tbody tr th:only-of-type {\n",
       "        vertical-align: middle;\n",
       "    }\n",
       "\n",
       "    .dataframe tbody tr th {\n",
       "        vertical-align: top;\n",
       "    }\n",
       "\n",
       "    .dataframe thead th {\n",
       "        text-align: right;\n",
       "    }\n",
       "</style>\n",
       "<table border=\"1\" class=\"dataframe\">\n",
       "  <thead>\n",
       "    <tr style=\"text-align: right;\">\n",
       "      <th></th>\n",
       "      <th>primary_category</th>\n",
       "      <th>cleaned_title</th>\n",
       "      <th>37D</th>\n",
       "      <th>92E</th>\n",
       "      <th>28E</th>\n",
       "      <th>62N</th>\n",
       "      <th>11G</th>\n",
       "      <th>55Q</th>\n",
       "      <th>74C</th>\n",
       "      <th>58E</th>\n",
       "      <th>...</th>\n",
       "      <th>28B</th>\n",
       "      <th>76H</th>\n",
       "      <th>34H</th>\n",
       "      <th>45M</th>\n",
       "      <th>44A</th>\n",
       "      <th>34E</th>\n",
       "      <th>30G</th>\n",
       "      <th>41A</th>\n",
       "      <th>35E</th>\n",
       "      <th>19C</th>\n",
       "    </tr>\n",
       "  </thead>\n",
       "  <tbody>\n",
       "    <tr>\n",
       "      <th>0</th>\n",
       "      <td>math.NA</td>\n",
       "      <td>quasi monoton robust local continu piecewis po...</td>\n",
       "      <td>0</td>\n",
       "      <td>0</td>\n",
       "      <td>0</td>\n",
       "      <td>0</td>\n",
       "      <td>0</td>\n",
       "      <td>0</td>\n",
       "      <td>0</td>\n",
       "      <td>0</td>\n",
       "      <td>...</td>\n",
       "      <td>0</td>\n",
       "      <td>0</td>\n",
       "      <td>0</td>\n",
       "      <td>0</td>\n",
       "      <td>0</td>\n",
       "      <td>0</td>\n",
       "      <td>0</td>\n",
       "      <td>1</td>\n",
       "      <td>0</td>\n",
       "      <td>0</td>\n",
       "    </tr>\n",
       "    <tr>\n",
       "      <th>1</th>\n",
       "      <td>math.AT</td>\n",
       "      <td>higher structur ration homotopi theori</td>\n",
       "      <td>0</td>\n",
       "      <td>0</td>\n",
       "      <td>0</td>\n",
       "      <td>0</td>\n",
       "      <td>0</td>\n",
       "      <td>1</td>\n",
       "      <td>0</td>\n",
       "      <td>0</td>\n",
       "      <td>...</td>\n",
       "      <td>0</td>\n",
       "      <td>0</td>\n",
       "      <td>0</td>\n",
       "      <td>0</td>\n",
       "      <td>0</td>\n",
       "      <td>0</td>\n",
       "      <td>0</td>\n",
       "      <td>0</td>\n",
       "      <td>0</td>\n",
       "      <td>0</td>\n",
       "    </tr>\n",
       "    <tr>\n",
       "      <th>2</th>\n",
       "      <td>math.QA</td>\n",
       "      <td>indecompos involut solut yang baxt equat finit...</td>\n",
       "      <td>0</td>\n",
       "      <td>0</td>\n",
       "      <td>0</td>\n",
       "      <td>0</td>\n",
       "      <td>0</td>\n",
       "      <td>0</td>\n",
       "      <td>0</td>\n",
       "      <td>0</td>\n",
       "      <td>...</td>\n",
       "      <td>0</td>\n",
       "      <td>0</td>\n",
       "      <td>0</td>\n",
       "      <td>0</td>\n",
       "      <td>0</td>\n",
       "      <td>0</td>\n",
       "      <td>0</td>\n",
       "      <td>0</td>\n",
       "      <td>0</td>\n",
       "      <td>0</td>\n",
       "    </tr>\n",
       "    <tr>\n",
       "      <th>3</th>\n",
       "      <td>math.QA</td>\n",
       "      <td>kashiwara vergn solut degre degre</td>\n",
       "      <td>0</td>\n",
       "      <td>0</td>\n",
       "      <td>0</td>\n",
       "      <td>0</td>\n",
       "      <td>0</td>\n",
       "      <td>0</td>\n",
       "      <td>0</td>\n",
       "      <td>0</td>\n",
       "      <td>...</td>\n",
       "      <td>0</td>\n",
       "      <td>0</td>\n",
       "      <td>0</td>\n",
       "      <td>0</td>\n",
       "      <td>0</td>\n",
       "      <td>0</td>\n",
       "      <td>0</td>\n",
       "      <td>0</td>\n",
       "      <td>0</td>\n",
       "      <td>0</td>\n",
       "    </tr>\n",
       "    <tr>\n",
       "      <th>4</th>\n",
       "      <td>math.QA</td>\n",
       "      <td>tetrahedron equat quantum cluster algebra</td>\n",
       "      <td>0</td>\n",
       "      <td>0</td>\n",
       "      <td>0</td>\n",
       "      <td>0</td>\n",
       "      <td>0</td>\n",
       "      <td>0</td>\n",
       "      <td>0</td>\n",
       "      <td>0</td>\n",
       "      <td>...</td>\n",
       "      <td>0</td>\n",
       "      <td>0</td>\n",
       "      <td>0</td>\n",
       "      <td>0</td>\n",
       "      <td>0</td>\n",
       "      <td>0</td>\n",
       "      <td>0</td>\n",
       "      <td>0</td>\n",
       "      <td>0</td>\n",
       "      <td>0</td>\n",
       "    </tr>\n",
       "  </tbody>\n",
       "</table>\n",
       "<p>5 rows × 534 columns</p>\n",
       "</div>"
      ],
      "text/plain": [
       "  primary_category                                      cleaned_title  37D  \\\n",
       "0          math.NA  quasi monoton robust local continu piecewis po...    0   \n",
       "1          math.AT             higher structur ration homotopi theori    0   \n",
       "2          math.QA  indecompos involut solut yang baxt equat finit...    0   \n",
       "3          math.QA                  kashiwara vergn solut degre degre    0   \n",
       "4          math.QA          tetrahedron equat quantum cluster algebra    0   \n",
       "\n",
       "   92E  28E  62N  11G  55Q  74C  58E  ...  28B  76H  34H  45M  44A  34E  30G  \\\n",
       "0    0    0    0    0    0    0    0  ...    0    0    0    0    0    0    0   \n",
       "1    0    0    0    0    1    0    0  ...    0    0    0    0    0    0    0   \n",
       "2    0    0    0    0    0    0    0  ...    0    0    0    0    0    0    0   \n",
       "3    0    0    0    0    0    0    0  ...    0    0    0    0    0    0    0   \n",
       "4    0    0    0    0    0    0    0  ...    0    0    0    0    0    0    0   \n",
       "\n",
       "   41A  35E  19C  \n",
       "0    1    0    0  \n",
       "1    0    0    0  \n",
       "2    0    0    0  \n",
       "3    0    0    0  \n",
       "4    0    0    0  \n",
       "\n",
       "[5 rows x 534 columns]"
      ]
     },
     "execution_count": 4,
     "metadata": {},
     "output_type": "execute_result"
    }
   ],
   "source": [
    "#The lists of distinct labels and simplified labels that come up.\n",
    "MSC_list=list(set.union(*raw_data['MSC'].apply(lambda x: set([y for y in x])).to_list()))\n",
    "MSC_simpl_list=list(set.union(*raw_data['MSC'].apply(lambda x: set([y[:2] for y in x])).to_list()))\n",
    "\n",
    "#Listing the numbers of labels and distinct lables across the data. \n",
    "num_labels=raw_data['MSC'].apply(lambda x: len(x)).to_list()\n",
    "num_simpl_labels=raw_data['MSC'].apply(lambda x: len(set([y[:2] for y in x]))).to_list()\n",
    "\n",
    "print(f'The number of distinct labels is {len(MSC_list)}.')\n",
    "print(f\"The average number of labels per entry is {round(sum(num_labels)/raw_data.shape[0],2)}.\\n\")\n",
    "\n",
    "print(f'The number of distinct simplified labels is {len(MSC_simpl_list)}.')\n",
    "print(f\"The average number of simplified labels per entry is {round(sum(num_simpl_labels)/raw_data.shape[0],2)}.\\n\")\n",
    "\n",
    "\n",
    "#We initialize a dictionary to record the multiplicities of various words that appear in cleaned titles. \n",
    "#We go over the data frame to update the dictionary, and to encode the labels. \n",
    "dict_words={} \n",
    "\n",
    "#Adding columns for encoded labels. \n",
    "data=pd.concat((raw_data,pd.DataFrame(data=0,index=np.arange(raw_data.shape[0]),\n",
    "                             columns=MSC_list)),axis=1)\n",
    "data_simpl=pd.concat((raw_data,pd.DataFrame(data=0,index=np.arange(raw_data.shape[0]),\n",
    "                             columns=MSC_simpl_list)),axis=1)\n",
    "\n",
    "\n",
    "for row in range(data.shape[0]):\n",
    "    \n",
    "    words=data['cleaned_title'][row].split(' ')      #The titles have been cleaned, no consecutive spaces.\n",
    "    for word in words: \n",
    "        if word in dict_words.keys():\n",
    "            dict_words[word]+=1\n",
    "        else:\n",
    "            dict_words[word]=1\n",
    "                \n",
    "    classes=data['MSC'][row]\n",
    "    for MSC in classes:\n",
    "        data.at[row,MSC]=1\n",
    "    \n",
    "    simpl_classes=list(set([x[:2] for x in classes]))\n",
    "    for MSC in simpl_classes:\n",
    "        data_simpl.at[row,MSC]=1\n",
    "        \n",
    "\n",
    "data.drop(columns=['MSC'],inplace=True)\n",
    "data_simpl.drop(columns=['MSC'],inplace=True)\n",
    "\n",
    "\n",
    "dict_MSC={}\n",
    "for MSC in MSC_list:\n",
    "    dict_MSC[MSC]=data[MSC].sum()\n",
    "\n",
    "    \n",
    "dict_MSC_simpl={}\n",
    "for MSC in MSC_simpl_list:\n",
    "    dict_MSC_simpl[MSC]=data_simpl[MSC].sum()\n",
    "\n",
    "    \n",
    "data.head()"
   ]
  },
  {
   "cell_type": "markdown",
   "id": "b8bdca7f",
   "metadata": {},
   "source": [
    "Visualizing the most common labels (MSC classes). "
   ]
  },
  {
   "cell_type": "code",
   "execution_count": 5,
   "id": "6830baea",
   "metadata": {},
   "outputs": [
    {
     "data": {
      "image/png": "[encoded data removed]",
      "text/plain": [
       "<Figure size 1000x600 with 4 Axes>"
      ]
     },
     "metadata": {},
     "output_type": "display_data"
    }
   ],
   "source": [
    "fig=plt.figure(figsize=(10,6))\n",
    "\n",
    "\n",
    "#Top 10 most frequent MSC classes (bar chart)\n",
    "ax1=fig.add_subplot(8,1,1)\n",
    "top_index=np.argsort(-np.asarray(list(dict_MSC.values())))[0:15]\n",
    "ax1.bar(x=np.asarray(list(dict_MSC.keys()))[top_index],\n",
    "        height=np.asarray(list(dict_MSC.values()))[top_index],width=0.4,color='m')\n",
    "ax1.set_title('Top fifteen most frequent labels (3-character MSC classes)')\n",
    "\n",
    "#Number of labels (histogram)\n",
    "ax2=fig.add_subplot(8,1,3)\n",
    "ax2.hist(num_labels,color='m')\n",
    "ax2.locator_params(axis='x', integer=True)\n",
    "ax2.set_title('Histogram for the number of distinct labels (3-character MSC classes)')\n",
    "\n",
    "\n",
    "#Top 10 most frequent 2-character MSC classes (bar chart)\n",
    "ax3=fig.add_subplot(8,1,6)\n",
    "top_index=np.argsort(-np.asarray(list(dict_MSC_simpl.values())))[0:15]\n",
    "ax3.bar(x=np.asarray(list(dict_MSC_simpl.keys()))[top_index],\n",
    "        height=np.asarray(list(dict_MSC_simpl.values()))[top_index],width=0.4,color='c')\n",
    "ax3.set_title('Top fifteen most frequent simplified labels (2-character MSC classes)')\n",
    "\n",
    "\n",
    "#Number of simplified labels (histogram)\n",
    "ax2=fig.add_subplot(8,1,8)\n",
    "ax2.hist(num_simpl_labels,color='c')\n",
    "ax2.locator_params(axis='x', integer=True)\n",
    "ax2.set_title('Histogram for the number of distinct labels (3-character MSC classes)')\n",
    "\n",
    "\n",
    "\n",
    "plt.show()"
   ]
  },
  {
   "cell_type": "markdown",
   "id": "87be6533",
   "metadata": {},
   "source": [
    "If a label occurs only once throughout the data, then either the training or the test dataset will lack it. To avoid this, we drop all such labels along with instances whose only label is such a thing (if any)."
   ]
  },
  {
   "cell_type": "code",
   "execution_count": 6,
   "id": "d964e70a",
   "metadata": {},
   "outputs": [
    {
     "name": "stdout",
     "output_type": "stream",
     "text": [
      "MSC classes that happen only once are: 76K 83B\n",
      "\n",
      "No need to drop any rows.\n"
     ]
    }
   ],
   "source": [
    "MSC_only_once=[]\n",
    "ascending=np.argsort(np.asarray(list(dict_MSC.values())))\n",
    "for arg in ascending:\n",
    "    if np.asarray(list(dict_MSC.values()))[arg]==1:\n",
    "        MSC_only_once+=[np.asarray(list(dict_MSC.keys()))[arg]]\n",
    "    else:\n",
    "        break\n",
    "\n",
    "print('MSC classes that happen only once are:', *MSC_only_once)\n",
    "\n",
    "#Deleting these keys from the corresponding dictionary and list\n",
    "for MSC in MSC_only_once:\n",
    "    del dict_MSC[MSC]\n",
    "    MSC_list.remove(MSC)\n",
    "\n",
    "data.drop(columns=MSC_only_once,inplace=True)\n",
    "\n",
    "if data[(data.iloc[:,2:]==0).all(axis=1)].shape[0]==0:\n",
    "    print('\\nNo need to drop any rows.')\n",
    "else: \n",
    "    drop_index=data[(data.iloc[:,2:]==0).all(axis=1)].index\n",
    "    data.drop(columns=MSC_only_once,inplace=True)\n",
    "    print(f'\\nThe number of rows dropped is {drop_index.shape[0]}')\n",
    "\n",
    "\n",
    "#Saving the encoded data in a compressed form.     \n",
    "data.to_csv('./data/data_encoded.csv',compression='zip',index=False)"
   ]
  },
  {
   "cell_type": "markdown",
   "id": "104f2558",
   "metadata": {},
   "source": [
    "We next look at the cleaned titles (to be used as the input text data). How many words appear in them? Which words have been the most common?"
   ]
  },
  {
   "cell_type": "code",
   "execution_count": 7,
   "id": "e1dbd037",
   "metadata": {
    "scrolled": false
   },
   "outputs": [
    {
     "name": "stdout",
     "output_type": "stream",
     "text": [
      "The total number of words appearing in cleaned titles is 26222.\n",
      "\n",
      "The average number of words per cleaned title is 6.48.\n"
     ]
    },
    {
     "data": {
      "image/png": "[encoded data removed]",
      "text/plain": [
       "<Figure size 1000x200 with 2 Axes>"
      ]
     },
     "metadata": {},
     "output_type": "display_data"
    }
   ],
   "source": [
    "print(f'The total number of words appearing in cleaned titles is {len(dict_words)}.\\n')\n",
    "\n",
    "num_words=data['cleaned_title'].apply(lambda x:len(x.split(' ')))\n",
    "\n",
    "print(f'The average number of words per cleaned title is {round(num_words.mean(),2)}.')\n",
    "\n",
    "fig=plt.figure(figsize=(10,2))\n",
    "ax1=fig.add_subplot(3,1,1)\n",
    "\n",
    "#Top 10 most frequent primary categories (bar chart)\n",
    "top_index=np.argsort(-np.asarray(list(dict_words.values())))[0:10]\n",
    "ax1.bar(x=np.asarray(list(dict_words.keys()))[top_index],\n",
    "        height=np.asarray(list(dict_words.values()))[top_index],width=0.4)\n",
    "ax1.set_title('Top ten most frequent words')\n",
    "\n",
    "\n",
    "ax2=fig.add_subplot(3,1,3)\n",
    "\n",
    "#Number of constituent words (histogram)\n",
    "ax2.hist(num_words)\n",
    "ax2.locator_params(axis='x', integer=True)\n",
    "ax2.set_title('Histogram for the number of words per cleaned title')\n",
    "\n",
    "plt.show()"
   ]
  },
  {
   "cell_type": "markdown",
   "id": "a7514051",
   "metadata": {},
   "source": [
    "Stratified splitting of the data into training and test sets based on the [iterative-stratification](https://github.com/trent-b/iterative-stratification) library. We save the corresponding row indices for the future use. "
   ]
  },
  {
   "cell_type": "code",
   "execution_count": 8,
   "id": "5275ffed",
   "metadata": {},
   "outputs": [
    {
     "name": "stdout",
     "output_type": "stream",
     "text": [
      "The number of training instances: 104165\n",
      "The number of test instances: 44699\n"
     ]
    }
   ],
   "source": [
    "X_train, X_test, y_train, y_test = multilabel_train_test_split(data['cleaned_title'],\n",
    "                                                               data.iloc[:,2:],stratify=data.iloc[:,2:], \n",
    "                                                               test_size=0.3, random_state=1)\n",
    "\n",
    "\n",
    "train_index=np.asarray(X_train.index).tolist()\n",
    "print(f'The number of training instances: {len(train_index)}')\n",
    "with open('./data/train_index.json','w') as file:\n",
    "    json.dump(train_index,file)\n",
    "\n",
    "    \n",
    "test_index=np.asarray(X_test.index).tolist()\n",
    "print(f'The number of test instances: {len(test_index)}')\n",
    "with open('./data/test_index.json','w') as file:\n",
    "    json.dump(test_index,file)"
   ]
  },
  {
   "cell_type": "markdown",
   "id": "c0ae9573",
   "metadata": {},
   "source": [
    "Making sure no label is all zero in either the training or the test set. "
   ]
  },
  {
   "cell_type": "code",
   "execution_count": 9,
   "id": "9a2348b7",
   "metadata": {},
   "outputs": [
    {
     "name": "stdout",
     "output_type": "stream",
     "text": [
      "The number of all-zero columns in y_train is 0.\n",
      "\n",
      "The number of all-zero columns in y_test is 0.\n"
     ]
    }
   ],
   "source": [
    "print(f'The number of all-zero columns in y_train is {np.sum((np.sum(y_train,axis=0)==0).astype(int))}.\\n')\n",
    "\n",
    "print(f'The number of all-zero columns in y_test is {np.sum((np.sum(y_test,axis=0)==0).astype(int))}.')"
   ]
  },
  {
   "cell_type": "markdown",
   "id": "f9bd4a64",
   "metadata": {},
   "source": [
    "Are different labels (MSC classes) distributed proportionally between the training and test sets? Bar charts for the relative frequency of top MSC classes would tell us."
   ]
  },
  {
   "cell_type": "code",
   "execution_count": 10,
   "id": "afb630cc",
   "metadata": {
    "scrolled": false
   },
   "outputs": [
    {
     "data": {
      "image/png": "[encoded data removed]",
      "text/plain": [
       "<Figure size 1000x400 with 1 Axes>"
      ]
     },
     "metadata": {},
     "output_type": "display_data"
    }
   ],
   "source": [
    "top_index=np.argsort(-np.asarray(list(dict_MSC.values())))[0:15]\n",
    "top_MSC=np.asarray(list(dict_MSC.keys()))[top_index]\n",
    "\n",
    "\n",
    "ind=np.arange(15)\n",
    "width=0.2\n",
    "\n",
    "fig=plt.figure(figsize=(10,4))\n",
    "ax=fig.add_subplot(111)\n",
    "ax.bar(x=ind, height=y_train[top_MSC].sum(axis=0)/y_train.shape[0], width=width, color='r')\n",
    "ax.bar(x=ind+width, height=y_test[top_MSC].sum(axis=0)/y_test.shape[0], width=width, color='g')\n",
    "ax.set_xticks(ind+width)\n",
    "ax.set_xticklabels(top_MSC)\n",
    "\n",
    "ax.set_title(\"Frequencies of top fifteen labels normalized by the dataset's size\")\n",
    "ax.legend(('Training set','Test set'))\n",
    "\n",
    "plt.show()"
   ]
  },
  {
   "cell_type": "markdown",
   "id": "2c582099",
   "metadata": {},
   "source": [
    "Next, we proceed with training a model for predicting MSC classes based on the text data under the column `cleaned_title`. First, the text data will be vectorized. "
   ]
  },
  {
   "cell_type": "code",
   "execution_count": 11,
   "id": "8969771b",
   "metadata": {},
   "outputs": [
    {
     "name": "stdout",
     "output_type": "stream",
     "text": [
      "The shapes of X_train and X_test (after encoding): (104165, 285878) and  (44699, 285878)\n",
      "\n",
      "The shapes of y_train and y_test: (104165, 530) and  (44699, 530)\n"
     ]
    }
   ],
   "source": [
    "vectorizer = TfidfVectorizer(ngram_range=(1,2))\n",
    "X_train = vectorizer.fit_transform(X_train)\n",
    "X_test = vectorizer.transform(X_test)\n",
    "\n",
    "print(f'The shapes of X_train and X_test (after encoding): {X_train.shape} and  {X_test.shape}\\n')\n",
    "print(f'The shapes of y_train and y_test: {y_train.shape} and  {y_test.shape}')"
   ]
  },
  {
   "cell_type": "markdown",
   "id": "c701b855",
   "metadata": {},
   "source": [
    "Let's start with SVM classifier with linear kernel. We use scikit-learn's `OnevsRest` classifiers, which [supports](https://scikit-learn.org/stable/modules/generated/sklearn.multiclass.OneVsRestClassifier.html) multilabel classification,  based on `LinearSVC`. `LinearSVC` is [much faster](https://stackoverflow.com/questions/35076586/when-should-one-use-linearsvc-or-svc) than `SVC` with linear kernel. We tune its hyperparameter `C` via cross-validation on the training set. The hyperparameter `C` [controls](https://stats.stackexchange.com/questions/31066/what-is-the-influence-of-c-in-svms-with-linear-kernel) the hyperplane's margin (larger `C` means larger cost for misclassification on the training set, and results in hyperplanes with smaller margins). "
   ]
  },
  {
   "cell_type": "code",
   "execution_count": 12,
   "id": "fb5014d2",
   "metadata": {},
   "outputs": [
    {
     "name": "stdout",
     "output_type": "stream",
     "text": [
      "C=0.1, the average cross-validation score=0.08334932131470556\n",
      "C=0.5, the average cross-validation score=0.19405717280068432\n",
      "C=1, the average cross-validation score=0.23680484152897271\n",
      "C=5, the average cross-validation score=0.2893918714315329\n",
      "C=10, the average cross-validation score=0.29622879159170057\n",
      "C=50, the average cross-validation score=0.3011609959759121\n",
      "C=100, the average cross-validation score=0.3013255397266729\n",
      "C=500, the average cross-validation score=0.3015895978637669\n",
      "C=1000, the average cross-validation score=0.3013161344313699\n",
      "C=5000, the average cross-validation score=0.30147390287885684\n",
      "C=10000, the average cross-validation score=0.30152886018772457\n"
     ]
    }
   ],
   "source": [
    "for C in [0.1, 0.5, 1, 5, 10, 50, 100, 500, 1000, 5000, 10000]:\n",
    "    clf= OneVsRestClassifier(LinearSVC(penalty='l2',loss='squared_hinge',random_state=123,C=C),n_jobs=-1)\n",
    "    scores=cross_val_score(clf,X_train,y_train,cv=3,n_jobs=-1,scoring='f1_weighted',)\n",
    "    print(f\"C={C}, the average cross-validation score={np.mean(scores)}\")    "
   ]
  },
  {
   "cell_type": "markdown",
   "id": "be5f3ddc",
   "metadata": {},
   "source": [
    "The cross-validation score imporves very slightly beyond `C=50`. We choose this value for the hyperparameter, and we fit over the whole training set. We shall then evaluate various scikit-learn metrics including the variants of the `f1_score` and the `accuracy_score`. The latter only takes into account data instances for which all predicted labels match the true ones. On the other hand, the metrics `hamming_loss` and `jaccard_score` also detect cases where the predicted labels partially agree. But for our data, `hamming_loss` would not be very illuminating since most labels are zero (i.e. true negatives). Instead, we use the `jaccard_score` to capture the similarity of the predicted labels and true labels for a data point (which returns the ratio of true positives to the number of labels that are one or are predicted to be one or both.)"
   ]
  },
  {
   "cell_type": "code",
   "execution_count": 13,
   "id": "5e99740d",
   "metadata": {
    "scrolled": true
   },
   "outputs": [
    {
     "name": "stdout",
     "output_type": "stream",
     "text": [
      "Metrics for predicting 3-character MSC classes based on the cleaned title:\n",
      "\n",
      " Train Accuracy: 99.8%\n",
      " Train F1-score macro: 99.94%\n",
      " Train F1-score micro: 99.93%\n",
      " Train F1-score weighted: 99.93%\n",
      " Train Jaccard score: 99.86\n",
      " \n",
      " Test Accuracy:  13.66%\n",
      " Test F1-score macro: 28.79%\n",
      " Test F1-score micro: 41.52%\n",
      " Test F1-score weighted: 40.4%\n",
      " Test Jaccard score weighted: 26.13\n"
     ]
    }
   ],
   "source": [
    "clf=OneVsRestClassifier(LinearSVC(random_state=123,C=50),n_jobs=-1)\n",
    "\n",
    "clf.fit(X_train, y_train)\n",
    "\n",
    "\n",
    "y_pred_train=clf.predict(X_train)\n",
    "y_pred=clf.predict(X_test)\n",
    "\n",
    "\n",
    "print('Metrics for predicting 3-character MSC classes based on the cleaned title:\\n')\n",
    "print(f' Train Accuracy: {round(100*accuracy_score(y_train, y_pred_train, normalize=True),2)}%')\n",
    "print(f\" Train F1-score macro: {round(100*f1_score(y_train, y_pred_train, average='macro'),2)}%\")\n",
    "print(f\" Train F1-score micro: {round(100*f1_score(y_train, y_pred_train, average='micro'),2)}%\")\n",
    "print(f\" Train F1-score weighted: {round(100*f1_score(y_train, y_pred_train, average='weighted'),2)}%\")\n",
    "print(f\" Train Jaccard score: {round(100*jaccard_score(y_train, y_pred_train, average='weighted'),2)}\")\n",
    "\n",
    "\n",
    "\n",
    "print(f' \\n Test Accuracy:  {round(100*accuracy_score(y_test, y_pred, normalize=True),2)}%')\n",
    "print(f\" Test F1-score macro: {round(100*f1_score(y_test, y_pred, average='macro'),2)}%\")\n",
    "print(f\" Test F1-score micro: {round(100*f1_score(y_test, y_pred, average='micro'),2)}%\")\n",
    "print(f\" Test F1-score weighted: {round(100*f1_score(y_test, y_pred, average='weighted'),2)}%\") \n",
    "print(f\" Test Jaccard score weighted: {round(100*jaccard_score(y_test, y_pred, average='weighted'),2)}\") "
   ]
  },
  {
   "cell_type": "markdown",
   "id": "db383774",
   "metadata": {},
   "source": [
    "How has the classifier performed if we restrict to test instances with a fixed number of labels?"
   ]
  },
  {
   "cell_type": "code",
   "execution_count": 14,
   "id": "9e01aadf",
   "metadata": {},
   "outputs": [
    {
     "name": "stdout",
     "output_type": "stream",
     "text": [
      "Accuracy socres as the number of labels increases: [29.88, 11.19, 4.57, 3.03, 2.2, 1.77, 1.96, 0.0, 3.33, 0.0, 8.33, 0.0, 0.0, 0.0].\n",
      "Weighted f1-scores as the number of labels increases: [48.68, 45.44, 39.93, 37.39, 35.91, 35.91, 40.46, 56.83, 72.15, 65.97, 75.56, 85.56, nan, 100.0].\n",
      "Weighted Jaccard scores as the number of labels increases: [33.17, 29.78, 25.19, 23.0, 21.07, 19.09, 17.27, 17.58, 17.96, 16.05, 14.9, 32.64, 0.0, 7.14].\n"
     ]
    }
   ],
   "source": [
    "y_1=np.asarray(y_test)\n",
    "y_2=y_pred\n",
    "\n",
    "n_labels=1\n",
    "list_n_labels=[]\n",
    "list_accuracy=[]\n",
    "list_jaccard=[]\n",
    "list_f1=[]\n",
    "\n",
    "while True:\n",
    "    index_indicator=np.where(y_1.sum(axis=1)==n_labels)[0]\n",
    "    if index_indicator.shape[0]==0:\n",
    "        break\n",
    "    list_n_labels+=[n_labels]\n",
    "    \n",
    "    list_accuracy+=[round(100*accuracy_score(y_1[index_indicator],y_2[index_indicator]),2)]\n",
    "    \n",
    "    #The zero_division=np.nan option: Among the rows of y_test that we have separated, some columns may be all 0. \n",
    "    list_f1+=[round(100*f1_score(y_1[index_indicator],y_2[index_indicator],average='weighted',zero_division=np.nan),2)]\n",
    "    \n",
    "    list_jaccard+=[round(100*jaccard_score(y_1[index_indicator],y_2[index_indicator],average='weighted',zero_division=0),2)]\n",
    "    \n",
    "    #The average number of incorrectly predicted labels\n",
    "    n_labels+=1\n",
    "    \n",
    "print(f'Accuracy socres as the number of labels increases: {list_accuracy}.')\n",
    "print(f'Weighted f1-scores as the number of labels increases: {list_f1}.')\n",
    "print(f'Weighted Jaccard scores as the number of labels increases: {list_jaccard}.')"
   ]
  },
  {
   "cell_type": "markdown",
   "id": "cafa78df",
   "metadata": {},
   "source": [
    "We observe that the accuracy score (for which rows of `y_test` and `y_pred` should exactly match) becomes poorer. One the other hand, the weighted $F_1$ and Jaccard scores are much more reasonable. "
   ]
  },
  {
   "cell_type": "markdown",
   "id": "7dade8e1",
   "metadata": {},
   "source": [
    "Now based on `clf`, we construct another classfier `clf_simplified` for predicting simplified labels."
   ]
  },
  {
   "cell_type": "code",
   "execution_count": 15,
   "id": "ca92264f",
   "metadata": {},
   "outputs": [
    {
     "name": "stdout",
     "output_type": "stream",
     "text": [
      "Metrics for predicting 2-character MSC classes based on the cleaned title:\n",
      "\n",
      " Test Accuracy:  26.8%\n",
      " Test F1-score macro: 44.56%\n",
      " Test F1-score micro: 53.98%\n",
      " Test F1-score weighted: 53.45%\n",
      " Test Jaccard score weighted: 37.02%\n"
     ]
    }
   ],
   "source": [
    "#A binary matrix that captures the relation between 3-character and 2-character (truncated) MSC classes.\n",
    "T=np.zeros([len(MSC_list),len(MSC_simpl_list)])\n",
    "\n",
    "for i in range(len(MSC_list)):\n",
    "    for j in range(len(MSC_simpl_list)):\n",
    "        if MSC_list[i][:2]==MSC_simpl_list[j]:\n",
    "            T[i][j]=1\n",
    "            \n",
    "class clf_reduction:\n",
    "    '''\n",
    "    Composing with a linear transformation to obtain binary outputs in a smaller space.\n",
    "    '''\n",
    "    def __init__(self, clf, T):\n",
    "        self.clf=clf\n",
    "        self.transformation=T\n",
    "    def predict(self,X):\n",
    "        return (np.matmul(self.clf.predict(X),T)>0).astype(int) \n",
    "    \n",
    "clf_simplified=clf_reduction(clf,T)\n",
    "y_pred_simplified=clf_simplified.predict(X_test)\n",
    "\n",
    "print('Metrics for predicting 2-character MSC classes based on the cleaned title:\\n')\n",
    "print(f' Test Accuracy:  {round(100*accuracy_score(data_simpl.iloc[test_index,2:], y_pred_simplified, normalize=True),2)}%')\n",
    "print(f\" Test F1-score macro: {round(100*f1_score(data_simpl.iloc[test_index,2:], y_pred_simplified, average='macro'),2)}%\")\n",
    "print(f\" Test F1-score micro: {round(100*f1_score(data_simpl.iloc[test_index,2:], y_pred_simplified, average='micro'),2)}%\")\n",
    "print(f\" Test F1-score weighted: {round(100*f1_score(data_simpl.iloc[test_index,2:], y_pred_simplified, average='weighted'),2)}%\") \n",
    "print(f\" Test Jaccard score weighted: {round(100*jaccard_score(data_simpl.iloc[test_index,2:], y_pred_simplified, average='weighted'),2)}%\") "
   ]
  },
  {
   "cell_type": "markdown",
   "id": "9d396bd1",
   "metadata": {},
   "source": [
    "There have been machine learning projects, such as the [arXiv Classifier](https://github.com/arXiv/arxiv-classifier/), aimed at predicting a preprint's primary arXiv category. Our classifier `clf` predicts MSC classes which are intuitively finer (there are often multiple MSC classes for each math subject). But the primary category can be predicted based on MSC classes with a reasonable accuracy. Thus we can combine such a classifier with `clf` to obtain a model `clf_arXiv_primary` for detecting the primary arXiv category based on the cleaned title.  "
   ]
  },
  {
   "cell_type": "code",
   "execution_count": 16,
   "id": "12c49605",
   "metadata": {},
   "outputs": [
    {
     "name": "stdout",
     "output_type": "stream",
     "text": [
      "Metrics for predicting the primary arXiv category based on MSC classes:\n",
      "\n",
      " Train Accuracy: 82.65%\n",
      " Train F1-score macro: 68.74%\n",
      " Train F1-score micro: 82.65%\n",
      " Train F1-score weighted: 82.39%\n",
      " \n",
      " Test Accuracy:  66.06%\n",
      " Test F1-score macro: 22.21%\n",
      " Test F1-score micro: 66.06%\n",
      " Test F1-score weighted: 65.37%\n"
     ]
    }
   ],
   "source": [
    "X_train_CatPred=sparse.csr_matrix(data.iloc[train_index,2:])\n",
    "y_train_CatPred=data.iloc[train_index,:]['primary_category']\n",
    "\n",
    "X_test_CatPred=sparse.csr_matrix(data.iloc[test_index,2:])\n",
    "y_test_CatPred=data.iloc[test_index,:]['primary_category']\n",
    "\n",
    "\n",
    "clf_CatPred=OneVsRestClassifier(RandomForestClassifier(n_estimators=30, bootstrap=True, max_features=0.7,\n",
    "                                                       random_state=999),n_jobs=-1)\n",
    "clf_CatPred.fit(X_train_CatPred,y_train_CatPred)\n",
    "\n",
    "y_pred_train_CatPred=clf_CatPred.predict(X_train_CatPred)\n",
    "y_pred_CatPred=clf_CatPred.predict(X_test_CatPred)\n",
    "\n",
    "print('Metrics for predicting the primary arXiv category based on MSC classes:\\n')\n",
    "print(f' Train Accuracy: {round(100*accuracy_score(y_train_CatPred, y_pred_train_CatPred, normalize=True),2)}%')\n",
    "print(f\" Train F1-score macro: {round(100*f1_score(y_train_CatPred, y_pred_train_CatPred, average='macro'),2)}%\")\n",
    "print(f\" Train F1-score micro: {round(100*f1_score(y_train_CatPred, y_pred_train_CatPred, average='micro'),2)}%\")\n",
    "print(f\" Train F1-score weighted: {round(100*f1_score(y_train_CatPred, y_pred_train_CatPred, average='weighted'),2)}%\")\n",
    "\n",
    "\n",
    "\n",
    "print(f' \\n Test Accuracy:  {round(100*accuracy_score(y_test_CatPred, y_pred_CatPred, normalize=True),2)}%')\n",
    "print(f\" Test F1-score macro: {round(100*f1_score(y_test_CatPred, y_pred_CatPred, average='macro'),2)}%\")\n",
    "print(f\" Test F1-score micro: {round(100*f1_score(y_test_CatPred, y_pred_CatPred, average='micro'),2)}%\")\n",
    "print(f\" Test F1-score weighted: {round(100*f1_score(y_test_CatPred, y_pred_CatPred, average='weighted'),2)}%\")"
   ]
  },
  {
   "cell_type": "code",
   "execution_count": 17,
   "id": "4710dbf1",
   "metadata": {},
   "outputs": [
    {
     "name": "stdout",
     "output_type": "stream",
     "text": [
      "Metrics for predicting the primary arXiv category based on the cleaned title:\n",
      "\n",
      " Test Accuracy:  46.76%\n",
      " Test F1-score macro: 15.76%\n",
      " Test F1-score micro: 46.76%\n",
      " Test F1-score weighted: 50.96%\n"
     ]
    }
   ],
   "source": [
    "class clf_composed:\n",
    "    '''\n",
    "    Composing two fitted classifiers with predict method.\n",
    "    '''\n",
    "    def __init__(self, clf_MSC,clf_category_from_MSC):\n",
    "        self.clf_1=clf_MSC\n",
    "        self.clf_2=clf_category_from_MSC\n",
    "        \n",
    "    def predict(self,X):\n",
    "        return self.clf_2.predict(self.clf_1.predict(X))\n",
    "\n",
    "clf_arXiv_primary=clf_composed(clf,clf_CatPred)\n",
    "y_pred_arXivCat=clf_arXiv_primary.predict(X_test)\n",
    "\n",
    "print('Metrics for predicting the primary arXiv category based on the cleaned title:\\n')\n",
    "print(f' Test Accuracy:  {round(100*accuracy_score(y_test_CatPred, y_pred_arXivCat, normalize=True),2)}%')\n",
    "print(f\" Test F1-score macro: {round(100*f1_score(y_test_CatPred, y_pred_arXivCat, average='macro'),2)}%\")\n",
    "print(f\" Test F1-score micro: {round(100*f1_score(y_test_CatPred, y_pred_arXivCat, average='micro'),2)}%\")\n",
    "print(f\" Test F1-score weighted: {round(100*f1_score(y_test_CatPred, y_pred_arXivCat, average='weighted'),2)}%\")"
   ]
  },
  {
   "cell_type": "markdown",
   "id": "a142f008",
   "metadata": {},
   "source": [
    "**Conclusion)** Three-character MSC classes are much finer target variables. Indeed, the classification metrics improve when one tries to obtain two-character MSC classes or the primary arXiv category based on the predicted three-character MSC classes.  "
   ]
  },
  {
   "cell_type": "markdown",
   "id": "ef06585f",
   "metadata": {},
   "source": [
    "https://towardsdatascience.com/multi-label-classification-using-bag-of-words-bow-and-tf-idf-4f95858740e5 (BoW and Tf-idf with sparse vectors, toxic comments dataset)\n",
    "\n",
    "https://medium.com/analytics-vidhya/an-introduction-to-multi-label-text-classification-b1bcb7c7364c (Discusses Classifier Chain, uses the Kaggle research topics dataset)\n",
    "\n",
    "https://towardsdatascience.com/journey-to-the-center-of-multi-label-classification-384c40229bff (Various techniques, OnevsRest, Binary Relevance etc, toxic comment dataset)\n",
    "\n",
    "**************************************************************\n",
    "\n",
    "NLP Zero to Hero (IMDB sentiment analysis)\n",
    "\n",
    "https://medium.com/@prateekgaurav/nlp-zero-to-hero-part-1-introduction-bow-tf-idf-word2vec-c1b11ed77a2\n",
    "https://medium.com/@prateekgaurav/nlp-zero-to-hero-part-2-vanilla-rnn-lstm-gru-bi-directional-lstm-77fd60fc0b44\n",
    "https://medium.com/@prateekgaurav/nlp-zero-to-hero-part-3-transformer-based-models-conclusion-8191186301a9\n",
    "\n",
    "\n",
    "*****************************************************************\n",
    "\n",
    "Much more relevant, problems with many labels\n",
    "\n",
    "https://www.kdnuggets.com/2023/03/multilabel-nlp-analysis-class-imbalance-loss-function-approaches.html\n",
    "\n",
    "https://keras.io/examples/nlp/multi_label_classification/\n",
    "\n",
    "(Hugging Face: https://discuss.huggingface.co/t/most-efficient-multi-label-classifier/9296)\n",
    "\n",
    "******************************************************************\n",
    "\n",
    "Multioutput \n",
    "https://www.kdnuggets.com/2023/08/multilabel-classification-introduction-python-scikitlearn.html\n",
    "\n",
    "Multioutput vs OnevsRest for Multilabel classification\n",
    "https://stackoverflow.com/questions/42819460/what-is-the-difference-between-onevsrestclassifier-and-multioutputclassifier-in\n",
    "\n",
    "\n",
    "******************************************************************\n",
    "\n",
    " https://stackoverflow.com/questions/54402210/how-to-enable-probability-estimates-when-using-scikitlearns-linearsvc-classifie. https://stats.stackexchange.com/questions/263393/scikit-correct-way-to-calibrate-classifiers-with-calibratedclassifiercv"
   ]
  }
 ],
 "metadata": {
  "kernelspec": {
   "display_name": "Python 3 (ipykernel)",
   "language": "python",
   "name": "python3"
  },
  "language_info": {
   "codemirror_mode": {
    "name": "ipython",
    "version": 3
   },
   "file_extension": ".py",
   "mimetype": "text/x-python",
   "name": "python",
   "nbconvert_exporter": "python",
   "pygments_lexer": "ipython3",
   "version": "3.11.5"
  }
 },
 "nbformat": 4,
 "nbformat_minor": 5
}

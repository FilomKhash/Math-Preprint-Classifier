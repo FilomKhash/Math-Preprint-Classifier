{
 "cells": [
  {
   "cell_type": "code",
   "execution_count": 1,
   "id": "a73544c8",
   "metadata": {},
   "outputs": [
    {
     "name": "stdout",
     "output_type": "stream",
     "text": [
      "Importing necessary libraries...\n",
      "\n",
      "WARNING:tensorflow:From C:\\Users\\khash\\anaconda3\\Lib\\site-packages\\keras\\src\\losses.py:2976: The name tf.losses.sparse_softmax_cross_entropy is deprecated. Please use tf.compat.v1.losses.sparse_softmax_cross_entropy instead.\n",
      "\n"
     ]
    }
   ],
   "source": [
    "import numpy as np\n",
    "import pandas as pd\n",
    "import pickle as pkl\n",
    "import gzip\n",
    "import json\n",
    "import arxiv\n",
    "from nltk.corpus import stopwords\n",
    "from nltk.stem.snowball import SnowballStemmer\n",
    "from unidecode import unidecode\n",
    "import re\n",
    "import os\n",
    "from scipy import sparse\n",
    "import warnings\n",
    "from tensorflow.keras.preprocessing.sequence import pad_sequences\n",
    "\n",
    "\n",
    "\n",
    "#Importing the classes we defined before in which some of our saved models come.\n",
    "#https://stackoverflow.com/questions/27732354/unable-to-load-files-using-pickle-and-multiple-modules\n",
    "from Concat import ConcatModels\n",
    "from Reduction import clf_reduction"
   ]
  },
  {
   "cell_type": "code",
   "execution_count": 2,
   "id": "eb6ec25e",
   "metadata": {},
   "outputs": [
    {
     "name": "stdout",
     "output_type": "stream",
     "text": [
      "WARNING:tensorflow:From C:\\Users\\khash\\anaconda3\\Lib\\site-packages\\keras\\src\\backend.py:1398: The name tf.executing_eagerly_outside_functions is deprecated. Please use tf.compat.v1.executing_eagerly_outside_functions instead.\n",
      "\n",
      "13.780048847198486\n"
     ]
    }
   ],
   "source": [
    "import time\n",
    "time_start=time.time()\n",
    "clf=math_classifier()\n",
    "time_end=time.time()\n",
    "print(time_end-time_start)"
   ]
  },
  {
   "cell_type": "code",
   "execution_count": 28,
   "id": "eddbd5df",
   "metadata": {},
   "outputs": [
    {
     "data": {
      "text/plain": [
       "{'3-character MSC': [('35Q', 0.22), ('35J', 0.15)],\n",
       " '2-character MSC': [('35', 0.22)],\n",
       " 'Primary Category': ('math.AP', 0.63)}"
      ]
     },
     "execution_count": 28,
     "metadata": {},
     "output_type": "execute_result"
    }
   ],
   "source": [
    "clf.predict(text=\"Continuity of the temperature in a multi-phase transition problem\")"
   ]
  },
  {
   "cell_type": "code",
   "execution_count": 29,
   "id": "411685b6",
   "metadata": {},
   "outputs": [
    {
     "data": {
      "text/plain": [
       "{'3-character MSC': [('57M', 0.32)],\n",
       " '2-character MSC': [('57', 0.32)],\n",
       " 'Primary Category': ('math.DS', 0.44)}"
      ]
     },
     "execution_count": 29,
     "metadata": {},
     "output_type": "execute_result"
    }
   ],
   "source": [
    "clf.predict(text=\"On the rank of the Thurston pullback map  Under some mild assumptions, an orientation-preserving branched covering map of marked 2-spheres induces a pullback map between the corresponding Teichmüller spaces. By analyzing the associated pushforward operator acting on integrable quadratic differentials, we obtain a global lower bound on the rank of the derivative of the pullback map in terms of the action of the cover on the marked points. In the dynamical context, the two sets of marked points in the target and source coincide with the postcritical set. Investigating the resulting pullback map is the central part of Thurston's topological characterization of postcritically finite rational maps. Postcritically finite maps with constant pullback have been studied by various authors. In that direction, our approach provides upper bounds on the size of the postcritical set of a map with constant pullback, and shows that the postcritical dynamics is highly restricted.\")"
   ]
  },
  {
   "cell_type": "code",
   "execution_count": 30,
   "id": "60537627",
   "metadata": {},
   "outputs": [
    {
     "data": {
      "text/plain": [
       "{'3-character MSC': [('11G', 0.35), ('14H', 0.12)],\n",
       " '2-character MSC': [('11', 0.35), ('14', 0.12)],\n",
       " 'Primary Category': ('math.NT', 0.35)}"
      ]
     },
     "execution_count": 30,
     "metadata": {},
     "output_type": "execute_result"
    }
   ],
   "source": [
    "clf.predict(text=\"The Belyi Characterization of a Class of Modular Curves\")"
   ]
  },
  {
   "cell_type": "code",
   "execution_count": 31,
   "id": "d9f0e43e",
   "metadata": {},
   "outputs": [
    {
     "data": {
      "text/plain": [
       "{'3-character MSC': [('68T', 0.09), ('35Q', 0.3)],\n",
       " '2-character MSC': [('68', 0.09), ('35', 0.3)],\n",
       " 'Primary Category': ('math.AP', 0.31)}"
      ]
     },
     "execution_count": 31,
     "metadata": {},
     "output_type": "execute_result"
    }
   ],
   "source": [
    "clf.predict(text=\"On PDE characterization of smooth hierarchical functions computed by neural networks\")"
   ]
  }
 ],
 "metadata": {
  "kernelspec": {
   "display_name": "Python 3 (ipykernel)",
   "language": "python",
   "name": "python3"
  },
  "language_info": {
   "codemirror_mode": {
    "name": "ipython",
    "version": 3
   },
   "file_extension": ".py",
   "mimetype": "text/x-python",
   "name": "python",
   "nbconvert_exporter": "python",
   "pygments_lexer": "ipython3",
   "version": "3.11.5"
  }
 },
 "nbformat": 4,
 "nbformat_minor": 5
}
